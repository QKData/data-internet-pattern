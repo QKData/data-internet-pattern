{
 "cells": [
  {
   "source": "# Analyzing global internet patterns\n\n## 📖 Background\nIn this competition, you'll be exploring a dataset that highlights internet usage for different countries from 2000 to 2023. Your goal is import, clean, analyze and visualize the data in your preferred tool.\n\nThe end goal will be a clean, self explanatory, and interactive visualization. By conducting a thorough analysis, you'll dive deeper into how internet usage has changed over time and the countries still widely impacted by lack of internet availability. \n\n\n## 💾 Data\n\n#### You have access to the following file, but you can supplement your data with other sources to enrich your analysis. \n\n### Interet Usage (`internet_usage.csv`)\n|   Column name  |   Description | \n|---------------|-----------|\n| Country Name | Name of the country |\n| Country Code | Countries 3 character country code|\n| 2000 | Contains the % of population of individuals using the internet in 2000  |\n| 2001 | Contains the % of population of individuals using the internet in 2001  |\n| 2002 | Contains the % of population of individuals using the internet in 2002  |\n| 2003 | Contains the % of population of individuals using the internet in 2003  |\n| .... | ...  |\n| 2023 | Contains the % of population of individuals using the internet in 2023  |\n\n**The data can be downloaded from the _Files_ section (_File_ > _Show workbook files_).**",
   "metadata": {},
   "id": "17d5eb28-8577-401b-a28d-00e9858b4bb4",
   "cell_type": "markdown"
  },
  {
   "source": [
    "## 💪 Challenge\n",
    "Use a tool of your choice to create an interesting visual or dashboard that summarizes your analysis! \n",
    "\n",
    "Things to consider:\n",
    "1. Use this Workspace to prepare your data (optional).\n",
    "2. Stuck on where to start, here's some ideas to get you started: \n",
    "    - Visualize internet usage over time, by country\n",
    "    - How has internet usage changed over time, are there any patterns emerging? \n",
    "    - Consider bringing in other data to supplement your analysis \n",
    "3. Create a screenshot of your main dashboard / visuals, and paste in the designated field. \n",
    "4. Summarize your findings in an executive summary."
   ],
   "metadata": {},
   "id": "773a7fa2-1c58-40a5-bc16-8742d7df2cab",
   "cell_type": "markdown"
  },
  {
   "source": [
    "## 🧾 Executive summary\n",
    "The analysis of global internet usage from 2000 to 2023 reveals dramatic shifts in digital connectivity across nations, highlighting both remarkable progress and persistent digital divides. The data demonstrates three key findings:\n",
    "\n",
    "1. Widespread Digital Transformation\n",
    "- Most developed nations have achieved near-universal internet access (>95%) by 2023\n",
    "- The Gulf states (Saudi Arabia, Qatar, UAE) showed the most dramatic growth, moving from <10% in 2000 to >95% by 2023\n",
    "- Nordic countries like Iceland and Norway were early adopters, maintaining consistently high usage rates\n",
    "\n",
    "2. Persistent Digital Divide\n",
    "- Central African nations continue to have the lowest internet penetration rates (<20%)\n",
    "- Countries like South Sudan, Central African Republic, and Chad show minimal growth over the 23-year period\n",
    "- North Korea maintains negligible internet usage throughout the period\n",
    "3. Regional Disparities\n",
    "- Europe and North America achieved high penetration rates early\n",
    "- Middle Eastern countries showed the fastest growth rates\n",
    "- Sub-Saharan Africa remains significantly behind, though with some improvement\n",
    "- Asia shows mixed results, with advanced economies achieving high penetration while developing nations lag"
   ],
   "metadata": {},
   "id": "7a340980-0865-437a-bffa-36c7a96bcb7e",
   "cell_type": "markdown"
  },
  {
   "metadata": {},
   "cell_type": "markdown",
   "source": "# 1. Importing the necessary libraries",
   "id": "6faf30869e11ba14"
  },
  {
   "metadata": {
    "ExecuteTime": {
     "end_time": "2025-02-08T04:57:03.576555Z",
     "start_time": "2025-02-08T04:57:03.361553Z"
    }
   },
   "cell_type": "code",
   "source": [
    "# Importing the necessary libraries\n",
    "import pandas as pd\n",
    "import matplotlib.pyplot as plt\n",
    "import seaborn as sns\n",
    "import plotly.express as px"
   ],
   "id": "3145af69dfd5dfa3",
   "outputs": [],
   "execution_count": 101
  },
  {
   "metadata": {
    "ExecuteTime": {
     "end_time": "2025-02-08T03:28:21.356882Z",
     "start_time": "2025-02-08T03:28:21.328903Z"
    }
   },
   "cell_type": "code",
   "source": [
    "# Loading the data\n",
    "df = pd.read_csv('data/internet_usage.csv')"
   ],
   "id": "19770eb3cf3066f6",
   "outputs": [],
   "execution_count": 11
  },
  {
   "metadata": {
    "ExecuteTime": {
     "end_time": "2025-02-08T03:28:55.071630Z",
     "start_time": "2025-02-08T03:28:55.048115Z"
    }
   },
   "cell_type": "code",
   "source": [
    "# Displaying the first 10 rows of the dataframe\n",
    "df.head(10)"
   ],
   "id": "e54a6d63a452b3eb",
   "outputs": [
    {
     "data": {
      "text/plain": [
       "          Country Name Country Code      2000        2001       2002  \\\n",
       "0          Afghanistan          AFG        ..  0.00472257  0.0045614   \n",
       "1              Albania          ALB  0.114097    0.325798   0.390081   \n",
       "2              Algeria          DZA  0.491706    0.646114    1.59164   \n",
       "3       American Samoa          ASM        ..          ..         ..   \n",
       "4              Andorra          AND   10.5388          ..    11.2605   \n",
       "5               Angola          AGO  0.105046    0.136014   0.270377   \n",
       "6  Antigua and Barbuda          ATG   6.48223     8.89929       12.5   \n",
       "7            Argentina          ARG   7.03868     9.78081    10.8821   \n",
       "8              Armenia          ARM   1.30047     1.63109    1.96041   \n",
       "9                Aruba          ABW   15.4428        17.1       18.8   \n",
       "\n",
       "        2003      2004     2005     2006     2007  ...     2014     2015  \\\n",
       "0  0.0878913  0.105809  1.22415  2.10712      1.9  ...        7     8.26   \n",
       "1     0.9719   2.42039  6.04389  9.60999  15.0361  ...     54.3     56.9   \n",
       "2    2.19536   4.63448  5.84394  7.37598  9.45119  ...     29.5     38.2   \n",
       "3         ..        ..       ..       ..       ..  ...       ..       ..   \n",
       "4    13.5464    26.838  37.6058  48.9368    70.87  ...     86.1     87.9   \n",
       "5   0.370682  0.464815  1.14337      1.5      1.7  ...  21.3623       22   \n",
       "6    17.2286   24.2665       27       30       34  ...    67.78       70   \n",
       "7    11.9137   16.0367  17.7206  20.9272  25.9466  ...     64.7  68.0431   \n",
       "8    4.57522   4.89901  5.25298  5.63179  6.02125  ...  54.6228  59.1008   \n",
       "9       20.8        23     25.4       28     30.9  ...    83.78  88.6612   \n",
       "\n",
       "      2016     2017     2018     2019     2020     2021     2022     2023  \n",
       "0       11     13.5     16.8     17.6     18.4       ..       ..       ..  \n",
       "1     59.6     62.4     65.4  68.5504  72.2377  79.3237  82.6137  83.1356  \n",
       "2  42.9455  47.6911  49.0385  58.9776  60.6534  66.2356  71.2432       ..  \n",
       "3       ..       ..       ..       ..       ..       ..       ..       ..  \n",
       "4     89.7  91.5675       ..  90.7187  93.2056  93.8975  94.4855       ..  \n",
       "5     23.2       26       29  32.1294  36.6347  37.8067  39.2935       ..  \n",
       "6       73     76.2     79.6     83.2  86.8837   87.074  91.4123       ..  \n",
       "7   70.969  74.2949     77.7   79.947  85.5144  87.1507  88.3754   89.229  \n",
       "8   64.346  64.7449  68.2451  66.5439  76.5077  78.6123  77.0277       ..  \n",
       "9  93.5425    97.17       ..       ..       ..       ..       ..       ..  \n",
       "\n",
       "[10 rows x 26 columns]"
      ],
      "text/html": [
       "<div>\n",
       "<style scoped>\n",
       "    .dataframe tbody tr th:only-of-type {\n",
       "        vertical-align: middle;\n",
       "    }\n",
       "\n",
       "    .dataframe tbody tr th {\n",
       "        vertical-align: top;\n",
       "    }\n",
       "\n",
       "    .dataframe thead th {\n",
       "        text-align: right;\n",
       "    }\n",
       "</style>\n",
       "<table border=\"1\" class=\"dataframe\">\n",
       "  <thead>\n",
       "    <tr style=\"text-align: right;\">\n",
       "      <th></th>\n",
       "      <th>Country Name</th>\n",
       "      <th>Country Code</th>\n",
       "      <th>2000</th>\n",
       "      <th>2001</th>\n",
       "      <th>2002</th>\n",
       "      <th>2003</th>\n",
       "      <th>2004</th>\n",
       "      <th>2005</th>\n",
       "      <th>2006</th>\n",
       "      <th>2007</th>\n",
       "      <th>...</th>\n",
       "      <th>2014</th>\n",
       "      <th>2015</th>\n",
       "      <th>2016</th>\n",
       "      <th>2017</th>\n",
       "      <th>2018</th>\n",
       "      <th>2019</th>\n",
       "      <th>2020</th>\n",
       "      <th>2021</th>\n",
       "      <th>2022</th>\n",
       "      <th>2023</th>\n",
       "    </tr>\n",
       "  </thead>\n",
       "  <tbody>\n",
       "    <tr>\n",
       "      <th>0</th>\n",
       "      <td>Afghanistan</td>\n",
       "      <td>AFG</td>\n",
       "      <td>..</td>\n",
       "      <td>0.00472257</td>\n",
       "      <td>0.0045614</td>\n",
       "      <td>0.0878913</td>\n",
       "      <td>0.105809</td>\n",
       "      <td>1.22415</td>\n",
       "      <td>2.10712</td>\n",
       "      <td>1.9</td>\n",
       "      <td>...</td>\n",
       "      <td>7</td>\n",
       "      <td>8.26</td>\n",
       "      <td>11</td>\n",
       "      <td>13.5</td>\n",
       "      <td>16.8</td>\n",
       "      <td>17.6</td>\n",
       "      <td>18.4</td>\n",
       "      <td>..</td>\n",
       "      <td>..</td>\n",
       "      <td>..</td>\n",
       "    </tr>\n",
       "    <tr>\n",
       "      <th>1</th>\n",
       "      <td>Albania</td>\n",
       "      <td>ALB</td>\n",
       "      <td>0.114097</td>\n",
       "      <td>0.325798</td>\n",
       "      <td>0.390081</td>\n",
       "      <td>0.9719</td>\n",
       "      <td>2.42039</td>\n",
       "      <td>6.04389</td>\n",
       "      <td>9.60999</td>\n",
       "      <td>15.0361</td>\n",
       "      <td>...</td>\n",
       "      <td>54.3</td>\n",
       "      <td>56.9</td>\n",
       "      <td>59.6</td>\n",
       "      <td>62.4</td>\n",
       "      <td>65.4</td>\n",
       "      <td>68.5504</td>\n",
       "      <td>72.2377</td>\n",
       "      <td>79.3237</td>\n",
       "      <td>82.6137</td>\n",
       "      <td>83.1356</td>\n",
       "    </tr>\n",
       "    <tr>\n",
       "      <th>2</th>\n",
       "      <td>Algeria</td>\n",
       "      <td>DZA</td>\n",
       "      <td>0.491706</td>\n",
       "      <td>0.646114</td>\n",
       "      <td>1.59164</td>\n",
       "      <td>2.19536</td>\n",
       "      <td>4.63448</td>\n",
       "      <td>5.84394</td>\n",
       "      <td>7.37598</td>\n",
       "      <td>9.45119</td>\n",
       "      <td>...</td>\n",
       "      <td>29.5</td>\n",
       "      <td>38.2</td>\n",
       "      <td>42.9455</td>\n",
       "      <td>47.6911</td>\n",
       "      <td>49.0385</td>\n",
       "      <td>58.9776</td>\n",
       "      <td>60.6534</td>\n",
       "      <td>66.2356</td>\n",
       "      <td>71.2432</td>\n",
       "      <td>..</td>\n",
       "    </tr>\n",
       "    <tr>\n",
       "      <th>3</th>\n",
       "      <td>American Samoa</td>\n",
       "      <td>ASM</td>\n",
       "      <td>..</td>\n",
       "      <td>..</td>\n",
       "      <td>..</td>\n",
       "      <td>..</td>\n",
       "      <td>..</td>\n",
       "      <td>..</td>\n",
       "      <td>..</td>\n",
       "      <td>..</td>\n",
       "      <td>...</td>\n",
       "      <td>..</td>\n",
       "      <td>..</td>\n",
       "      <td>..</td>\n",
       "      <td>..</td>\n",
       "      <td>..</td>\n",
       "      <td>..</td>\n",
       "      <td>..</td>\n",
       "      <td>..</td>\n",
       "      <td>..</td>\n",
       "      <td>..</td>\n",
       "    </tr>\n",
       "    <tr>\n",
       "      <th>4</th>\n",
       "      <td>Andorra</td>\n",
       "      <td>AND</td>\n",
       "      <td>10.5388</td>\n",
       "      <td>..</td>\n",
       "      <td>11.2605</td>\n",
       "      <td>13.5464</td>\n",
       "      <td>26.838</td>\n",
       "      <td>37.6058</td>\n",
       "      <td>48.9368</td>\n",
       "      <td>70.87</td>\n",
       "      <td>...</td>\n",
       "      <td>86.1</td>\n",
       "      <td>87.9</td>\n",
       "      <td>89.7</td>\n",
       "      <td>91.5675</td>\n",
       "      <td>..</td>\n",
       "      <td>90.7187</td>\n",
       "      <td>93.2056</td>\n",
       "      <td>93.8975</td>\n",
       "      <td>94.4855</td>\n",
       "      <td>..</td>\n",
       "    </tr>\n",
       "    <tr>\n",
       "      <th>5</th>\n",
       "      <td>Angola</td>\n",
       "      <td>AGO</td>\n",
       "      <td>0.105046</td>\n",
       "      <td>0.136014</td>\n",
       "      <td>0.270377</td>\n",
       "      <td>0.370682</td>\n",
       "      <td>0.464815</td>\n",
       "      <td>1.14337</td>\n",
       "      <td>1.5</td>\n",
       "      <td>1.7</td>\n",
       "      <td>...</td>\n",
       "      <td>21.3623</td>\n",
       "      <td>22</td>\n",
       "      <td>23.2</td>\n",
       "      <td>26</td>\n",
       "      <td>29</td>\n",
       "      <td>32.1294</td>\n",
       "      <td>36.6347</td>\n",
       "      <td>37.8067</td>\n",
       "      <td>39.2935</td>\n",
       "      <td>..</td>\n",
       "    </tr>\n",
       "    <tr>\n",
       "      <th>6</th>\n",
       "      <td>Antigua and Barbuda</td>\n",
       "      <td>ATG</td>\n",
       "      <td>6.48223</td>\n",
       "      <td>8.89929</td>\n",
       "      <td>12.5</td>\n",
       "      <td>17.2286</td>\n",
       "      <td>24.2665</td>\n",
       "      <td>27</td>\n",
       "      <td>30</td>\n",
       "      <td>34</td>\n",
       "      <td>...</td>\n",
       "      <td>67.78</td>\n",
       "      <td>70</td>\n",
       "      <td>73</td>\n",
       "      <td>76.2</td>\n",
       "      <td>79.6</td>\n",
       "      <td>83.2</td>\n",
       "      <td>86.8837</td>\n",
       "      <td>87.074</td>\n",
       "      <td>91.4123</td>\n",
       "      <td>..</td>\n",
       "    </tr>\n",
       "    <tr>\n",
       "      <th>7</th>\n",
       "      <td>Argentina</td>\n",
       "      <td>ARG</td>\n",
       "      <td>7.03868</td>\n",
       "      <td>9.78081</td>\n",
       "      <td>10.8821</td>\n",
       "      <td>11.9137</td>\n",
       "      <td>16.0367</td>\n",
       "      <td>17.7206</td>\n",
       "      <td>20.9272</td>\n",
       "      <td>25.9466</td>\n",
       "      <td>...</td>\n",
       "      <td>64.7</td>\n",
       "      <td>68.0431</td>\n",
       "      <td>70.969</td>\n",
       "      <td>74.2949</td>\n",
       "      <td>77.7</td>\n",
       "      <td>79.947</td>\n",
       "      <td>85.5144</td>\n",
       "      <td>87.1507</td>\n",
       "      <td>88.3754</td>\n",
       "      <td>89.229</td>\n",
       "    </tr>\n",
       "    <tr>\n",
       "      <th>8</th>\n",
       "      <td>Armenia</td>\n",
       "      <td>ARM</td>\n",
       "      <td>1.30047</td>\n",
       "      <td>1.63109</td>\n",
       "      <td>1.96041</td>\n",
       "      <td>4.57522</td>\n",
       "      <td>4.89901</td>\n",
       "      <td>5.25298</td>\n",
       "      <td>5.63179</td>\n",
       "      <td>6.02125</td>\n",
       "      <td>...</td>\n",
       "      <td>54.6228</td>\n",
       "      <td>59.1008</td>\n",
       "      <td>64.346</td>\n",
       "      <td>64.7449</td>\n",
       "      <td>68.2451</td>\n",
       "      <td>66.5439</td>\n",
       "      <td>76.5077</td>\n",
       "      <td>78.6123</td>\n",
       "      <td>77.0277</td>\n",
       "      <td>..</td>\n",
       "    </tr>\n",
       "    <tr>\n",
       "      <th>9</th>\n",
       "      <td>Aruba</td>\n",
       "      <td>ABW</td>\n",
       "      <td>15.4428</td>\n",
       "      <td>17.1</td>\n",
       "      <td>18.8</td>\n",
       "      <td>20.8</td>\n",
       "      <td>23</td>\n",
       "      <td>25.4</td>\n",
       "      <td>28</td>\n",
       "      <td>30.9</td>\n",
       "      <td>...</td>\n",
       "      <td>83.78</td>\n",
       "      <td>88.6612</td>\n",
       "      <td>93.5425</td>\n",
       "      <td>97.17</td>\n",
       "      <td>..</td>\n",
       "      <td>..</td>\n",
       "      <td>..</td>\n",
       "      <td>..</td>\n",
       "      <td>..</td>\n",
       "      <td>..</td>\n",
       "    </tr>\n",
       "  </tbody>\n",
       "</table>\n",
       "<p>10 rows × 26 columns</p>\n",
       "</div>"
      ]
     },
     "execution_count": 14,
     "metadata": {},
     "output_type": "execute_result"
    }
   ],
   "execution_count": 14
  },
  {
   "metadata": {
    "ExecuteTime": {
     "end_time": "2025-02-08T03:29:34.481204Z",
     "start_time": "2025-02-08T03:29:34.451727Z"
    }
   },
   "cell_type": "code",
   "source": "df.info()",
   "id": "d6777de0841af23d",
   "outputs": [
    {
     "name": "stdout",
     "output_type": "stream",
     "text": [
      "<class 'pandas.core.frame.DataFrame'>\n",
      "RangeIndex: 217 entries, 0 to 216\n",
      "Data columns (total 26 columns):\n",
      " #   Column        Non-Null Count  Dtype \n",
      "---  ------        --------------  ----- \n",
      " 0   Country Name  217 non-null    object\n",
      " 1   Country Code  217 non-null    object\n",
      " 2   2000          217 non-null    object\n",
      " 3   2001          217 non-null    object\n",
      " 4   2002          217 non-null    object\n",
      " 5   2003          217 non-null    object\n",
      " 6   2004          217 non-null    object\n",
      " 7   2005          217 non-null    object\n",
      " 8   2006          217 non-null    object\n",
      " 9   2007          217 non-null    object\n",
      " 10  2008          217 non-null    object\n",
      " 11  2009          217 non-null    object\n",
      " 12  2010          217 non-null    object\n",
      " 13  2011          217 non-null    object\n",
      " 14  2012          217 non-null    object\n",
      " 15  2013          217 non-null    object\n",
      " 16  2014          217 non-null    object\n",
      " 17  2015          217 non-null    object\n",
      " 18  2016          217 non-null    object\n",
      " 19  2017          217 non-null    object\n",
      " 20  2018          217 non-null    object\n",
      " 21  2019          217 non-null    object\n",
      " 22  2020          217 non-null    object\n",
      " 23  2021          217 non-null    object\n",
      " 24  2022          217 non-null    object\n",
      " 25  2023          217 non-null    object\n",
      "dtypes: object(26)\n",
      "memory usage: 44.2+ KB\n"
     ]
    }
   ],
   "execution_count": 15
  },
  {
   "metadata": {
    "ExecuteTime": {
     "end_time": "2025-02-08T03:29:57.934400Z",
     "start_time": "2025-02-08T03:29:57.889573Z"
    }
   },
   "cell_type": "code",
   "source": "df.describe()",
   "id": "f6e52e5a22bee77a",
   "outputs": [
    {
     "data": {
      "text/plain": [
       "       Country Name Country Code 2000 2001 2002 2003 2004 2005 2006 2007  ...  \\\n",
       "count           217          217  217  217  217  217  217  217  217  217  ...   \n",
       "unique          217          217  197  200  202  196  198  199  199  197  ...   \n",
       "top     Afghanistan          AFG   ..   ..   ..   ..   ..   ..   ..   ..  ...   \n",
       "freq              1            1   21   18   15   21   18   17   18   13  ...   \n",
       "\n",
       "       2014 2015 2016 2017 2018 2019 2020 2021 2022 2023  \n",
       "count   217  217  217  217  217  217  217  217  217  217  \n",
       "unique  194  196  199  203  175  183  191  185  178   58  \n",
       "top      ..   ..   ..   ..   ..   ..   ..   ..   ..   ..  \n",
       "freq     16   17   14   11   41   31   25   27   34  158  \n",
       "\n",
       "[4 rows x 26 columns]"
      ],
      "text/html": [
       "<div>\n",
       "<style scoped>\n",
       "    .dataframe tbody tr th:only-of-type {\n",
       "        vertical-align: middle;\n",
       "    }\n",
       "\n",
       "    .dataframe tbody tr th {\n",
       "        vertical-align: top;\n",
       "    }\n",
       "\n",
       "    .dataframe thead th {\n",
       "        text-align: right;\n",
       "    }\n",
       "</style>\n",
       "<table border=\"1\" class=\"dataframe\">\n",
       "  <thead>\n",
       "    <tr style=\"text-align: right;\">\n",
       "      <th></th>\n",
       "      <th>Country Name</th>\n",
       "      <th>Country Code</th>\n",
       "      <th>2000</th>\n",
       "      <th>2001</th>\n",
       "      <th>2002</th>\n",
       "      <th>2003</th>\n",
       "      <th>2004</th>\n",
       "      <th>2005</th>\n",
       "      <th>2006</th>\n",
       "      <th>2007</th>\n",
       "      <th>...</th>\n",
       "      <th>2014</th>\n",
       "      <th>2015</th>\n",
       "      <th>2016</th>\n",
       "      <th>2017</th>\n",
       "      <th>2018</th>\n",
       "      <th>2019</th>\n",
       "      <th>2020</th>\n",
       "      <th>2021</th>\n",
       "      <th>2022</th>\n",
       "      <th>2023</th>\n",
       "    </tr>\n",
       "  </thead>\n",
       "  <tbody>\n",
       "    <tr>\n",
       "      <th>count</th>\n",
       "      <td>217</td>\n",
       "      <td>217</td>\n",
       "      <td>217</td>\n",
       "      <td>217</td>\n",
       "      <td>217</td>\n",
       "      <td>217</td>\n",
       "      <td>217</td>\n",
       "      <td>217</td>\n",
       "      <td>217</td>\n",
       "      <td>217</td>\n",
       "      <td>...</td>\n",
       "      <td>217</td>\n",
       "      <td>217</td>\n",
       "      <td>217</td>\n",
       "      <td>217</td>\n",
       "      <td>217</td>\n",
       "      <td>217</td>\n",
       "      <td>217</td>\n",
       "      <td>217</td>\n",
       "      <td>217</td>\n",
       "      <td>217</td>\n",
       "    </tr>\n",
       "    <tr>\n",
       "      <th>unique</th>\n",
       "      <td>217</td>\n",
       "      <td>217</td>\n",
       "      <td>197</td>\n",
       "      <td>200</td>\n",
       "      <td>202</td>\n",
       "      <td>196</td>\n",
       "      <td>198</td>\n",
       "      <td>199</td>\n",
       "      <td>199</td>\n",
       "      <td>197</td>\n",
       "      <td>...</td>\n",
       "      <td>194</td>\n",
       "      <td>196</td>\n",
       "      <td>199</td>\n",
       "      <td>203</td>\n",
       "      <td>175</td>\n",
       "      <td>183</td>\n",
       "      <td>191</td>\n",
       "      <td>185</td>\n",
       "      <td>178</td>\n",
       "      <td>58</td>\n",
       "    </tr>\n",
       "    <tr>\n",
       "      <th>top</th>\n",
       "      <td>Afghanistan</td>\n",
       "      <td>AFG</td>\n",
       "      <td>..</td>\n",
       "      <td>..</td>\n",
       "      <td>..</td>\n",
       "      <td>..</td>\n",
       "      <td>..</td>\n",
       "      <td>..</td>\n",
       "      <td>..</td>\n",
       "      <td>..</td>\n",
       "      <td>...</td>\n",
       "      <td>..</td>\n",
       "      <td>..</td>\n",
       "      <td>..</td>\n",
       "      <td>..</td>\n",
       "      <td>..</td>\n",
       "      <td>..</td>\n",
       "      <td>..</td>\n",
       "      <td>..</td>\n",
       "      <td>..</td>\n",
       "      <td>..</td>\n",
       "    </tr>\n",
       "    <tr>\n",
       "      <th>freq</th>\n",
       "      <td>1</td>\n",
       "      <td>1</td>\n",
       "      <td>21</td>\n",
       "      <td>18</td>\n",
       "      <td>15</td>\n",
       "      <td>21</td>\n",
       "      <td>18</td>\n",
       "      <td>17</td>\n",
       "      <td>18</td>\n",
       "      <td>13</td>\n",
       "      <td>...</td>\n",
       "      <td>16</td>\n",
       "      <td>17</td>\n",
       "      <td>14</td>\n",
       "      <td>11</td>\n",
       "      <td>41</td>\n",
       "      <td>31</td>\n",
       "      <td>25</td>\n",
       "      <td>27</td>\n",
       "      <td>34</td>\n",
       "      <td>158</td>\n",
       "    </tr>\n",
       "  </tbody>\n",
       "</table>\n",
       "<p>4 rows × 26 columns</p>\n",
       "</div>"
      ]
     },
     "execution_count": 16,
     "metadata": {},
     "output_type": "execute_result"
    }
   ],
   "execution_count": 16
  },
  {
   "metadata": {
    "ExecuteTime": {
     "end_time": "2025-02-08T03:31:14.290002Z",
     "start_time": "2025-02-08T03:31:14.276513Z"
    }
   },
   "cell_type": "code",
   "source": [
    "# Checking for missing values\n",
    "df.isnull().sum()"
   ],
   "id": "2b8242b9b513a744",
   "outputs": [
    {
     "data": {
      "text/plain": [
       "Country Name    0\n",
       "Country Code    0\n",
       "2000            0\n",
       "2001            0\n",
       "2002            0\n",
       "2003            0\n",
       "2004            0\n",
       "2005            0\n",
       "2006            0\n",
       "2007            0\n",
       "2008            0\n",
       "2009            0\n",
       "2010            0\n",
       "2011            0\n",
       "2012            0\n",
       "2013            0\n",
       "2014            0\n",
       "2015            0\n",
       "2016            0\n",
       "2017            0\n",
       "2018            0\n",
       "2019            0\n",
       "2020            0\n",
       "2021            0\n",
       "2022            0\n",
       "2023            0\n",
       "dtype: int64"
      ]
     },
     "execution_count": 17,
     "metadata": {},
     "output_type": "execute_result"
    }
   ],
   "execution_count": 17
  },
  {
   "metadata": {
    "ExecuteTime": {
     "end_time": "2025-02-08T03:31:18.305928Z",
     "start_time": "2025-02-08T03:31:18.292401Z"
    }
   },
   "cell_type": "code",
   "source": [
    "# Checking for duplicates\n",
    "df.duplicated().sum()"
   ],
   "id": "47e4fc2771c61eb0",
   "outputs": [
    {
     "data": {
      "text/plain": [
       "0"
      ]
     },
     "execution_count": 18,
     "metadata": {},
     "output_type": "execute_result"
    }
   ],
   "execution_count": 18
  },
  {
   "metadata": {},
   "cell_type": "markdown",
   "source": "# 2. EDA",
   "id": "c8789b1cf636fd4"
  },
  {
   "metadata": {
    "ExecuteTime": {
     "end_time": "2025-02-08T04:00:29.480597Z",
     "start_time": "2025-02-08T04:00:29.466584Z"
    }
   },
   "cell_type": "code",
   "source": [
    "# Because some countries have missing values \"..\" for some years, we will replace them with NaN\n",
    "df_mod = df.replace('..', pd.NA)"
   ],
   "id": "c3fe3c3eece5b57d",
   "outputs": [],
   "execution_count": 35
  },
  {
   "metadata": {
    "ExecuteTime": {
     "end_time": "2025-02-08T04:00:30.752201Z",
     "start_time": "2025-02-08T04:00:30.740705Z"
    }
   },
   "cell_type": "code",
   "source": [
    "# Converting the columns to numeric, some columns are converted to float because of the NaN values\n",
    "df_mod = df_mod.apply(pd.to_numeric, errors='ignore')"
   ],
   "id": "26e44f8ee3262574",
   "outputs": [
    {
     "name": "stderr",
     "output_type": "stream",
     "text": [
      "C:\\Users\\QKmd\\AppData\\Local\\Temp\\ipykernel_41968\\3614163041.py:2: FutureWarning: errors='ignore' is deprecated and will raise in a future version. Use to_numeric without passing `errors` and catch exceptions explicitly instead\n",
      "  df_mod = df_mod.apply(pd.to_numeric, errors='ignore')\n"
     ]
    }
   ],
   "execution_count": 36
  },
  {
   "metadata": {
    "ExecuteTime": {
     "end_time": "2025-02-08T04:17:38.682583Z",
     "start_time": "2025-02-08T04:17:38.664222Z"
    }
   },
   "cell_type": "code",
   "source": "df_mod.info()",
   "id": "b5ebd9022cd82b2c",
   "outputs": [
    {
     "name": "stdout",
     "output_type": "stream",
     "text": [
      "<class 'pandas.core.frame.DataFrame'>\n",
      "RangeIndex: 217 entries, 0 to 216\n",
      "Data columns (total 26 columns):\n",
      " #   Column        Non-Null Count  Dtype  \n",
      "---  ------        --------------  -----  \n",
      " 0   Country Name  217 non-null    object \n",
      " 1   Country Code  217 non-null    object \n",
      " 2   2000          196 non-null    float64\n",
      " 3   2001          199 non-null    float64\n",
      " 4   2002          202 non-null    float64\n",
      " 5   2003          196 non-null    float64\n",
      " 6   2004          199 non-null    float64\n",
      " 7   2005          200 non-null    float64\n",
      " 8   2006          199 non-null    float64\n",
      " 9   2007          204 non-null    float64\n",
      " 10  2008          202 non-null    float64\n",
      " 11  2009          202 non-null    float64\n",
      " 12  2010          201 non-null    float64\n",
      " 13  2011          204 non-null    float64\n",
      " 14  2012          202 non-null    float64\n",
      " 15  2013          201 non-null    float64\n",
      " 16  2014          201 non-null    float64\n",
      " 17  2015          200 non-null    float64\n",
      " 18  2016          203 non-null    float64\n",
      " 19  2017          206 non-null    float64\n",
      " 20  2018          176 non-null    float64\n",
      " 21  2019          186 non-null    float64\n",
      " 22  2020          192 non-null    float64\n",
      " 23  2021          190 non-null    float64\n",
      " 24  2022          183 non-null    float64\n",
      " 25  2023          59 non-null     float64\n",
      "dtypes: float64(24), object(2)\n",
      "memory usage: 44.2+ KB\n"
     ]
    }
   ],
   "execution_count": 56
  },
  {
   "metadata": {
    "ExecuteTime": {
     "end_time": "2025-02-08T04:29:26.425516Z",
     "start_time": "2025-02-08T04:29:26.403927Z"
    }
   },
   "cell_type": "code",
   "source": "df_mod.head()",
   "id": "ac48bcebfe1d2c2c",
   "outputs": [
    {
     "data": {
      "text/plain": [
       "     Country Name Country Code       2000      2001       2002       2003  \\\n",
       "0     Afghanistan          AFG        NaN  0.004723   0.004561   0.087891   \n",
       "1         Albania          ALB   0.114097  0.325798   0.390081   0.971900   \n",
       "2         Algeria          DZA   0.491706  0.646114   1.591640   2.195360   \n",
       "3  American Samoa          ASM        NaN       NaN        NaN        NaN   \n",
       "4         Andorra          AND  10.538800       NaN  11.260500  13.546400   \n",
       "\n",
       "        2004      2005      2006      2007  ...  2014   2015     2016  \\\n",
       "0   0.105809   1.22415   2.10712   1.90000  ...   7.0   8.26  11.0000   \n",
       "1   2.420390   6.04389   9.60999  15.03610  ...  54.3  56.90  59.6000   \n",
       "2   4.634480   5.84394   7.37598   9.45119  ...  29.5  38.20  42.9455   \n",
       "3        NaN       NaN       NaN       NaN  ...   NaN    NaN      NaN   \n",
       "4  26.838000  37.60580  48.93680  70.87000  ...  86.1  87.90  89.7000   \n",
       "\n",
       "      2017     2018     2019     2020     2021     2022     2023  \n",
       "0  13.5000  16.8000  17.6000  18.4000      NaN      NaN      NaN  \n",
       "1  62.4000  65.4000  68.5504  72.2377  79.3237  82.6137  83.1356  \n",
       "2  47.6911  49.0385  58.9776  60.6534  66.2356  71.2432      NaN  \n",
       "3      NaN      NaN      NaN      NaN      NaN      NaN      NaN  \n",
       "4  91.5675      NaN  90.7187  93.2056  93.8975  94.4855      NaN  \n",
       "\n",
       "[5 rows x 26 columns]"
      ],
      "text/html": [
       "<div>\n",
       "<style scoped>\n",
       "    .dataframe tbody tr th:only-of-type {\n",
       "        vertical-align: middle;\n",
       "    }\n",
       "\n",
       "    .dataframe tbody tr th {\n",
       "        vertical-align: top;\n",
       "    }\n",
       "\n",
       "    .dataframe thead th {\n",
       "        text-align: right;\n",
       "    }\n",
       "</style>\n",
       "<table border=\"1\" class=\"dataframe\">\n",
       "  <thead>\n",
       "    <tr style=\"text-align: right;\">\n",
       "      <th></th>\n",
       "      <th>Country Name</th>\n",
       "      <th>Country Code</th>\n",
       "      <th>2000</th>\n",
       "      <th>2001</th>\n",
       "      <th>2002</th>\n",
       "      <th>2003</th>\n",
       "      <th>2004</th>\n",
       "      <th>2005</th>\n",
       "      <th>2006</th>\n",
       "      <th>2007</th>\n",
       "      <th>...</th>\n",
       "      <th>2014</th>\n",
       "      <th>2015</th>\n",
       "      <th>2016</th>\n",
       "      <th>2017</th>\n",
       "      <th>2018</th>\n",
       "      <th>2019</th>\n",
       "      <th>2020</th>\n",
       "      <th>2021</th>\n",
       "      <th>2022</th>\n",
       "      <th>2023</th>\n",
       "    </tr>\n",
       "  </thead>\n",
       "  <tbody>\n",
       "    <tr>\n",
       "      <th>0</th>\n",
       "      <td>Afghanistan</td>\n",
       "      <td>AFG</td>\n",
       "      <td>NaN</td>\n",
       "      <td>0.004723</td>\n",
       "      <td>0.004561</td>\n",
       "      <td>0.087891</td>\n",
       "      <td>0.105809</td>\n",
       "      <td>1.22415</td>\n",
       "      <td>2.10712</td>\n",
       "      <td>1.90000</td>\n",
       "      <td>...</td>\n",
       "      <td>7.0</td>\n",
       "      <td>8.26</td>\n",
       "      <td>11.0000</td>\n",
       "      <td>13.5000</td>\n",
       "      <td>16.8000</td>\n",
       "      <td>17.6000</td>\n",
       "      <td>18.4000</td>\n",
       "      <td>NaN</td>\n",
       "      <td>NaN</td>\n",
       "      <td>NaN</td>\n",
       "    </tr>\n",
       "    <tr>\n",
       "      <th>1</th>\n",
       "      <td>Albania</td>\n",
       "      <td>ALB</td>\n",
       "      <td>0.114097</td>\n",
       "      <td>0.325798</td>\n",
       "      <td>0.390081</td>\n",
       "      <td>0.971900</td>\n",
       "      <td>2.420390</td>\n",
       "      <td>6.04389</td>\n",
       "      <td>9.60999</td>\n",
       "      <td>15.03610</td>\n",
       "      <td>...</td>\n",
       "      <td>54.3</td>\n",
       "      <td>56.90</td>\n",
       "      <td>59.6000</td>\n",
       "      <td>62.4000</td>\n",
       "      <td>65.4000</td>\n",
       "      <td>68.5504</td>\n",
       "      <td>72.2377</td>\n",
       "      <td>79.3237</td>\n",
       "      <td>82.6137</td>\n",
       "      <td>83.1356</td>\n",
       "    </tr>\n",
       "    <tr>\n",
       "      <th>2</th>\n",
       "      <td>Algeria</td>\n",
       "      <td>DZA</td>\n",
       "      <td>0.491706</td>\n",
       "      <td>0.646114</td>\n",
       "      <td>1.591640</td>\n",
       "      <td>2.195360</td>\n",
       "      <td>4.634480</td>\n",
       "      <td>5.84394</td>\n",
       "      <td>7.37598</td>\n",
       "      <td>9.45119</td>\n",
       "      <td>...</td>\n",
       "      <td>29.5</td>\n",
       "      <td>38.20</td>\n",
       "      <td>42.9455</td>\n",
       "      <td>47.6911</td>\n",
       "      <td>49.0385</td>\n",
       "      <td>58.9776</td>\n",
       "      <td>60.6534</td>\n",
       "      <td>66.2356</td>\n",
       "      <td>71.2432</td>\n",
       "      <td>NaN</td>\n",
       "    </tr>\n",
       "    <tr>\n",
       "      <th>3</th>\n",
       "      <td>American Samoa</td>\n",
       "      <td>ASM</td>\n",
       "      <td>NaN</td>\n",
       "      <td>NaN</td>\n",
       "      <td>NaN</td>\n",
       "      <td>NaN</td>\n",
       "      <td>NaN</td>\n",
       "      <td>NaN</td>\n",
       "      <td>NaN</td>\n",
       "      <td>NaN</td>\n",
       "      <td>...</td>\n",
       "      <td>NaN</td>\n",
       "      <td>NaN</td>\n",
       "      <td>NaN</td>\n",
       "      <td>NaN</td>\n",
       "      <td>NaN</td>\n",
       "      <td>NaN</td>\n",
       "      <td>NaN</td>\n",
       "      <td>NaN</td>\n",
       "      <td>NaN</td>\n",
       "      <td>NaN</td>\n",
       "    </tr>\n",
       "    <tr>\n",
       "      <th>4</th>\n",
       "      <td>Andorra</td>\n",
       "      <td>AND</td>\n",
       "      <td>10.538800</td>\n",
       "      <td>NaN</td>\n",
       "      <td>11.260500</td>\n",
       "      <td>13.546400</td>\n",
       "      <td>26.838000</td>\n",
       "      <td>37.60580</td>\n",
       "      <td>48.93680</td>\n",
       "      <td>70.87000</td>\n",
       "      <td>...</td>\n",
       "      <td>86.1</td>\n",
       "      <td>87.90</td>\n",
       "      <td>89.7000</td>\n",
       "      <td>91.5675</td>\n",
       "      <td>NaN</td>\n",
       "      <td>90.7187</td>\n",
       "      <td>93.2056</td>\n",
       "      <td>93.8975</td>\n",
       "      <td>94.4855</td>\n",
       "      <td>NaN</td>\n",
       "    </tr>\n",
       "  </tbody>\n",
       "</table>\n",
       "<p>5 rows × 26 columns</p>\n",
       "</div>"
      ]
     },
     "execution_count": 65,
     "metadata": {},
     "output_type": "execute_result"
    }
   ],
   "execution_count": 65
  },
  {
   "metadata": {
    "ExecuteTime": {
     "end_time": "2025-02-08T04:19:30.061422Z",
     "start_time": "2025-02-08T04:19:30.036363Z"
    }
   },
   "cell_type": "code",
   "source": [
    "# Check countries with NaN values in all years\n",
    "df_mod[df_mod.iloc[:, 2:].isnull().all(axis=1)]"
   ],
   "id": "33f881352be67863",
   "outputs": [
    {
     "data": {
      "text/plain": [
       "                  Country Name Country Code  2000  2001  2002  2003  2004  \\\n",
       "3               American Samoa          ASM   NaN   NaN   NaN   NaN   NaN   \n",
       "39             Channel Islands          CHI   NaN   NaN   NaN   NaN   NaN   \n",
       "94                 Isle of Man          IMN   NaN   NaN   NaN   NaN   NaN   \n",
       "146   Northern Mariana Islands          MNP   NaN   NaN   NaN   NaN   NaN   \n",
       "172  Sint Maarten (Dutch part)          SXM   NaN   NaN   NaN   NaN   NaN   \n",
       "183   St. Martin (French part)          MAF   NaN   NaN   NaN   NaN   NaN   \n",
       "200   Turks and Caicos Islands          TCA   NaN   NaN   NaN   NaN   NaN   \n",
       "\n",
       "     2005  2006  2007  ...  2014  2015  2016  2017  2018  2019  2020  2021  \\\n",
       "3     NaN   NaN   NaN  ...   NaN   NaN   NaN   NaN   NaN   NaN   NaN   NaN   \n",
       "39    NaN   NaN   NaN  ...   NaN   NaN   NaN   NaN   NaN   NaN   NaN   NaN   \n",
       "94    NaN   NaN   NaN  ...   NaN   NaN   NaN   NaN   NaN   NaN   NaN   NaN   \n",
       "146   NaN   NaN   NaN  ...   NaN   NaN   NaN   NaN   NaN   NaN   NaN   NaN   \n",
       "172   NaN   NaN   NaN  ...   NaN   NaN   NaN   NaN   NaN   NaN   NaN   NaN   \n",
       "183   NaN   NaN   NaN  ...   NaN   NaN   NaN   NaN   NaN   NaN   NaN   NaN   \n",
       "200   NaN   NaN   NaN  ...   NaN   NaN   NaN   NaN   NaN   NaN   NaN   NaN   \n",
       "\n",
       "     2022  2023  \n",
       "3     NaN   NaN  \n",
       "39    NaN   NaN  \n",
       "94    NaN   NaN  \n",
       "146   NaN   NaN  \n",
       "172   NaN   NaN  \n",
       "183   NaN   NaN  \n",
       "200   NaN   NaN  \n",
       "\n",
       "[7 rows x 26 columns]"
      ],
      "text/html": [
       "<div>\n",
       "<style scoped>\n",
       "    .dataframe tbody tr th:only-of-type {\n",
       "        vertical-align: middle;\n",
       "    }\n",
       "\n",
       "    .dataframe tbody tr th {\n",
       "        vertical-align: top;\n",
       "    }\n",
       "\n",
       "    .dataframe thead th {\n",
       "        text-align: right;\n",
       "    }\n",
       "</style>\n",
       "<table border=\"1\" class=\"dataframe\">\n",
       "  <thead>\n",
       "    <tr style=\"text-align: right;\">\n",
       "      <th></th>\n",
       "      <th>Country Name</th>\n",
       "      <th>Country Code</th>\n",
       "      <th>2000</th>\n",
       "      <th>2001</th>\n",
       "      <th>2002</th>\n",
       "      <th>2003</th>\n",
       "      <th>2004</th>\n",
       "      <th>2005</th>\n",
       "      <th>2006</th>\n",
       "      <th>2007</th>\n",
       "      <th>...</th>\n",
       "      <th>2014</th>\n",
       "      <th>2015</th>\n",
       "      <th>2016</th>\n",
       "      <th>2017</th>\n",
       "      <th>2018</th>\n",
       "      <th>2019</th>\n",
       "      <th>2020</th>\n",
       "      <th>2021</th>\n",
       "      <th>2022</th>\n",
       "      <th>2023</th>\n",
       "    </tr>\n",
       "  </thead>\n",
       "  <tbody>\n",
       "    <tr>\n",
       "      <th>3</th>\n",
       "      <td>American Samoa</td>\n",
       "      <td>ASM</td>\n",
       "      <td>NaN</td>\n",
       "      <td>NaN</td>\n",
       "      <td>NaN</td>\n",
       "      <td>NaN</td>\n",
       "      <td>NaN</td>\n",
       "      <td>NaN</td>\n",
       "      <td>NaN</td>\n",
       "      <td>NaN</td>\n",
       "      <td>...</td>\n",
       "      <td>NaN</td>\n",
       "      <td>NaN</td>\n",
       "      <td>NaN</td>\n",
       "      <td>NaN</td>\n",
       "      <td>NaN</td>\n",
       "      <td>NaN</td>\n",
       "      <td>NaN</td>\n",
       "      <td>NaN</td>\n",
       "      <td>NaN</td>\n",
       "      <td>NaN</td>\n",
       "    </tr>\n",
       "    <tr>\n",
       "      <th>39</th>\n",
       "      <td>Channel Islands</td>\n",
       "      <td>CHI</td>\n",
       "      <td>NaN</td>\n",
       "      <td>NaN</td>\n",
       "      <td>NaN</td>\n",
       "      <td>NaN</td>\n",
       "      <td>NaN</td>\n",
       "      <td>NaN</td>\n",
       "      <td>NaN</td>\n",
       "      <td>NaN</td>\n",
       "      <td>...</td>\n",
       "      <td>NaN</td>\n",
       "      <td>NaN</td>\n",
       "      <td>NaN</td>\n",
       "      <td>NaN</td>\n",
       "      <td>NaN</td>\n",
       "      <td>NaN</td>\n",
       "      <td>NaN</td>\n",
       "      <td>NaN</td>\n",
       "      <td>NaN</td>\n",
       "      <td>NaN</td>\n",
       "    </tr>\n",
       "    <tr>\n",
       "      <th>94</th>\n",
       "      <td>Isle of Man</td>\n",
       "      <td>IMN</td>\n",
       "      <td>NaN</td>\n",
       "      <td>NaN</td>\n",
       "      <td>NaN</td>\n",
       "      <td>NaN</td>\n",
       "      <td>NaN</td>\n",
       "      <td>NaN</td>\n",
       "      <td>NaN</td>\n",
       "      <td>NaN</td>\n",
       "      <td>...</td>\n",
       "      <td>NaN</td>\n",
       "      <td>NaN</td>\n",
       "      <td>NaN</td>\n",
       "      <td>NaN</td>\n",
       "      <td>NaN</td>\n",
       "      <td>NaN</td>\n",
       "      <td>NaN</td>\n",
       "      <td>NaN</td>\n",
       "      <td>NaN</td>\n",
       "      <td>NaN</td>\n",
       "    </tr>\n",
       "    <tr>\n",
       "      <th>146</th>\n",
       "      <td>Northern Mariana Islands</td>\n",
       "      <td>MNP</td>\n",
       "      <td>NaN</td>\n",
       "      <td>NaN</td>\n",
       "      <td>NaN</td>\n",
       "      <td>NaN</td>\n",
       "      <td>NaN</td>\n",
       "      <td>NaN</td>\n",
       "      <td>NaN</td>\n",
       "      <td>NaN</td>\n",
       "      <td>...</td>\n",
       "      <td>NaN</td>\n",
       "      <td>NaN</td>\n",
       "      <td>NaN</td>\n",
       "      <td>NaN</td>\n",
       "      <td>NaN</td>\n",
       "      <td>NaN</td>\n",
       "      <td>NaN</td>\n",
       "      <td>NaN</td>\n",
       "      <td>NaN</td>\n",
       "      <td>NaN</td>\n",
       "    </tr>\n",
       "    <tr>\n",
       "      <th>172</th>\n",
       "      <td>Sint Maarten (Dutch part)</td>\n",
       "      <td>SXM</td>\n",
       "      <td>NaN</td>\n",
       "      <td>NaN</td>\n",
       "      <td>NaN</td>\n",
       "      <td>NaN</td>\n",
       "      <td>NaN</td>\n",
       "      <td>NaN</td>\n",
       "      <td>NaN</td>\n",
       "      <td>NaN</td>\n",
       "      <td>...</td>\n",
       "      <td>NaN</td>\n",
       "      <td>NaN</td>\n",
       "      <td>NaN</td>\n",
       "      <td>NaN</td>\n",
       "      <td>NaN</td>\n",
       "      <td>NaN</td>\n",
       "      <td>NaN</td>\n",
       "      <td>NaN</td>\n",
       "      <td>NaN</td>\n",
       "      <td>NaN</td>\n",
       "    </tr>\n",
       "    <tr>\n",
       "      <th>183</th>\n",
       "      <td>St. Martin (French part)</td>\n",
       "      <td>MAF</td>\n",
       "      <td>NaN</td>\n",
       "      <td>NaN</td>\n",
       "      <td>NaN</td>\n",
       "      <td>NaN</td>\n",
       "      <td>NaN</td>\n",
       "      <td>NaN</td>\n",
       "      <td>NaN</td>\n",
       "      <td>NaN</td>\n",
       "      <td>...</td>\n",
       "      <td>NaN</td>\n",
       "      <td>NaN</td>\n",
       "      <td>NaN</td>\n",
       "      <td>NaN</td>\n",
       "      <td>NaN</td>\n",
       "      <td>NaN</td>\n",
       "      <td>NaN</td>\n",
       "      <td>NaN</td>\n",
       "      <td>NaN</td>\n",
       "      <td>NaN</td>\n",
       "    </tr>\n",
       "    <tr>\n",
       "      <th>200</th>\n",
       "      <td>Turks and Caicos Islands</td>\n",
       "      <td>TCA</td>\n",
       "      <td>NaN</td>\n",
       "      <td>NaN</td>\n",
       "      <td>NaN</td>\n",
       "      <td>NaN</td>\n",
       "      <td>NaN</td>\n",
       "      <td>NaN</td>\n",
       "      <td>NaN</td>\n",
       "      <td>NaN</td>\n",
       "      <td>...</td>\n",
       "      <td>NaN</td>\n",
       "      <td>NaN</td>\n",
       "      <td>NaN</td>\n",
       "      <td>NaN</td>\n",
       "      <td>NaN</td>\n",
       "      <td>NaN</td>\n",
       "      <td>NaN</td>\n",
       "      <td>NaN</td>\n",
       "      <td>NaN</td>\n",
       "      <td>NaN</td>\n",
       "    </tr>\n",
       "  </tbody>\n",
       "</table>\n",
       "<p>7 rows × 26 columns</p>\n",
       "</div>"
      ]
     },
     "execution_count": 60,
     "metadata": {},
     "output_type": "execute_result"
    }
   ],
   "execution_count": 60
  },
  {
   "metadata": {
    "ExecuteTime": {
     "end_time": "2025-02-08T05:20:15.177315Z",
     "start_time": "2025-02-08T05:20:15.165242Z"
    }
   },
   "cell_type": "code",
   "source": [
    "# Drop countries with NaN values in all years and repalce NaN values with the value of the previous year or the next year\n",
    "df_mod_new = df_mod.dropna(subset=df_mod.columns[2:], how='all')\n",
    "df_mod_new = df_mod_new.fillna(method='bfill', axis=1)\n",
    "df_mod_new = df_mod_new.fillna(method='ffill', axis=1)"
   ],
   "id": "70823b0f335319be",
   "outputs": [
    {
     "name": "stderr",
     "output_type": "stream",
     "text": [
      "C:\\Users\\QKmd\\AppData\\Local\\Temp\\ipykernel_41968\\1903148356.py:3: FutureWarning:\n",
      "\n",
      "DataFrame.fillna with 'method' is deprecated and will raise in a future version. Use obj.ffill() or obj.bfill() instead.\n",
      "\n",
      "C:\\Users\\QKmd\\AppData\\Local\\Temp\\ipykernel_41968\\1903148356.py:4: FutureWarning:\n",
      "\n",
      "DataFrame.fillna with 'method' is deprecated and will raise in a future version. Use obj.ffill() or obj.bfill() instead.\n",
      "\n",
      "C:\\Users\\QKmd\\AppData\\Local\\Temp\\ipykernel_41968\\1903148356.py:4: FutureWarning:\n",
      "\n",
      "Downcasting object dtype arrays on .fillna, .ffill, .bfill is deprecated and will change in a future version. Call result.infer_objects(copy=False) instead. To opt-in to the future behavior, set `pd.set_option('future.no_silent_downcasting', True)`\n",
      "\n"
     ]
    }
   ],
   "execution_count": 106
  },
  {
   "metadata": {
    "ExecuteTime": {
     "end_time": "2025-02-08T05:20:18.265423Z",
     "start_time": "2025-02-08T05:20:18.237445Z"
    }
   },
   "cell_type": "code",
   "source": "df_mod_new.head(10)",
   "id": "74ebc81111404112",
   "outputs": [
    {
     "data": {
      "text/plain": [
       "           Country Name Country Code       2000       2001       2002  \\\n",
       "0           Afghanistan          AFG   0.004723   0.004723   0.004561   \n",
       "1               Albania          ALB   0.114097   0.325798   0.390081   \n",
       "2               Algeria          DZA   0.491706   0.646114   1.591640   \n",
       "4               Andorra          AND  10.538800  11.260500  11.260500   \n",
       "5                Angola          AGO   0.105046   0.136014   0.270377   \n",
       "6   Antigua and Barbuda          ATG   6.482230   8.899290  12.500000   \n",
       "7             Argentina          ARG   7.038680   9.780810  10.882100   \n",
       "8               Armenia          ARM   1.300470   1.631090   1.960410   \n",
       "9                 Aruba          ABW  15.442800  17.100000  18.800000   \n",
       "10            Australia          AUS  46.756100  52.689300  63.000000   \n",
       "\n",
       "         2003       2004      2005      2006      2007  ...     2014     2015  \\\n",
       "0    0.087891   0.105809   1.22415   2.10712   1.90000  ...   7.0000   8.2600   \n",
       "1    0.971900   2.420390   6.04389   9.60999  15.03610  ...  54.3000  56.9000   \n",
       "2    2.195360   4.634480   5.84394   7.37598   9.45119  ...  29.5000  38.2000   \n",
       "4   13.546400  26.838000  37.60580  48.93680  70.87000  ...  86.1000  87.9000   \n",
       "5    0.370682   0.464815   1.14337   1.50000   1.70000  ...  21.3623  22.0000   \n",
       "6   17.228600  24.266500  27.00000  30.00000  34.00000  ...  67.7800  70.0000   \n",
       "7   11.913700  16.036700  17.72060  20.92720  25.94660  ...  64.7000  68.0431   \n",
       "8    4.575220   4.899010   5.25298   5.63179   6.02125  ...  54.6228  59.1008   \n",
       "9   20.800000  23.000000  25.40000  28.00000  30.90000  ...  83.7800  88.6612   \n",
       "10  63.000000  63.000000  63.00000  66.00000  69.45000  ...  84.0000  84.5605   \n",
       "\n",
       "       2016     2017     2018     2019     2020     2021     2022     2023  \n",
       "0   11.0000  13.5000  16.8000  17.6000  18.4000  18.4000  18.4000  18.4000  \n",
       "1   59.6000  62.4000  65.4000  68.5504  72.2377  79.3237  82.6137  83.1356  \n",
       "2   42.9455  47.6911  49.0385  58.9776  60.6534  66.2356  71.2432  71.2432  \n",
       "4   89.7000  91.5675  90.7187  90.7187  93.2056  93.8975  94.4855  94.4855  \n",
       "5   23.2000  26.0000  29.0000  32.1294  36.6347  37.8067  39.2935  39.2935  \n",
       "6   73.0000  76.2000  79.6000  83.2000  86.8837  87.0740  91.4123  91.4123  \n",
       "7   70.9690  74.2949  77.7000  79.9470  85.5144  87.1507  88.3754  89.2290  \n",
       "8   64.3460  64.7449  68.2451  66.5439  76.5077  78.6123  77.0277  77.0277  \n",
       "9   93.5425  97.1700  97.1700  97.1700  97.1700  97.1700  97.1700  97.1700  \n",
       "10  86.5400  86.5450  90.0000  93.6099  94.6935  94.9886  94.8762  94.8762  \n",
       "\n",
       "[10 rows x 26 columns]"
      ],
      "text/html": [
       "<div>\n",
       "<style scoped>\n",
       "    .dataframe tbody tr th:only-of-type {\n",
       "        vertical-align: middle;\n",
       "    }\n",
       "\n",
       "    .dataframe tbody tr th {\n",
       "        vertical-align: top;\n",
       "    }\n",
       "\n",
       "    .dataframe thead th {\n",
       "        text-align: right;\n",
       "    }\n",
       "</style>\n",
       "<table border=\"1\" class=\"dataframe\">\n",
       "  <thead>\n",
       "    <tr style=\"text-align: right;\">\n",
       "      <th></th>\n",
       "      <th>Country Name</th>\n",
       "      <th>Country Code</th>\n",
       "      <th>2000</th>\n",
       "      <th>2001</th>\n",
       "      <th>2002</th>\n",
       "      <th>2003</th>\n",
       "      <th>2004</th>\n",
       "      <th>2005</th>\n",
       "      <th>2006</th>\n",
       "      <th>2007</th>\n",
       "      <th>...</th>\n",
       "      <th>2014</th>\n",
       "      <th>2015</th>\n",
       "      <th>2016</th>\n",
       "      <th>2017</th>\n",
       "      <th>2018</th>\n",
       "      <th>2019</th>\n",
       "      <th>2020</th>\n",
       "      <th>2021</th>\n",
       "      <th>2022</th>\n",
       "      <th>2023</th>\n",
       "    </tr>\n",
       "  </thead>\n",
       "  <tbody>\n",
       "    <tr>\n",
       "      <th>0</th>\n",
       "      <td>Afghanistan</td>\n",
       "      <td>AFG</td>\n",
       "      <td>0.004723</td>\n",
       "      <td>0.004723</td>\n",
       "      <td>0.004561</td>\n",
       "      <td>0.087891</td>\n",
       "      <td>0.105809</td>\n",
       "      <td>1.22415</td>\n",
       "      <td>2.10712</td>\n",
       "      <td>1.90000</td>\n",
       "      <td>...</td>\n",
       "      <td>7.0000</td>\n",
       "      <td>8.2600</td>\n",
       "      <td>11.0000</td>\n",
       "      <td>13.5000</td>\n",
       "      <td>16.8000</td>\n",
       "      <td>17.6000</td>\n",
       "      <td>18.4000</td>\n",
       "      <td>18.4000</td>\n",
       "      <td>18.4000</td>\n",
       "      <td>18.4000</td>\n",
       "    </tr>\n",
       "    <tr>\n",
       "      <th>1</th>\n",
       "      <td>Albania</td>\n",
       "      <td>ALB</td>\n",
       "      <td>0.114097</td>\n",
       "      <td>0.325798</td>\n",
       "      <td>0.390081</td>\n",
       "      <td>0.971900</td>\n",
       "      <td>2.420390</td>\n",
       "      <td>6.04389</td>\n",
       "      <td>9.60999</td>\n",
       "      <td>15.03610</td>\n",
       "      <td>...</td>\n",
       "      <td>54.3000</td>\n",
       "      <td>56.9000</td>\n",
       "      <td>59.6000</td>\n",
       "      <td>62.4000</td>\n",
       "      <td>65.4000</td>\n",
       "      <td>68.5504</td>\n",
       "      <td>72.2377</td>\n",
       "      <td>79.3237</td>\n",
       "      <td>82.6137</td>\n",
       "      <td>83.1356</td>\n",
       "    </tr>\n",
       "    <tr>\n",
       "      <th>2</th>\n",
       "      <td>Algeria</td>\n",
       "      <td>DZA</td>\n",
       "      <td>0.491706</td>\n",
       "      <td>0.646114</td>\n",
       "      <td>1.591640</td>\n",
       "      <td>2.195360</td>\n",
       "      <td>4.634480</td>\n",
       "      <td>5.84394</td>\n",
       "      <td>7.37598</td>\n",
       "      <td>9.45119</td>\n",
       "      <td>...</td>\n",
       "      <td>29.5000</td>\n",
       "      <td>38.2000</td>\n",
       "      <td>42.9455</td>\n",
       "      <td>47.6911</td>\n",
       "      <td>49.0385</td>\n",
       "      <td>58.9776</td>\n",
       "      <td>60.6534</td>\n",
       "      <td>66.2356</td>\n",
       "      <td>71.2432</td>\n",
       "      <td>71.2432</td>\n",
       "    </tr>\n",
       "    <tr>\n",
       "      <th>4</th>\n",
       "      <td>Andorra</td>\n",
       "      <td>AND</td>\n",
       "      <td>10.538800</td>\n",
       "      <td>11.260500</td>\n",
       "      <td>11.260500</td>\n",
       "      <td>13.546400</td>\n",
       "      <td>26.838000</td>\n",
       "      <td>37.60580</td>\n",
       "      <td>48.93680</td>\n",
       "      <td>70.87000</td>\n",
       "      <td>...</td>\n",
       "      <td>86.1000</td>\n",
       "      <td>87.9000</td>\n",
       "      <td>89.7000</td>\n",
       "      <td>91.5675</td>\n",
       "      <td>90.7187</td>\n",
       "      <td>90.7187</td>\n",
       "      <td>93.2056</td>\n",
       "      <td>93.8975</td>\n",
       "      <td>94.4855</td>\n",
       "      <td>94.4855</td>\n",
       "    </tr>\n",
       "    <tr>\n",
       "      <th>5</th>\n",
       "      <td>Angola</td>\n",
       "      <td>AGO</td>\n",
       "      <td>0.105046</td>\n",
       "      <td>0.136014</td>\n",
       "      <td>0.270377</td>\n",
       "      <td>0.370682</td>\n",
       "      <td>0.464815</td>\n",
       "      <td>1.14337</td>\n",
       "      <td>1.50000</td>\n",
       "      <td>1.70000</td>\n",
       "      <td>...</td>\n",
       "      <td>21.3623</td>\n",
       "      <td>22.0000</td>\n",
       "      <td>23.2000</td>\n",
       "      <td>26.0000</td>\n",
       "      <td>29.0000</td>\n",
       "      <td>32.1294</td>\n",
       "      <td>36.6347</td>\n",
       "      <td>37.8067</td>\n",
       "      <td>39.2935</td>\n",
       "      <td>39.2935</td>\n",
       "    </tr>\n",
       "    <tr>\n",
       "      <th>6</th>\n",
       "      <td>Antigua and Barbuda</td>\n",
       "      <td>ATG</td>\n",
       "      <td>6.482230</td>\n",
       "      <td>8.899290</td>\n",
       "      <td>12.500000</td>\n",
       "      <td>17.228600</td>\n",
       "      <td>24.266500</td>\n",
       "      <td>27.00000</td>\n",
       "      <td>30.00000</td>\n",
       "      <td>34.00000</td>\n",
       "      <td>...</td>\n",
       "      <td>67.7800</td>\n",
       "      <td>70.0000</td>\n",
       "      <td>73.0000</td>\n",
       "      <td>76.2000</td>\n",
       "      <td>79.6000</td>\n",
       "      <td>83.2000</td>\n",
       "      <td>86.8837</td>\n",
       "      <td>87.0740</td>\n",
       "      <td>91.4123</td>\n",
       "      <td>91.4123</td>\n",
       "    </tr>\n",
       "    <tr>\n",
       "      <th>7</th>\n",
       "      <td>Argentina</td>\n",
       "      <td>ARG</td>\n",
       "      <td>7.038680</td>\n",
       "      <td>9.780810</td>\n",
       "      <td>10.882100</td>\n",
       "      <td>11.913700</td>\n",
       "      <td>16.036700</td>\n",
       "      <td>17.72060</td>\n",
       "      <td>20.92720</td>\n",
       "      <td>25.94660</td>\n",
       "      <td>...</td>\n",
       "      <td>64.7000</td>\n",
       "      <td>68.0431</td>\n",
       "      <td>70.9690</td>\n",
       "      <td>74.2949</td>\n",
       "      <td>77.7000</td>\n",
       "      <td>79.9470</td>\n",
       "      <td>85.5144</td>\n",
       "      <td>87.1507</td>\n",
       "      <td>88.3754</td>\n",
       "      <td>89.2290</td>\n",
       "    </tr>\n",
       "    <tr>\n",
       "      <th>8</th>\n",
       "      <td>Armenia</td>\n",
       "      <td>ARM</td>\n",
       "      <td>1.300470</td>\n",
       "      <td>1.631090</td>\n",
       "      <td>1.960410</td>\n",
       "      <td>4.575220</td>\n",
       "      <td>4.899010</td>\n",
       "      <td>5.25298</td>\n",
       "      <td>5.63179</td>\n",
       "      <td>6.02125</td>\n",
       "      <td>...</td>\n",
       "      <td>54.6228</td>\n",
       "      <td>59.1008</td>\n",
       "      <td>64.3460</td>\n",
       "      <td>64.7449</td>\n",
       "      <td>68.2451</td>\n",
       "      <td>66.5439</td>\n",
       "      <td>76.5077</td>\n",
       "      <td>78.6123</td>\n",
       "      <td>77.0277</td>\n",
       "      <td>77.0277</td>\n",
       "    </tr>\n",
       "    <tr>\n",
       "      <th>9</th>\n",
       "      <td>Aruba</td>\n",
       "      <td>ABW</td>\n",
       "      <td>15.442800</td>\n",
       "      <td>17.100000</td>\n",
       "      <td>18.800000</td>\n",
       "      <td>20.800000</td>\n",
       "      <td>23.000000</td>\n",
       "      <td>25.40000</td>\n",
       "      <td>28.00000</td>\n",
       "      <td>30.90000</td>\n",
       "      <td>...</td>\n",
       "      <td>83.7800</td>\n",
       "      <td>88.6612</td>\n",
       "      <td>93.5425</td>\n",
       "      <td>97.1700</td>\n",
       "      <td>97.1700</td>\n",
       "      <td>97.1700</td>\n",
       "      <td>97.1700</td>\n",
       "      <td>97.1700</td>\n",
       "      <td>97.1700</td>\n",
       "      <td>97.1700</td>\n",
       "    </tr>\n",
       "    <tr>\n",
       "      <th>10</th>\n",
       "      <td>Australia</td>\n",
       "      <td>AUS</td>\n",
       "      <td>46.756100</td>\n",
       "      <td>52.689300</td>\n",
       "      <td>63.000000</td>\n",
       "      <td>63.000000</td>\n",
       "      <td>63.000000</td>\n",
       "      <td>63.00000</td>\n",
       "      <td>66.00000</td>\n",
       "      <td>69.45000</td>\n",
       "      <td>...</td>\n",
       "      <td>84.0000</td>\n",
       "      <td>84.5605</td>\n",
       "      <td>86.5400</td>\n",
       "      <td>86.5450</td>\n",
       "      <td>90.0000</td>\n",
       "      <td>93.6099</td>\n",
       "      <td>94.6935</td>\n",
       "      <td>94.9886</td>\n",
       "      <td>94.8762</td>\n",
       "      <td>94.8762</td>\n",
       "    </tr>\n",
       "  </tbody>\n",
       "</table>\n",
       "<p>10 rows × 26 columns</p>\n",
       "</div>"
      ]
     },
     "execution_count": 107,
     "metadata": {},
     "output_type": "execute_result"
    }
   ],
   "execution_count": 107
  },
  {
   "metadata": {
    "ExecuteTime": {
     "end_time": "2025-02-08T05:20:30.272533Z",
     "start_time": "2025-02-08T05:20:30.251775Z"
    }
   },
   "cell_type": "code",
   "source": [
    "df_mod_new.reset_index(drop=True, inplace=True)\n",
    "df_mod_new.info()"
   ],
   "id": "81173104e43d521b",
   "outputs": [
    {
     "name": "stdout",
     "output_type": "stream",
     "text": [
      "<class 'pandas.core.frame.DataFrame'>\n",
      "RangeIndex: 210 entries, 0 to 209\n",
      "Data columns (total 26 columns):\n",
      " #   Column        Non-Null Count  Dtype  \n",
      "---  ------        --------------  -----  \n",
      " 0   Country Name  210 non-null    object \n",
      " 1   Country Code  210 non-null    object \n",
      " 2   2000          210 non-null    float64\n",
      " 3   2001          210 non-null    float64\n",
      " 4   2002          210 non-null    float64\n",
      " 5   2003          210 non-null    float64\n",
      " 6   2004          210 non-null    float64\n",
      " 7   2005          210 non-null    float64\n",
      " 8   2006          210 non-null    float64\n",
      " 9   2007          210 non-null    float64\n",
      " 10  2008          210 non-null    float64\n",
      " 11  2009          210 non-null    float64\n",
      " 12  2010          210 non-null    float64\n",
      " 13  2011          210 non-null    float64\n",
      " 14  2012          210 non-null    float64\n",
      " 15  2013          210 non-null    float64\n",
      " 16  2014          210 non-null    float64\n",
      " 17  2015          210 non-null    float64\n",
      " 18  2016          210 non-null    float64\n",
      " 19  2017          210 non-null    float64\n",
      " 20  2018          210 non-null    float64\n",
      " 21  2019          210 non-null    float64\n",
      " 22  2020          210 non-null    float64\n",
      " 23  2021          210 non-null    float64\n",
      " 24  2022          210 non-null    float64\n",
      " 25  2023          210 non-null    float64\n",
      "dtypes: float64(24), object(2)\n",
      "memory usage: 42.8+ KB\n"
     ]
    }
   ],
   "execution_count": 108
  },
  {
   "metadata": {},
   "cell_type": "markdown",
   "source": "# 3. Data visualization",
   "id": "561b2ed0371e2a9a"
  },
  {
   "metadata": {},
   "cell_type": "markdown",
   "source": "## Internet usage over time, by country",
   "id": "7f40c0d86c1d1126"
  },
  {
   "metadata": {
    "ExecuteTime": {
     "end_time": "2025-02-08T05:20:41.905492Z",
     "start_time": "2025-02-08T05:20:41.566571Z"
    }
   },
   "cell_type": "code",
   "source": [
    "# Plotting internet usage over time, by country for the top 5 countries by internet usage\n",
    "top_10_countries = df_mod_new.sort_values(by='2023', ascending=False).head(10)\n",
    "plt.figure(figsize=(20, 6))\n",
    "for i in range(10):\n",
    "    plt.plot(top_10_countries.columns[2:], top_10_countries.iloc[i, 2:], label=top_10_countries.iloc[i, 0])\n",
    "plt.xlabel('Year')\n",
    "plt.ylabel('Internet usage (%)')\n",
    "plt.title('Internet usage over time, by country')\n",
    "plt.legend()\n",
    "plt.show()"
   ],
   "id": "bc44dea7bf708fdb",
   "outputs": [
    {
     "data": {
      "text/plain": [
       "<Figure size 2000x600 with 1 Axes>"
      ],
      "image/png": "[encoded data removed]"
     },
     "metadata": {},
     "output_type": "display_data"
    }
   ],
   "execution_count": 109
  },
  {
   "metadata": {
    "ExecuteTime": {
     "end_time": "2025-02-08T05:20:49.974995Z",
     "start_time": "2025-02-08T05:20:49.605128Z"
    }
   },
   "cell_type": "code",
   "source": [
    "# Plotting internet usage over time, by country for the bottom 10 countries by internet usage\n",
    "bottom_10_countries = df_mod_new.sort_values(by='2023').head(10)\n",
    "plt.figure(figsize=(20, 6))\n",
    "for i in range(10):\n",
    "    plt.plot(bottom_10_countries.columns[2:], bottom_10_countries.iloc[i, 2:], label=bottom_10_countries.iloc[i, 0])\n",
    "plt.xlabel('Year')\n",
    "plt.ylabel('Internet usage (%)')\n",
    "plt.title('Internet usage over time, by country')\n",
    "plt.legend()\n",
    "plt.show()"
   ],
   "id": "fa8810e6bd8daf0a",
   "outputs": [
    {
     "data": {
      "text/plain": [
       "<Figure size 2000x600 with 1 Axes>"
      ],
      "image/png": "[encoded data removed]"
     },
     "metadata": {},
     "output_type": "display_data"
    }
   ],
   "execution_count": 110
  },
  {
   "metadata": {},
   "cell_type": "markdown",
   "source": [
    "- Image 1 shows high-performing countries, with most reaching >95% penetration by 2023\n",
    "- Iceland and Nordic countries led early adoption\n",
    "- Gulf states showed the steepest growth curves\n",
    "- Image 2 depicts struggling nations, mostly in Africa, with usage rates below 20%"
   ],
   "id": "966b503c21abd967"
  },
  {
   "metadata": {},
   "cell_type": "markdown",
   "source": "## Internet usage growth over time",
   "id": "d43aea0c01584b90"
  },
  {
   "metadata": {
    "ExecuteTime": {
     "end_time": "2025-02-08T05:23:52.806388Z",
     "start_time": "2025-02-08T05:23:52.778533Z"
    }
   },
   "cell_type": "code",
   "source": [
    "# Check top 10 countries with fast growth in internet usage\n",
    "df_mod_new['growth'] = df_mod_new['2023'] - df_mod_new['2000']\n",
    "top_20_countries_growth = df_mod_new.sort_values(by='growth', ascending=False).head(20)\n",
    "top_20_countries_growth"
   ],
   "id": "369619fef04e33b2",
   "outputs": [
    {
     "data": {
      "text/plain": [
       "           Country Name Country Code      2000       2001      2002      2003  \\\n",
       "162        Saudi Arabia          SAU  2.210690   4.681050   6.38471   8.00158   \n",
       "155               Qatar          QAT  4.863680   6.170270  10.22610  19.24230   \n",
       "13              Bahrain          BHR  6.153730  15.038600  18.05070  21.55490   \n",
       "103              Kuwait          KWT  6.731400   8.551790  10.24900  22.40290   \n",
       "97           Kazakhstan          KAZ  0.668594   1.006120   1.67477   2.00041   \n",
       "144                Oman          OMN  3.520420   5.893840   6.87340   7.25574   \n",
       "157  Russian Federation          RUS  1.977230   2.944370   4.12827   8.29886   \n",
       "27    Brunei Darussalam          BRN  8.996280  12.917800  15.32990  19.59500   \n",
       "16              Belarus          BLR  1.860400   4.300620   8.95097  16.20000   \n",
       "130             Morocco          MAR  0.693791   1.371440   2.37325   3.35337   \n",
       "201          Uzbekistan          UZB  0.484347   0.597568   1.08194   1.91260   \n",
       "110               Libya          LBY  0.187043   0.366533   2.24442   2.81452   \n",
       "96               Jordan          JOR  2.623280   4.705720   6.02553   8.46601   \n",
       "11           Azerbaijan          AZE  0.147758   0.305565   4.99971   8.03038   \n",
       "21               Bhutan          BTN  0.400944   0.864629   1.67580   2.43691   \n",
       "12         Bahamas, The          BHS  8.000000  11.800000  18.00000  20.00000   \n",
       "106              Latvia          LVA  6.319060   7.219350  21.94000  26.98000   \n",
       "186            Thailand          THA  3.689040   5.556330   7.53125   9.29903   \n",
       "156             Romania          ROU  3.613720   4.538670   6.58000   8.90000   \n",
       "206  West Bank and Gaza          PSE  1.111310   1.836850   3.10009   4.13062   \n",
       "\n",
       "         2004      2005      2006     2007  ...     2015     2016     2017  \\\n",
       "162  10.23450  12.70500  19.45960  30.0000  ...  69.6162  74.8793  94.1756   \n",
       "155  20.70160  24.73350  28.97410  37.0000  ...  92.8848  95.1247  97.3888   \n",
       "13   21.45870  21.30370  28.24400  32.9100  ...  93.4783  98.0000  95.8781   \n",
       "103  22.92710  25.92610  28.79120  34.8000  ...  82.0000  85.6000  98.0000   \n",
       "97    2.65039   2.96171   3.26837   4.0200  ...  70.8299  74.5877  76.4267   \n",
       "144   6.75885   6.68358   8.29972  16.6800  ...  73.5300  76.8454  80.1856   \n",
       "157  12.85940  15.22670  18.02330  24.6600  ...  70.0992  73.0914  76.0081   \n",
       "27   29.71560  36.46640  42.18630  44.6800  ...  71.2000  90.0000  94.8667   \n",
       "16   16.20000  16.20000  16.20000  19.7000  ...  62.2304  71.1130  74.4364   \n",
       "130  11.60790  15.08440  19.77120  21.5000  ...  57.0800  58.2712  61.7622   \n",
       "201   2.59373   3.34351   6.38832   7.4906  ...  42.8000  46.7913  48.7000   \n",
       "110   3.53284   3.91779   4.30105   4.7220  ...  87.5754  87.5754  87.5754   \n",
       "96   11.65870  12.93290  13.86710  20.0000  ...  54.2200  56.1500  64.5000   \n",
       "11    8.03038   8.03038  11.99220  14.5400  ...  77.0000  78.2000  79.0000   \n",
       "21    3.15698   3.84711   4.51832   5.9200  ...  39.8000  46.5000  54.3000   \n",
       "12   22.00000  25.00000  26.00000  27.0000  ...  78.0000  80.0000  80.6000   \n",
       "106  38.58000  46.00000  53.63000  59.1700  ...  79.2006  79.8421  80.1141   \n",
       "186  10.67730  15.02600  17.16070  20.0300  ...  39.3161  47.5050  52.8919   \n",
       "156  15.00000  21.50000  24.66000  28.3000  ...  55.7632  59.5040  63.7473   \n",
       "206   4.40090  16.00500  18.41000  21.1760  ...  56.7000  59.9000  63.3000   \n",
       "\n",
       "        2018     2019     2020      2021      2022      2023     growth  \n",
       "162  93.3100  95.7247  97.8623  100.0000  100.0000  100.0000  97.789310  \n",
       "155  99.6528  99.6528  99.6528  100.0000  100.0000  100.0000  95.136320  \n",
       "13   98.6447  99.7015  99.6710  100.0000  100.0000  100.0000  93.846270  \n",
       "103  99.5988  99.5427  99.1059   99.7000   99.8436   99.7473  93.015900  \n",
       "97   78.9039  81.8776  85.9426   90.9240   92.2969   92.8785  92.209906  \n",
       "144  85.5000  90.2594  95.2323   95.7747   97.8490   95.2517  91.731280  \n",
       "157  80.8647  82.6422  84.9947   88.2138   90.4180   92.2450  90.267770  \n",
       "27   95.0000  95.0000  95.0503   95.6225   98.9704   98.9704  89.974120  \n",
       "16   79.1299  82.7892  85.0879   86.8884   89.5073   91.5125  89.652100  \n",
       "130  64.8039  84.1204  84.1204   88.1303   89.9000   89.9000  89.206209  \n",
       "201  55.2000  70.4000  71.1000   76.5904   83.9000   89.0136  88.529253  \n",
       "110  87.5754  87.5754  87.5754   84.3378   88.4281   88.4281  88.241057  \n",
       "96   65.2000  70.0847  78.4178   86.0000   90.5000   90.5000  87.876720  \n",
       "11   79.8000  81.1000  84.6000   86.0000   88.0000   88.0000  87.852242  \n",
       "21   63.5000  74.1794  76.8508   85.6369   86.8403   86.8403  86.439356  \n",
       "12   83.0000  90.6933  92.4437   93.7667   94.4117   94.4117  86.411700  \n",
       "106  83.5772  86.1355  88.8980   91.1796   91.0301   92.1879  85.868840  \n",
       "186  56.8175  66.6524  77.8437   85.2696   87.9772   89.5352  85.846160  \n",
       "156  70.6813  73.6575  78.4553   83.5904   85.5031   89.2034  85.589680  \n",
       "206  64.4000  70.6226  76.0100   81.8300   88.6469   86.6377  85.526390  \n",
       "\n",
       "[20 rows x 27 columns]"
      ],
      "text/html": [
       "<div>\n",
       "<style scoped>\n",
       "    .dataframe tbody tr th:only-of-type {\n",
       "        vertical-align: middle;\n",
       "    }\n",
       "\n",
       "    .dataframe tbody tr th {\n",
       "        vertical-align: top;\n",
       "    }\n",
       "\n",
       "    .dataframe thead th {\n",
       "        text-align: right;\n",
       "    }\n",
       "</style>\n",
       "<table border=\"1\" class=\"dataframe\">\n",
       "  <thead>\n",
       "    <tr style=\"text-align: right;\">\n",
       "      <th></th>\n",
       "      <th>Country Name</th>\n",
       "      <th>Country Code</th>\n",
       "      <th>2000</th>\n",
       "      <th>2001</th>\n",
       "      <th>2002</th>\n",
       "      <th>2003</th>\n",
       "      <th>2004</th>\n",
       "      <th>2005</th>\n",
       "      <th>2006</th>\n",
       "      <th>2007</th>\n",
       "      <th>...</th>\n",
       "      <th>2015</th>\n",
       "      <th>2016</th>\n",
       "      <th>2017</th>\n",
       "      <th>2018</th>\n",
       "      <th>2019</th>\n",
       "      <th>2020</th>\n",
       "      <th>2021</th>\n",
       "      <th>2022</th>\n",
       "      <th>2023</th>\n",
       "      <th>growth</th>\n",
       "    </tr>\n",
       "  </thead>\n",
       "  <tbody>\n",
       "    <tr>\n",
       "      <th>162</th>\n",
       "      <td>Saudi Arabia</td>\n",
       "      <td>SAU</td>\n",
       "      <td>2.210690</td>\n",
       "      <td>4.681050</td>\n",
       "      <td>6.38471</td>\n",
       "      <td>8.00158</td>\n",
       "      <td>10.23450</td>\n",
       "      <td>12.70500</td>\n",
       "      <td>19.45960</td>\n",
       "      <td>30.0000</td>\n",
       "      <td>...</td>\n",
       "      <td>69.6162</td>\n",
       "      <td>74.8793</td>\n",
       "      <td>94.1756</td>\n",
       "      <td>93.3100</td>\n",
       "      <td>95.7247</td>\n",
       "      <td>97.8623</td>\n",
       "      <td>100.0000</td>\n",
       "      <td>100.0000</td>\n",
       "      <td>100.0000</td>\n",
       "      <td>97.789310</td>\n",
       "    </tr>\n",
       "    <tr>\n",
       "      <th>155</th>\n",
       "      <td>Qatar</td>\n",
       "      <td>QAT</td>\n",
       "      <td>4.863680</td>\n",
       "      <td>6.170270</td>\n",
       "      <td>10.22610</td>\n",
       "      <td>19.24230</td>\n",
       "      <td>20.70160</td>\n",
       "      <td>24.73350</td>\n",
       "      <td>28.97410</td>\n",
       "      <td>37.0000</td>\n",
       "      <td>...</td>\n",
       "      <td>92.8848</td>\n",
       "      <td>95.1247</td>\n",
       "      <td>97.3888</td>\n",
       "      <td>99.6528</td>\n",
       "      <td>99.6528</td>\n",
       "      <td>99.6528</td>\n",
       "      <td>100.0000</td>\n",
       "      <td>100.0000</td>\n",
       "      <td>100.0000</td>\n",
       "      <td>95.136320</td>\n",
       "    </tr>\n",
       "    <tr>\n",
       "      <th>13</th>\n",
       "      <td>Bahrain</td>\n",
       "      <td>BHR</td>\n",
       "      <td>6.153730</td>\n",
       "      <td>15.038600</td>\n",
       "      <td>18.05070</td>\n",
       "      <td>21.55490</td>\n",
       "      <td>21.45870</td>\n",
       "      <td>21.30370</td>\n",
       "      <td>28.24400</td>\n",
       "      <td>32.9100</td>\n",
       "      <td>...</td>\n",
       "      <td>93.4783</td>\n",
       "      <td>98.0000</td>\n",
       "      <td>95.8781</td>\n",
       "      <td>98.6447</td>\n",
       "      <td>99.7015</td>\n",
       "      <td>99.6710</td>\n",
       "      <td>100.0000</td>\n",
       "      <td>100.0000</td>\n",
       "      <td>100.0000</td>\n",
       "      <td>93.846270</td>\n",
       "    </tr>\n",
       "    <tr>\n",
       "      <th>103</th>\n",
       "      <td>Kuwait</td>\n",
       "      <td>KWT</td>\n",
       "      <td>6.731400</td>\n",
       "      <td>8.551790</td>\n",
       "      <td>10.24900</td>\n",
       "      <td>22.40290</td>\n",
       "      <td>22.92710</td>\n",
       "      <td>25.92610</td>\n",
       "      <td>28.79120</td>\n",
       "      <td>34.8000</td>\n",
       "      <td>...</td>\n",
       "      <td>82.0000</td>\n",
       "      <td>85.6000</td>\n",
       "      <td>98.0000</td>\n",
       "      <td>99.5988</td>\n",
       "      <td>99.5427</td>\n",
       "      <td>99.1059</td>\n",
       "      <td>99.7000</td>\n",
       "      <td>99.8436</td>\n",
       "      <td>99.7473</td>\n",
       "      <td>93.015900</td>\n",
       "    </tr>\n",
       "    <tr>\n",
       "      <th>97</th>\n",
       "      <td>Kazakhstan</td>\n",
       "      <td>KAZ</td>\n",
       "      <td>0.668594</td>\n",
       "      <td>1.006120</td>\n",
       "      <td>1.67477</td>\n",
       "      <td>2.00041</td>\n",
       "      <td>2.65039</td>\n",
       "      <td>2.96171</td>\n",
       "      <td>3.26837</td>\n",
       "      <td>4.0200</td>\n",
       "      <td>...</td>\n",
       "      <td>70.8299</td>\n",
       "      <td>74.5877</td>\n",
       "      <td>76.4267</td>\n",
       "      <td>78.9039</td>\n",
       "      <td>81.8776</td>\n",
       "      <td>85.9426</td>\n",
       "      <td>90.9240</td>\n",
       "      <td>92.2969</td>\n",
       "      <td>92.8785</td>\n",
       "      <td>92.209906</td>\n",
       "    </tr>\n",
       "    <tr>\n",
       "      <th>144</th>\n",
       "      <td>Oman</td>\n",
       "      <td>OMN</td>\n",
       "      <td>3.520420</td>\n",
       "      <td>5.893840</td>\n",
       "      <td>6.87340</td>\n",
       "      <td>7.25574</td>\n",
       "      <td>6.75885</td>\n",
       "      <td>6.68358</td>\n",
       "      <td>8.29972</td>\n",
       "      <td>16.6800</td>\n",
       "      <td>...</td>\n",
       "      <td>73.5300</td>\n",
       "      <td>76.8454</td>\n",
       "      <td>80.1856</td>\n",
       "      <td>85.5000</td>\n",
       "      <td>90.2594</td>\n",
       "      <td>95.2323</td>\n",
       "      <td>95.7747</td>\n",
       "      <td>97.8490</td>\n",
       "      <td>95.2517</td>\n",
       "      <td>91.731280</td>\n",
       "    </tr>\n",
       "    <tr>\n",
       "      <th>157</th>\n",
       "      <td>Russian Federation</td>\n",
       "      <td>RUS</td>\n",
       "      <td>1.977230</td>\n",
       "      <td>2.944370</td>\n",
       "      <td>4.12827</td>\n",
       "      <td>8.29886</td>\n",
       "      <td>12.85940</td>\n",
       "      <td>15.22670</td>\n",
       "      <td>18.02330</td>\n",
       "      <td>24.6600</td>\n",
       "      <td>...</td>\n",
       "      <td>70.0992</td>\n",
       "      <td>73.0914</td>\n",
       "      <td>76.0081</td>\n",
       "      <td>80.8647</td>\n",
       "      <td>82.6422</td>\n",
       "      <td>84.9947</td>\n",
       "      <td>88.2138</td>\n",
       "      <td>90.4180</td>\n",
       "      <td>92.2450</td>\n",
       "      <td>90.267770</td>\n",
       "    </tr>\n",
       "    <tr>\n",
       "      <th>27</th>\n",
       "      <td>Brunei Darussalam</td>\n",
       "      <td>BRN</td>\n",
       "      <td>8.996280</td>\n",
       "      <td>12.917800</td>\n",
       "      <td>15.32990</td>\n",
       "      <td>19.59500</td>\n",
       "      <td>29.71560</td>\n",
       "      <td>36.46640</td>\n",
       "      <td>42.18630</td>\n",
       "      <td>44.6800</td>\n",
       "      <td>...</td>\n",
       "      <td>71.2000</td>\n",
       "      <td>90.0000</td>\n",
       "      <td>94.8667</td>\n",
       "      <td>95.0000</td>\n",
       "      <td>95.0000</td>\n",
       "      <td>95.0503</td>\n",
       "      <td>95.6225</td>\n",
       "      <td>98.9704</td>\n",
       "      <td>98.9704</td>\n",
       "      <td>89.974120</td>\n",
       "    </tr>\n",
       "    <tr>\n",
       "      <th>16</th>\n",
       "      <td>Belarus</td>\n",
       "      <td>BLR</td>\n",
       "      <td>1.860400</td>\n",
       "      <td>4.300620</td>\n",
       "      <td>8.95097</td>\n",
       "      <td>16.20000</td>\n",
       "      <td>16.20000</td>\n",
       "      <td>16.20000</td>\n",
       "      <td>16.20000</td>\n",
       "      <td>19.7000</td>\n",
       "      <td>...</td>\n",
       "      <td>62.2304</td>\n",
       "      <td>71.1130</td>\n",
       "      <td>74.4364</td>\n",
       "      <td>79.1299</td>\n",
       "      <td>82.7892</td>\n",
       "      <td>85.0879</td>\n",
       "      <td>86.8884</td>\n",
       "      <td>89.5073</td>\n",
       "      <td>91.5125</td>\n",
       "      <td>89.652100</td>\n",
       "    </tr>\n",
       "    <tr>\n",
       "      <th>130</th>\n",
       "      <td>Morocco</td>\n",
       "      <td>MAR</td>\n",
       "      <td>0.693791</td>\n",
       "      <td>1.371440</td>\n",
       "      <td>2.37325</td>\n",
       "      <td>3.35337</td>\n",
       "      <td>11.60790</td>\n",
       "      <td>15.08440</td>\n",
       "      <td>19.77120</td>\n",
       "      <td>21.5000</td>\n",
       "      <td>...</td>\n",
       "      <td>57.0800</td>\n",
       "      <td>58.2712</td>\n",
       "      <td>61.7622</td>\n",
       "      <td>64.8039</td>\n",
       "      <td>84.1204</td>\n",
       "      <td>84.1204</td>\n",
       "      <td>88.1303</td>\n",
       "      <td>89.9000</td>\n",
       "      <td>89.9000</td>\n",
       "      <td>89.206209</td>\n",
       "    </tr>\n",
       "    <tr>\n",
       "      <th>201</th>\n",
       "      <td>Uzbekistan</td>\n",
       "      <td>UZB</td>\n",
       "      <td>0.484347</td>\n",
       "      <td>0.597568</td>\n",
       "      <td>1.08194</td>\n",
       "      <td>1.91260</td>\n",
       "      <td>2.59373</td>\n",
       "      <td>3.34351</td>\n",
       "      <td>6.38832</td>\n",
       "      <td>7.4906</td>\n",
       "      <td>...</td>\n",
       "      <td>42.8000</td>\n",
       "      <td>46.7913</td>\n",
       "      <td>48.7000</td>\n",
       "      <td>55.2000</td>\n",
       "      <td>70.4000</td>\n",
       "      <td>71.1000</td>\n",
       "      <td>76.5904</td>\n",
       "      <td>83.9000</td>\n",
       "      <td>89.0136</td>\n",
       "      <td>88.529253</td>\n",
       "    </tr>\n",
       "    <tr>\n",
       "      <th>110</th>\n",
       "      <td>Libya</td>\n",
       "      <td>LBY</td>\n",
       "      <td>0.187043</td>\n",
       "      <td>0.366533</td>\n",
       "      <td>2.24442</td>\n",
       "      <td>2.81452</td>\n",
       "      <td>3.53284</td>\n",
       "      <td>3.91779</td>\n",
       "      <td>4.30105</td>\n",
       "      <td>4.7220</td>\n",
       "      <td>...</td>\n",
       "      <td>87.5754</td>\n",
       "      <td>87.5754</td>\n",
       "      <td>87.5754</td>\n",
       "      <td>87.5754</td>\n",
       "      <td>87.5754</td>\n",
       "      <td>87.5754</td>\n",
       "      <td>84.3378</td>\n",
       "      <td>88.4281</td>\n",
       "      <td>88.4281</td>\n",
       "      <td>88.241057</td>\n",
       "    </tr>\n",
       "    <tr>\n",
       "      <th>96</th>\n",
       "      <td>Jordan</td>\n",
       "      <td>JOR</td>\n",
       "      <td>2.623280</td>\n",
       "      <td>4.705720</td>\n",
       "      <td>6.02553</td>\n",
       "      <td>8.46601</td>\n",
       "      <td>11.65870</td>\n",
       "      <td>12.93290</td>\n",
       "      <td>13.86710</td>\n",
       "      <td>20.0000</td>\n",
       "      <td>...</td>\n",
       "      <td>54.2200</td>\n",
       "      <td>56.1500</td>\n",
       "      <td>64.5000</td>\n",
       "      <td>65.2000</td>\n",
       "      <td>70.0847</td>\n",
       "      <td>78.4178</td>\n",
       "      <td>86.0000</td>\n",
       "      <td>90.5000</td>\n",
       "      <td>90.5000</td>\n",
       "      <td>87.876720</td>\n",
       "    </tr>\n",
       "    <tr>\n",
       "      <th>11</th>\n",
       "      <td>Azerbaijan</td>\n",
       "      <td>AZE</td>\n",
       "      <td>0.147758</td>\n",
       "      <td>0.305565</td>\n",
       "      <td>4.99971</td>\n",
       "      <td>8.03038</td>\n",
       "      <td>8.03038</td>\n",
       "      <td>8.03038</td>\n",
       "      <td>11.99220</td>\n",
       "      <td>14.5400</td>\n",
       "      <td>...</td>\n",
       "      <td>77.0000</td>\n",
       "      <td>78.2000</td>\n",
       "      <td>79.0000</td>\n",
       "      <td>79.8000</td>\n",
       "      <td>81.1000</td>\n",
       "      <td>84.6000</td>\n",
       "      <td>86.0000</td>\n",
       "      <td>88.0000</td>\n",
       "      <td>88.0000</td>\n",
       "      <td>87.852242</td>\n",
       "    </tr>\n",
       "    <tr>\n",
       "      <th>21</th>\n",
       "      <td>Bhutan</td>\n",
       "      <td>BTN</td>\n",
       "      <td>0.400944</td>\n",
       "      <td>0.864629</td>\n",
       "      <td>1.67580</td>\n",
       "      <td>2.43691</td>\n",
       "      <td>3.15698</td>\n",
       "      <td>3.84711</td>\n",
       "      <td>4.51832</td>\n",
       "      <td>5.9200</td>\n",
       "      <td>...</td>\n",
       "      <td>39.8000</td>\n",
       "      <td>46.5000</td>\n",
       "      <td>54.3000</td>\n",
       "      <td>63.5000</td>\n",
       "      <td>74.1794</td>\n",
       "      <td>76.8508</td>\n",
       "      <td>85.6369</td>\n",
       "      <td>86.8403</td>\n",
       "      <td>86.8403</td>\n",
       "      <td>86.439356</td>\n",
       "    </tr>\n",
       "    <tr>\n",
       "      <th>12</th>\n",
       "      <td>Bahamas, The</td>\n",
       "      <td>BHS</td>\n",
       "      <td>8.000000</td>\n",
       "      <td>11.800000</td>\n",
       "      <td>18.00000</td>\n",
       "      <td>20.00000</td>\n",
       "      <td>22.00000</td>\n",
       "      <td>25.00000</td>\n",
       "      <td>26.00000</td>\n",
       "      <td>27.0000</td>\n",
       "      <td>...</td>\n",
       "      <td>78.0000</td>\n",
       "      <td>80.0000</td>\n",
       "      <td>80.6000</td>\n",
       "      <td>83.0000</td>\n",
       "      <td>90.6933</td>\n",
       "      <td>92.4437</td>\n",
       "      <td>93.7667</td>\n",
       "      <td>94.4117</td>\n",
       "      <td>94.4117</td>\n",
       "      <td>86.411700</td>\n",
       "    </tr>\n",
       "    <tr>\n",
       "      <th>106</th>\n",
       "      <td>Latvia</td>\n",
       "      <td>LVA</td>\n",
       "      <td>6.319060</td>\n",
       "      <td>7.219350</td>\n",
       "      <td>21.94000</td>\n",
       "      <td>26.98000</td>\n",
       "      <td>38.58000</td>\n",
       "      <td>46.00000</td>\n",
       "      <td>53.63000</td>\n",
       "      <td>59.1700</td>\n",
       "      <td>...</td>\n",
       "      <td>79.2006</td>\n",
       "      <td>79.8421</td>\n",
       "      <td>80.1141</td>\n",
       "      <td>83.5772</td>\n",
       "      <td>86.1355</td>\n",
       "      <td>88.8980</td>\n",
       "      <td>91.1796</td>\n",
       "      <td>91.0301</td>\n",
       "      <td>92.1879</td>\n",
       "      <td>85.868840</td>\n",
       "    </tr>\n",
       "    <tr>\n",
       "      <th>186</th>\n",
       "      <td>Thailand</td>\n",
       "      <td>THA</td>\n",
       "      <td>3.689040</td>\n",
       "      <td>5.556330</td>\n",
       "      <td>7.53125</td>\n",
       "      <td>9.29903</td>\n",
       "      <td>10.67730</td>\n",
       "      <td>15.02600</td>\n",
       "      <td>17.16070</td>\n",
       "      <td>20.0300</td>\n",
       "      <td>...</td>\n",
       "      <td>39.3161</td>\n",
       "      <td>47.5050</td>\n",
       "      <td>52.8919</td>\n",
       "      <td>56.8175</td>\n",
       "      <td>66.6524</td>\n",
       "      <td>77.8437</td>\n",
       "      <td>85.2696</td>\n",
       "      <td>87.9772</td>\n",
       "      <td>89.5352</td>\n",
       "      <td>85.846160</td>\n",
       "    </tr>\n",
       "    <tr>\n",
       "      <th>156</th>\n",
       "      <td>Romania</td>\n",
       "      <td>ROU</td>\n",
       "      <td>3.613720</td>\n",
       "      <td>4.538670</td>\n",
       "      <td>6.58000</td>\n",
       "      <td>8.90000</td>\n",
       "      <td>15.00000</td>\n",
       "      <td>21.50000</td>\n",
       "      <td>24.66000</td>\n",
       "      <td>28.3000</td>\n",
       "      <td>...</td>\n",
       "      <td>55.7632</td>\n",
       "      <td>59.5040</td>\n",
       "      <td>63.7473</td>\n",
       "      <td>70.6813</td>\n",
       "      <td>73.6575</td>\n",
       "      <td>78.4553</td>\n",
       "      <td>83.5904</td>\n",
       "      <td>85.5031</td>\n",
       "      <td>89.2034</td>\n",
       "      <td>85.589680</td>\n",
       "    </tr>\n",
       "    <tr>\n",
       "      <th>206</th>\n",
       "      <td>West Bank and Gaza</td>\n",
       "      <td>PSE</td>\n",
       "      <td>1.111310</td>\n",
       "      <td>1.836850</td>\n",
       "      <td>3.10009</td>\n",
       "      <td>4.13062</td>\n",
       "      <td>4.40090</td>\n",
       "      <td>16.00500</td>\n",
       "      <td>18.41000</td>\n",
       "      <td>21.1760</td>\n",
       "      <td>...</td>\n",
       "      <td>56.7000</td>\n",
       "      <td>59.9000</td>\n",
       "      <td>63.3000</td>\n",
       "      <td>64.4000</td>\n",
       "      <td>70.6226</td>\n",
       "      <td>76.0100</td>\n",
       "      <td>81.8300</td>\n",
       "      <td>88.6469</td>\n",
       "      <td>86.6377</td>\n",
       "      <td>85.526390</td>\n",
       "    </tr>\n",
       "  </tbody>\n",
       "</table>\n",
       "<p>20 rows × 27 columns</p>\n",
       "</div>"
      ]
     },
     "execution_count": 112,
     "metadata": {},
     "output_type": "execute_result"
    }
   ],
   "execution_count": 112
  },
  {
   "metadata": {
    "ExecuteTime": {
     "end_time": "2025-02-08T05:24:38.121744Z",
     "start_time": "2025-02-08T05:24:38.076524Z"
    }
   },
   "cell_type": "code",
   "source": [
    "# Using plotly to create an interactive geographic plot in 2000\n",
    "fig = px.choropleth(df_mod_new, locations='Country Code', color='2000', hover_name='Country Name', color_continuous_scale=px.colors.sequential.Plasma)\n",
    "fig.update_layout(title='Internet usage by country in 2000')\n",
    "fig.show()"
   ],
   "id": "a7c84d8affe7f637",
   "outputs": [
    {
     "data": {
      "application/vnd.plotly.v1+json": {
       "data": [
        {
         "coloraxis": "coloraxis",
         "geo": "geo",
         "hovertemplate": "<b>%{hovertext}</b><br><br>Country Code=%{location}<br>2000=%{z}<extra></extra>",
         "hovertext": [
          "Afghanistan",
          "Albania",
          "Algeria",
          "Andorra",
          "Angola",
          "Antigua and Barbuda",
          "Argentina",
          "Armenia",
          "Aruba",
          "Australia",
          "Austria",
          "Azerbaijan",
          "Bahamas, The",
          "Bahrain",
          "Bangladesh",
          "Barbados",
          "Belarus",
          "Belgium",
          "Belize",
          "Benin",
          "Bermuda",
          "Bhutan",
          "Bolivia",
          "Bosnia and Herzegovina",
          "Botswana",
          "Brazil",
          "British Virgin Islands",
          "Brunei Darussalam",
          "Bulgaria",
          "Burkina Faso",
          "Burundi",
          "Cabo Verde",
          "Cambodia",
          "Cameroon",
          "Canada",
          "Cayman Islands",
          "Central African Republic",
          "Chad",
          "Chile",
          "China",
          "Colombia",
          "Comoros",
          "Congo, Dem. Rep.",
          "Congo, Rep.",
          "Costa Rica",
          "Cote d'Ivoire",
          "Croatia",
          "Cuba",
          "Curacao",
          "Cyprus",
          "Czechia",
          "Denmark",
          "Djibouti",
          "Dominica",
          "Dominican Republic",
          "Ecuador",
          "Egypt, Arab Rep.",
          "El Salvador",
          "Equatorial Guinea",
          "Eritrea",
          "Estonia",
          "Eswatini",
          "Ethiopia",
          "Faroe Islands",
          "Fiji",
          "Finland",
          "France",
          "French Polynesia",
          "Gabon",
          "Gambia, The",
          "Georgia",
          "Germany",
          "Ghana",
          "Gibraltar",
          "Greece",
          "Greenland",
          "Grenada",
          "Guam",
          "Guatemala",
          "Guinea",
          "Guinea-Bissau",
          "Guyana",
          "Haiti",
          "Honduras",
          "Hong Kong SAR, China",
          "Hungary",
          "Iceland",
          "India",
          "Indonesia",
          "Iran, Islamic Rep.",
          "Iraq",
          "Ireland",
          "Israel",
          "Italy",
          "Jamaica",
          "Japan",
          "Jordan",
          "Kazakhstan",
          "Kenya",
          "Kiribati",
          "Korea, Dem. People's Rep.",
          "Korea, Rep.",
          "Kosovo",
          "Kuwait",
          "Kyrgyz Republic",
          "Lao PDR",
          "Latvia",
          "Lebanon",
          "Lesotho",
          "Liberia",
          "Libya",
          "Liechtenstein",
          "Lithuania",
          "Luxembourg",
          "Macao SAR, China",
          "Madagascar",
          "Malawi",
          "Malaysia",
          "Maldives",
          "Mali",
          "Malta",
          "Marshall Islands",
          "Mauritania",
          "Mauritius",
          "Mexico",
          "Micronesia, Fed. Sts.",
          "Moldova",
          "Monaco",
          "Mongolia",
          "Montenegro",
          "Morocco",
          "Mozambique",
          "Myanmar",
          "Namibia",
          "Nauru",
          "Nepal",
          "Netherlands",
          "New Caledonia",
          "New Zealand",
          "Nicaragua",
          "Niger",
          "Nigeria",
          "North Macedonia",
          "Norway",
          "Oman",
          "Pakistan",
          "Palau",
          "Panama",
          "Papua New Guinea",
          "Paraguay",
          "Peru",
          "Philippines",
          "Poland",
          "Portugal",
          "Puerto Rico",
          "Qatar",
          "Romania",
          "Russian Federation",
          "Rwanda",
          "Samoa",
          "San Marino",
          "Sao Tome and Principe",
          "Saudi Arabia",
          "Senegal",
          "Serbia",
          "Seychelles",
          "Sierra Leone",
          "Singapore",
          "Slovak Republic",
          "Slovenia",
          "Solomon Islands",
          "Somalia",
          "South Africa",
          "South Sudan",
          "Spain",
          "Sri Lanka",
          "St. Kitts and Nevis",
          "St. Lucia",
          "St. Vincent and the Grenadines",
          "Sudan",
          "Suriname",
          "Sweden",
          "Switzerland",
          "Syrian Arab Republic",
          "Tajikistan",
          "Tanzania",
          "Thailand",
          "Timor-Leste",
          "Togo",
          "Tonga",
          "Trinidad and Tobago",
          "Tunisia",
          "Turkiye",
          "Turkmenistan",
          "Tuvalu",
          "Uganda",
          "Ukraine",
          "United Arab Emirates",
          "United Kingdom",
          "United States",
          "Uruguay",
          "Uzbekistan",
          "Vanuatu",
          "Venezuela, RB",
          "Viet Nam",
          "Virgin Islands (U.S.)",
          "West Bank and Gaza",
          "Yemen, Rep.",
          "Zambia",
          "Zimbabwe"
         ],
         "locations": [
          "AFG",
          "ALB",
          "DZA",
          "AND",
          "AGO",
          "ATG",
          "ARG",
          "ARM",
          "ABW",
          "AUS",
          "AUT",
          "AZE",
          "BHS",
          "BHR",
          "BGD",
          "BRB",
          "BLR",
          "BEL",
          "BLZ",
          "BEN",
          "BMU",
          "BTN",
          "BOL",
          "BIH",
          "BWA",
          "BRA",
          "VGB",
          "BRN",
          "BGR",
          "BFA",
          "BDI",
          "CPV",
          "KHM",
          "CMR",
          "CAN",
          "CYM",
          "CAF",
          "TCD",
          "CHL",
          "CHN",
          "COL",
          "COM",
          "COD",
          "COG",
          "CRI",
          "CIV",
          "HRV",
          "CUB",
          "CUW",
          "CYP",
          "CZE",
          "DNK",
          "DJI",
          "DMA",
          "DOM",
          "ECU",
          "EGY",
          "SLV",
          "GNQ",
          "ERI",
          "EST",
          "SWZ",
          "ETH",
          "FRO",
          "FJI",
          "FIN",
          "FRA",
          "PYF",
          "GAB",
          "GMB",
          "GEO",
          "DEU",
          "GHA",
          "GIB",
          "GRC",
          "GRL",
          "GRD",
          "GUM",
          "GTM",
          "GIN",
          "GNB",
          "GUY",
          "HTI",
          "HND",
          "HKG",
          "HUN",
          "ISL",
          "IND",
          "IDN",
          "IRN",
          "IRQ",
          "IRL",
          "ISR",
          "ITA",
          "JAM",
          "JPN",
          "JOR",
          "KAZ",
          "KEN",
          "KIR",
          "PRK",
          "KOR",
          "XKX",
          "KWT",
          "KGZ",
          "LAO",
          "LVA",
          "LBN",
          "LSO",
          "LBR",
          "LBY",
          "LIE",
          "LTU",
          "LUX",
          "MAC",
          "MDG",
          "MWI",
          "MYS",
          "MDV",
          "MLI",
          "MLT",
          "MHL",
          "MRT",
          "MUS",
          "MEX",
          "FSM",
          "MDA",
          "MCO",
          "MNG",
          "MNE",
          "MAR",
          "MOZ",
          "MMR",
          "NAM",
          "NRU",
          "NPL",
          "NLD",
          "NCL",
          "NZL",
          "NIC",
          "NER",
          "NGA",
          "MKD",
          "NOR",
          "OMN",
          "PAK",
          "PLW",
          "PAN",
          "PNG",
          "PRY",
          "PER",
          "PHL",
          "POL",
          "PRT",
          "PRI",
          "QAT",
          "ROU",
          "RUS",
          "RWA",
          "WSM",
          "SMR",
          "STP",
          "SAU",
          "SEN",
          "SRB",
          "SYC",
          "SLE",
          "SGP",
          "SVK",
          "SVN",
          "SLB",
          "SOM",
          "ZAF",
          "SSD",
          "ESP",
          "LKA",
          "KNA",
          "LCA",
          "VCT",
          "SDN",
          "SUR",
          "SWE",
          "CHE",
          "SYR",
          "TJK",
          "TZA",
          "THA",
          "TLS",
          "TGO",
          "TON",
          "TTO",
          "TUN",
          "TUR",
          "TKM",
          "TUV",
          "UGA",
          "UKR",
          "ARE",
          "GBR",
          "USA",
          "URY",
          "UZB",
          "VUT",
          "VEN",
          "VNM",
          "VIR",
          "PSE",
          "YEM",
          "ZMB",
          "ZWE"
         ],
         "name": "",
         "z": [
          0.00472257,
          0.114097,
          0.491706,
          10.5388,
          0.105046,
          6.48223,
          7.03868,
          1.30047,
          15.4428,
          46.7561,
          33.7301,
          0.147758,
          8.0,
          6.15373,
          0.0710394,
          3.97368,
          1.8604,
          29.4317,
          5.96384,
          0.225248,
          42.9499,
          0.400944,
          1.44276,
          1.08296,
          2.90267,
          2.87069,
          18.8857,
          8.99628,
          5.37092,
          0.0770802,
          0.0772484,
          1.82244,
          0.0470226,
          0.25212,
          51.3,
          38.0344,
          0.0533942,
          0.0357071,
          16.6,
          1.77591,
          2.20753,
          0.271741,
          0.00590211,
          0.0263547,
          5.80025,
          0.231462,
          6.64488,
          0.541183,
          61.8555,
          15.2554,
          9.78053,
          39.1724,
          0.194501,
          8.81484,
          3.70469,
          1.46219,
          0.641265,
          1.1774,
          0.132355,
          0.136712,
          28.577,
          0.926192,
          0.0152638,
          32.9164,
          1.49685,
          37.2485,
          14.3079,
          6.35706,
          1.21614,
          0.921795,
          0.484746,
          30.2163,
          0.153615,
          19.1316,
          9.13884,
          31.7478,
          4.06391,
          16.1131,
          0.712333,
          0.0954249,
          0.230103,
          0.6,
          0.231271,
          1.20386,
          27.8278,
          6.99968,
          44.4705,
          0.527532,
          0.925564,
          0.93419,
          0.1,
          17.8505,
          20.8738,
          23.1109,
          3.11578,
          29.9907,
          2.62328,
          0.668594,
          0.31806,
          1.78523,
          0.0,
          44.7,
          83.8936,
          6.7314,
          1.0414,
          0.111044,
          6.31906,
          7.95274,
          0.211806,
          0.0177027,
          0.187043,
          36.5152,
          6.42707,
          22.8873,
          13.6086,
          0.196395,
          0.126781,
          21.3847,
          2.20387,
          0.142546,
          13.1137,
          1.53427,
          0.192031,
          7.28154,
          5.08138,
          3.73486,
          1.28285,
          42.1849,
          1.25565,
          25.3501,
          0.693791,
          0.109593,
          2.8928E-4,
          1.64474,
          2.98716,
          0.204652,
          43.9844,
          13.9395,
          47.3796,
          0.980216,
          0.0362613,
          0.0640808,
          2.48557,
          52.0,
          3.52042,
          1.31855,
          20.2439,
          6.5548,
          0.835249,
          0.747631,
          3.07643,
          1.98225,
          7.28543,
          16.4305,
          10.4746,
          4.86368,
          3.61372,
          1.97723,
          0.0628315,
          0.566393,
          48.7995,
          4.63852,
          2.21069,
          0.403967,
          23.5,
          7.39563,
          0.118254,
          36.0,
          9.4268,
          15.1103,
          0.481297,
          0.02,
          5.34856,
          2.2,
          13.625,
          0.64741,
          5.86281,
          5.09048,
          3.24504,
          0.025785,
          2.50641,
          45.6877,
          47.1,
          0.181699,
          0.0485996,
          0.117194,
          3.68904,
          0.0,
          0.8,
          2.4344,
          7.72141,
          2.75074,
          3.76169,
          0.133282,
          5.24164,
          0.163714,
          0.716184,
          23.6253,
          26.8218,
          43.0792,
          10.5391,
          0.484347,
          2.10834,
          3.3596,
          0.254248,
          13.8151,
          1.11131,
          0.0825004,
          0.191072,
          0.401434
         ],
         "type": "choropleth"
        }
       ],
       "layout": {
        "template": {
         "data": {
          "histogram2dcontour": [
           {
            "type": "histogram2dcontour",
            "colorbar": {
             "outlinewidth": 0,
             "ticks": ""
            },
            "colorscale": [
             [
              0.0,
              "#0d0887"
             ],
             [
              0.1111111111111111,
              "#46039f"
             ],
             [
              0.2222222222222222,
              "#7201a8"
             ],
             [
              0.3333333333333333,
              "#9c179e"
             ],
             [
              0.4444444444444444,
              "#bd3786"
             ],
             [
              0.5555555555555556,
              "#d8576b"
             ],
             [
              0.6666666666666666,
              "#ed7953"
             ],
             [
              0.7777777777777778,
              "#fb9f3a"
             ],
             [
              0.8888888888888888,
              "#fdca26"
             ],
             [
              1.0,
              "#f0f921"
             ]
            ]
           }
          ],
          "choropleth": [
           {
            "type": "choropleth",
            "colorbar": {
             "outlinewidth": 0,
             "ticks": ""
            }
           }
          ],
          "histogram2d": [
           {
            "type": "histogram2d",
            "colorbar": {
             "outlinewidth": 0,
             "ticks": ""
            },
            "colorscale": [
             [
              0.0,
              "#0d0887"
             ],
             [
              0.1111111111111111,
              "#46039f"
             ],
             [
              0.2222222222222222,
              "#7201a8"
             ],
             [
              0.3333333333333333,
              "#9c179e"
             ],
             [
              0.4444444444444444,
              "#bd3786"
             ],
             [
              0.5555555555555556,
              "#d8576b"
             ],
             [
              0.6666666666666666,
              "#ed7953"
             ],
             [
              0.7777777777777778,
              "#fb9f3a"
             ],
             [
              0.8888888888888888,
              "#fdca26"
             ],
             [
              1.0,
              "#f0f921"
             ]
            ]
           }
          ],
          "heatmap": [
           {
            "type": "heatmap",
            "colorbar": {
             "outlinewidth": 0,
             "ticks": ""
            },
            "colorscale": [
             [
              0.0,
              "#0d0887"
             ],
             [
              0.1111111111111111,
              "#46039f"
             ],
             [
              0.2222222222222222,
              "#7201a8"
             ],
             [
              0.3333333333333333,
              "#9c179e"
             ],
             [
              0.4444444444444444,
              "#bd3786"
             ],
             [
              0.5555555555555556,
              "#d8576b"
             ],
             [
              0.6666666666666666,
              "#ed7953"
             ],
             [
              0.7777777777777778,
              "#fb9f3a"
             ],
             [
              0.8888888888888888,
              "#fdca26"
             ],
             [
              1.0,
              "#f0f921"
             ]
            ]
           }
          ],
          "heatmapgl": [
           {
            "type": "heatmapgl",
            "colorbar": {
             "outlinewidth": 0,
             "ticks": ""
            },
            "colorscale": [
             [
              0.0,
              "#0d0887"
             ],
             [
              0.1111111111111111,
              "#46039f"
             ],
             [
              0.2222222222222222,
              "#7201a8"
             ],
             [
              0.3333333333333333,
              "#9c179e"
             ],
             [
              0.4444444444444444,
              "#bd3786"
             ],
             [
              0.5555555555555556,
              "#d8576b"
             ],
             [
              0.6666666666666666,
              "#ed7953"
             ],
             [
              0.7777777777777778,
              "#fb9f3a"
             ],
             [
              0.8888888888888888,
              "#fdca26"
             ],
             [
              1.0,
              "#f0f921"
             ]
            ]
           }
          ],
          "contourcarpet": [
           {
            "type": "contourcarpet",
            "colorbar": {
             "outlinewidth": 0,
             "ticks": ""
            }
           }
          ],
          "contour": [
           {
            "type": "contour",
            "colorbar": {
             "outlinewidth": 0,
             "ticks": ""
            },
            "colorscale": [
             [
              0.0,
              "#0d0887"
             ],
             [
              0.1111111111111111,
              "#46039f"
             ],
             [
              0.2222222222222222,
              "#7201a8"
             ],
             [
              0.3333333333333333,
              "#9c179e"
             ],
             [
              0.4444444444444444,
              "#bd3786"
             ],
             [
              0.5555555555555556,
              "#d8576b"
             ],
             [
              0.6666666666666666,
              "#ed7953"
             ],
             [
              0.7777777777777778,
              "#fb9f3a"
             ],
             [
              0.8888888888888888,
              "#fdca26"
             ],
             [
              1.0,
              "#f0f921"
             ]
            ]
           }
          ],
          "surface": [
           {
            "type": "surface",
            "colorbar": {
             "outlinewidth": 0,
             "ticks": ""
            },
            "colorscale": [
             [
              0.0,
              "#0d0887"
             ],
             [
              0.1111111111111111,
              "#46039f"
             ],
             [
              0.2222222222222222,
              "#7201a8"
             ],
             [
              0.3333333333333333,
              "#9c179e"
             ],
             [
              0.4444444444444444,
              "#bd3786"
             ],
             [
              0.5555555555555556,
              "#d8576b"
             ],
             [
              0.6666666666666666,
              "#ed7953"
             ],
             [
              0.7777777777777778,
              "#fb9f3a"
             ],
             [
              0.8888888888888888,
              "#fdca26"
             ],
             [
              1.0,
              "#f0f921"
             ]
            ]
           }
          ],
          "mesh3d": [
           {
            "type": "mesh3d",
            "colorbar": {
             "outlinewidth": 0,
             "ticks": ""
            }
           }
          ],
          "scatter": [
           {
            "fillpattern": {
             "fillmode": "overlay",
             "size": 10,
             "solidity": 0.2
            },
            "type": "scatter"
           }
          ],
          "parcoords": [
           {
            "type": "parcoords",
            "line": {
             "colorbar": {
              "outlinewidth": 0,
              "ticks": ""
             }
            }
           }
          ],
          "scatterpolargl": [
           {
            "type": "scatterpolargl",
            "marker": {
             "colorbar": {
              "outlinewidth": 0,
              "ticks": ""
             }
            }
           }
          ],
          "bar": [
           {
            "error_x": {
             "color": "#2a3f5f"
            },
            "error_y": {
             "color": "#2a3f5f"
            },
            "marker": {
             "line": {
              "color": "#E5ECF6",
              "width": 0.5
             },
             "pattern": {
              "fillmode": "overlay",
              "size": 10,
              "solidity": 0.2
             }
            },
            "type": "bar"
           }
          ],
          "scattergeo": [
           {
            "type": "scattergeo",
            "marker": {
             "colorbar": {
              "outlinewidth": 0,
              "ticks": ""
             }
            }
           }
          ],
          "scatterpolar": [
           {
            "type": "scatterpolar",
            "marker": {
             "colorbar": {
              "outlinewidth": 0,
              "ticks": ""
             }
            }
           }
          ],
          "histogram": [
           {
            "marker": {
             "pattern": {
              "fillmode": "overlay",
              "size": 10,
              "solidity": 0.2
             }
            },
            "type": "histogram"
           }
          ],
          "scattergl": [
           {
            "type": "scattergl",
            "marker": {
             "colorbar": {
              "outlinewidth": 0,
              "ticks": ""
             }
            }
           }
          ],
          "scatter3d": [
           {
            "type": "scatter3d",
            "line": {
             "colorbar": {
              "outlinewidth": 0,
              "ticks": ""
             }
            },
            "marker": {
             "colorbar": {
              "outlinewidth": 0,
              "ticks": ""
             }
            }
           }
          ],
          "scattermapbox": [
           {
            "type": "scattermapbox",
            "marker": {
             "colorbar": {
              "outlinewidth": 0,
              "ticks": ""
             }
            }
           }
          ],
          "scatterternary": [
           {
            "type": "scatterternary",
            "marker": {
             "colorbar": {
              "outlinewidth": 0,
              "ticks": ""
             }
            }
           }
          ],
          "scattercarpet": [
           {
            "type": "scattercarpet",
            "marker": {
             "colorbar": {
              "outlinewidth": 0,
              "ticks": ""
             }
            }
           }
          ],
          "carpet": [
           {
            "aaxis": {
             "endlinecolor": "#2a3f5f",
             "gridcolor": "white",
             "linecolor": "white",
             "minorgridcolor": "white",
             "startlinecolor": "#2a3f5f"
            },
            "baxis": {
             "endlinecolor": "#2a3f5f",
             "gridcolor": "white",
             "linecolor": "white",
             "minorgridcolor": "white",
             "startlinecolor": "#2a3f5f"
            },
            "type": "carpet"
           }
          ],
          "table": [
           {
            "cells": {
             "fill": {
              "color": "#EBF0F8"
             },
             "line": {
              "color": "white"
             }
            },
            "header": {
             "fill": {
              "color": "#C8D4E3"
             },
             "line": {
              "color": "white"
             }
            },
            "type": "table"
           }
          ],
          "barpolar": [
           {
            "marker": {
             "line": {
              "color": "#E5ECF6",
              "width": 0.5
             },
             "pattern": {
              "fillmode": "overlay",
              "size": 10,
              "solidity": 0.2
             }
            },
            "type": "barpolar"
           }
          ],
          "pie": [
           {
            "automargin": true,
            "type": "pie"
           }
          ]
         },
         "layout": {
          "autotypenumbers": "strict",
          "colorway": [
           "#636efa",
           "#EF553B",
           "#00cc96",
           "#ab63fa",
           "#FFA15A",
           "#19d3f3",
           "#FF6692",
           "#B6E880",
           "#FF97FF",
           "#FECB52"
          ],
          "font": {
           "color": "#2a3f5f"
          },
          "hovermode": "closest",
          "hoverlabel": {
           "align": "left"
          },
          "paper_bgcolor": "white",
          "plot_bgcolor": "#E5ECF6",
          "polar": {
           "bgcolor": "#E5ECF6",
           "angularaxis": {
            "gridcolor": "white",
            "linecolor": "white",
            "ticks": ""
           },
           "radialaxis": {
            "gridcolor": "white",
            "linecolor": "white",
            "ticks": ""
           }
          },
          "ternary": {
           "bgcolor": "#E5ECF6",
           "aaxis": {
            "gridcolor": "white",
            "linecolor": "white",
            "ticks": ""
           },
           "baxis": {
            "gridcolor": "white",
            "linecolor": "white",
            "ticks": ""
           },
           "caxis": {
            "gridcolor": "white",
            "linecolor": "white",
            "ticks": ""
           }
          },
          "coloraxis": {
           "colorbar": {
            "outlinewidth": 0,
            "ticks": ""
           }
          },
          "colorscale": {
           "sequential": [
            [
             0.0,
             "#0d0887"
            ],
            [
             0.1111111111111111,
             "#46039f"
            ],
            [
             0.2222222222222222,
             "#7201a8"
            ],
            [
             0.3333333333333333,
             "#9c179e"
            ],
            [
             0.4444444444444444,
             "#bd3786"
            ],
            [
             0.5555555555555556,
             "#d8576b"
            ],
            [
             0.6666666666666666,
             "#ed7953"
            ],
            [
             0.7777777777777778,
             "#fb9f3a"
            ],
            [
             0.8888888888888888,
             "#fdca26"
            ],
            [
             1.0,
             "#f0f921"
            ]
           ],
           "sequentialminus": [
            [
             0.0,
             "#0d0887"
            ],
            [
             0.1111111111111111,
             "#46039f"
            ],
            [
             0.2222222222222222,
             "#7201a8"
            ],
            [
             0.3333333333333333,
             "#9c179e"
            ],
            [
             0.4444444444444444,
             "#bd3786"
            ],
            [
             0.5555555555555556,
             "#d8576b"
            ],
            [
             0.6666666666666666,
             "#ed7953"
            ],
            [
             0.7777777777777778,
             "#fb9f3a"
            ],
            [
             0.8888888888888888,
             "#fdca26"
            ],
            [
             1.0,
             "#f0f921"
            ]
           ],
           "diverging": [
            [
             0,
             "#8e0152"
            ],
            [
             0.1,
             "#c51b7d"
            ],
            [
             0.2,
             "#de77ae"
            ],
            [
             0.3,
             "#f1b6da"
            ],
            [
             0.4,
             "#fde0ef"
            ],
            [
             0.5,
             "#f7f7f7"
            ],
            [
             0.6,
             "#e6f5d0"
            ],
            [
             0.7,
             "#b8e186"
            ],
            [
             0.8,
             "#7fbc41"
            ],
            [
             0.9,
             "#4d9221"
            ],
            [
             1,
             "#276419"
            ]
           ]
          },
          "xaxis": {
           "gridcolor": "white",
           "linecolor": "white",
           "ticks": "",
           "title": {
            "standoff": 15
           },
           "zerolinecolor": "white",
           "automargin": true,
           "zerolinewidth": 2
          },
          "yaxis": {
           "gridcolor": "white",
           "linecolor": "white",
           "ticks": "",
           "title": {
            "standoff": 15
           },
           "zerolinecolor": "white",
           "automargin": true,
           "zerolinewidth": 2
          },
          "scene": {
           "xaxis": {
            "backgroundcolor": "#E5ECF6",
            "gridcolor": "white",
            "linecolor": "white",
            "showbackground": true,
            "ticks": "",
            "zerolinecolor": "white",
            "gridwidth": 2
           },
           "yaxis": {
            "backgroundcolor": "#E5ECF6",
            "gridcolor": "white",
            "linecolor": "white",
            "showbackground": true,
            "ticks": "",
            "zerolinecolor": "white",
            "gridwidth": 2
           },
           "zaxis": {
            "backgroundcolor": "#E5ECF6",
            "gridcolor": "white",
            "linecolor": "white",
            "showbackground": true,
            "ticks": "",
            "zerolinecolor": "white",
            "gridwidth": 2
           }
          },
          "shapedefaults": {
           "line": {
            "color": "#2a3f5f"
           }
          },
          "annotationdefaults": {
           "arrowcolor": "#2a3f5f",
           "arrowhead": 0,
           "arrowwidth": 1
          },
          "geo": {
           "bgcolor": "white",
           "landcolor": "#E5ECF6",
           "subunitcolor": "white",
           "showland": true,
           "showlakes": true,
           "lakecolor": "white"
          },
          "title": {
           "x": 0.05
          },
          "mapbox": {
           "style": "light"
          }
         }
        },
        "geo": {
         "domain": {
          "x": [
           0.0,
           1.0
          ],
          "y": [
           0.0,
           1.0
          ]
         },
         "center": {}
        },
        "coloraxis": {
         "colorbar": {
          "title": {
           "text": "2000"
          }
         },
         "colorscale": [
          [
           0.0,
           "#0d0887"
          ],
          [
           0.1111111111111111,
           "#46039f"
          ],
          [
           0.2222222222222222,
           "#7201a8"
          ],
          [
           0.3333333333333333,
           "#9c179e"
          ],
          [
           0.4444444444444444,
           "#bd3786"
          ],
          [
           0.5555555555555556,
           "#d8576b"
          ],
          [
           0.6666666666666666,
           "#ed7953"
          ],
          [
           0.7777777777777778,
           "#fb9f3a"
          ],
          [
           0.8888888888888888,
           "#fdca26"
          ],
          [
           1.0,
           "#f0f921"
          ]
         ]
        },
        "legend": {
         "tracegroupgap": 0
        },
        "margin": {
         "t": 60
        },
        "title": {
         "text": "Internet usage by country in 2000"
        }
       },
       "config": {
        "plotlyServerURL": "https://plot.ly"
       }
      },
      "text/html": [
       "<div>                            <div id=\"9a565dcf-0ae7-45fe-8d10-f13d5ee3149b\" class=\"plotly-graph-div\" style=\"height:525px; width:100%;\"></div>            <script type=\"text/javascript\">                require([\"plotly\"], function(Plotly) {                    window.PLOTLYENV=window.PLOTLYENV || {};                                    if (document.getElementById(\"9a565dcf-0ae7-45fe-8d10-f13d5ee3149b\")) {                    Plotly.newPlot(                        \"9a565dcf-0ae7-45fe-8d10-f13d5ee3149b\",                        [{\"coloraxis\":\"coloraxis\",\"geo\":\"geo\",\"hovertemplate\":\"\\u003cb\\u003e%{hovertext}\\u003c\\u002fb\\u003e\\u003cbr\\u003e\\u003cbr\\u003eCountry Code=%{location}\\u003cbr\\u003e2000=%{z}\\u003cextra\\u003e\\u003c\\u002fextra\\u003e\",\"hovertext\":[\"Afghanistan\",\"Albania\",\"Algeria\",\"Andorra\",\"Angola\",\"Antigua and Barbuda\",\"Argentina\",\"Armenia\",\"Aruba\",\"Australia\",\"Austria\",\"Azerbaijan\",\"Bahamas, The\",\"Bahrain\",\"Bangladesh\",\"Barbados\",\"Belarus\",\"Belgium\",\"Belize\",\"Benin\",\"Bermuda\",\"Bhutan\",\"Bolivia\",\"Bosnia and Herzegovina\",\"Botswana\",\"Brazil\",\"British Virgin Islands\",\"Brunei Darussalam\",\"Bulgaria\",\"Burkina Faso\",\"Burundi\",\"Cabo Verde\",\"Cambodia\",\"Cameroon\",\"Canada\",\"Cayman Islands\",\"Central African Republic\",\"Chad\",\"Chile\",\"China\",\"Colombia\",\"Comoros\",\"Congo, Dem. Rep.\",\"Congo, Rep.\",\"Costa Rica\",\"Cote d'Ivoire\",\"Croatia\",\"Cuba\",\"Curacao\",\"Cyprus\",\"Czechia\",\"Denmark\",\"Djibouti\",\"Dominica\",\"Dominican Republic\",\"Ecuador\",\"Egypt, Arab Rep.\",\"El Salvador\",\"Equatorial Guinea\",\"Eritrea\",\"Estonia\",\"Eswatini\",\"Ethiopia\",\"Faroe Islands\",\"Fiji\",\"Finland\",\"France\",\"French Polynesia\",\"Gabon\",\"Gambia, The\",\"Georgia\",\"Germany\",\"Ghana\",\"Gibraltar\",\"Greece\",\"Greenland\",\"Grenada\",\"Guam\",\"Guatemala\",\"Guinea\",\"Guinea-Bissau\",\"Guyana\",\"Haiti\",\"Honduras\",\"Hong Kong SAR, China\",\"Hungary\",\"Iceland\",\"India\",\"Indonesia\",\"Iran, Islamic Rep.\",\"Iraq\",\"Ireland\",\"Israel\",\"Italy\",\"Jamaica\",\"Japan\",\"Jordan\",\"Kazakhstan\",\"Kenya\",\"Kiribati\",\"Korea, Dem. People's Rep.\",\"Korea, Rep.\",\"Kosovo\",\"Kuwait\",\"Kyrgyz Republic\",\"Lao PDR\",\"Latvia\",\"Lebanon\",\"Lesotho\",\"Liberia\",\"Libya\",\"Liechtenstein\",\"Lithuania\",\"Luxembourg\",\"Macao SAR, China\",\"Madagascar\",\"Malawi\",\"Malaysia\",\"Maldives\",\"Mali\",\"Malta\",\"Marshall Islands\",\"Mauritania\",\"Mauritius\",\"Mexico\",\"Micronesia, Fed. Sts.\",\"Moldova\",\"Monaco\",\"Mongolia\",\"Montenegro\",\"Morocco\",\"Mozambique\",\"Myanmar\",\"Namibia\",\"Nauru\",\"Nepal\",\"Netherlands\",\"New Caledonia\",\"New Zealand\",\"Nicaragua\",\"Niger\",\"Nigeria\",\"North Macedonia\",\"Norway\",\"Oman\",\"Pakistan\",\"Palau\",\"Panama\",\"Papua New Guinea\",\"Paraguay\",\"Peru\",\"Philippines\",\"Poland\",\"Portugal\",\"Puerto Rico\",\"Qatar\",\"Romania\",\"Russian Federation\",\"Rwanda\",\"Samoa\",\"San Marino\",\"Sao Tome and Principe\",\"Saudi Arabia\",\"Senegal\",\"Serbia\",\"Seychelles\",\"Sierra Leone\",\"Singapore\",\"Slovak Republic\",\"Slovenia\",\"Solomon Islands\",\"Somalia\",\"South Africa\",\"South Sudan\",\"Spain\",\"Sri Lanka\",\"St. Kitts and Nevis\",\"St. Lucia\",\"St. Vincent and the Grenadines\",\"Sudan\",\"Suriname\",\"Sweden\",\"Switzerland\",\"Syrian Arab Republic\",\"Tajikistan\",\"Tanzania\",\"Thailand\",\"Timor-Leste\",\"Togo\",\"Tonga\",\"Trinidad and Tobago\",\"Tunisia\",\"Turkiye\",\"Turkmenistan\",\"Tuvalu\",\"Uganda\",\"Ukraine\",\"United Arab Emirates\",\"United Kingdom\",\"United States\",\"Uruguay\",\"Uzbekistan\",\"Vanuatu\",\"Venezuela, RB\",\"Viet Nam\",\"Virgin Islands (U.S.)\",\"West Bank and Gaza\",\"Yemen, Rep.\",\"Zambia\",\"Zimbabwe\"],\"locations\":[\"AFG\",\"ALB\",\"DZA\",\"AND\",\"AGO\",\"ATG\",\"ARG\",\"ARM\",\"ABW\",\"AUS\",\"AUT\",\"AZE\",\"BHS\",\"BHR\",\"BGD\",\"BRB\",\"BLR\",\"BEL\",\"BLZ\",\"BEN\",\"BMU\",\"BTN\",\"BOL\",\"BIH\",\"BWA\",\"BRA\",\"VGB\",\"BRN\",\"BGR\",\"BFA\",\"BDI\",\"CPV\",\"KHM\",\"CMR\",\"CAN\",\"CYM\",\"CAF\",\"TCD\",\"CHL\",\"CHN\",\"COL\",\"COM\",\"COD\",\"COG\",\"CRI\",\"CIV\",\"HRV\",\"CUB\",\"CUW\",\"CYP\",\"CZE\",\"DNK\",\"DJI\",\"DMA\",\"DOM\",\"ECU\",\"EGY\",\"SLV\",\"GNQ\",\"ERI\",\"EST\",\"SWZ\",\"ETH\",\"FRO\",\"FJI\",\"FIN\",\"FRA\",\"PYF\",\"GAB\",\"GMB\",\"GEO\",\"DEU\",\"GHA\",\"GIB\",\"GRC\",\"GRL\",\"GRD\",\"GUM\",\"GTM\",\"GIN\",\"GNB\",\"GUY\",\"HTI\",\"HND\",\"HKG\",\"HUN\",\"ISL\",\"IND\",\"IDN\",\"IRN\",\"IRQ\",\"IRL\",\"ISR\",\"ITA\",\"JAM\",\"JPN\",\"JOR\",\"KAZ\",\"KEN\",\"KIR\",\"PRK\",\"KOR\",\"XKX\",\"KWT\",\"KGZ\",\"LAO\",\"LVA\",\"LBN\",\"LSO\",\"LBR\",\"LBY\",\"LIE\",\"LTU\",\"LUX\",\"MAC\",\"MDG\",\"MWI\",\"MYS\",\"MDV\",\"MLI\",\"MLT\",\"MHL\",\"MRT\",\"MUS\",\"MEX\",\"FSM\",\"MDA\",\"MCO\",\"MNG\",\"MNE\",\"MAR\",\"MOZ\",\"MMR\",\"NAM\",\"NRU\",\"NPL\",\"NLD\",\"NCL\",\"NZL\",\"NIC\",\"NER\",\"NGA\",\"MKD\",\"NOR\",\"OMN\",\"PAK\",\"PLW\",\"PAN\",\"PNG\",\"PRY\",\"PER\",\"PHL\",\"POL\",\"PRT\",\"PRI\",\"QAT\",\"ROU\",\"RUS\",\"RWA\",\"WSM\",\"SMR\",\"STP\",\"SAU\",\"SEN\",\"SRB\",\"SYC\",\"SLE\",\"SGP\",\"SVK\",\"SVN\",\"SLB\",\"SOM\",\"ZAF\",\"SSD\",\"ESP\",\"LKA\",\"KNA\",\"LCA\",\"VCT\",\"SDN\",\"SUR\",\"SWE\",\"CHE\",\"SYR\",\"TJK\",\"TZA\",\"THA\",\"TLS\",\"TGO\",\"TON\",\"TTO\",\"TUN\",\"TUR\",\"TKM\",\"TUV\",\"UGA\",\"UKR\",\"ARE\",\"GBR\",\"USA\",\"URY\",\"UZB\",\"VUT\",\"VEN\",\"VNM\",\"VIR\",\"PSE\",\"YEM\",\"ZMB\",\"ZWE\"],\"name\":\"\",\"z\":[0.00472257,0.114097,0.491706,10.5388,0.105046,6.48223,7.03868,1.30047,15.4428,46.7561,33.7301,0.147758,8.0,6.15373,0.0710394,3.97368,1.8604,29.4317,5.96384,0.225248,42.9499,0.400944,1.44276,1.08296,2.90267,2.87069,18.8857,8.99628,5.37092,0.0770802,0.0772484,1.82244,0.0470226,0.25212,51.3,38.0344,0.0533942,0.0357071,16.6,1.77591,2.20753,0.271741,0.00590211,0.0263547,5.80025,0.231462,6.64488,0.541183,61.8555,15.2554,9.78053,39.1724,0.194501,8.81484,3.70469,1.46219,0.641265,1.1774,0.132355,0.136712,28.577,0.926192,0.0152638,32.9164,1.49685,37.2485,14.3079,6.35706,1.21614,0.921795,0.484746,30.2163,0.153615,19.1316,9.13884,31.7478,4.06391,16.1131,0.712333,0.0954249,0.230103,0.6,0.231271,1.20386,27.8278,6.99968,44.4705,0.527532,0.925564,0.93419,0.1,17.8505,20.8738,23.1109,3.11578,29.9907,2.62328,0.668594,0.31806,1.78523,0.0,44.7,83.8936,6.7314,1.0414,0.111044,6.31906,7.95274,0.211806,0.0177027,0.187043,36.5152,6.42707,22.8873,13.6086,0.196395,0.126781,21.3847,2.20387,0.142546,13.1137,1.53427,0.192031,7.28154,5.08138,3.73486,1.28285,42.1849,1.25565,25.3501,0.693791,0.109593,0.00028928,1.64474,2.98716,0.204652,43.9844,13.9395,47.3796,0.980216,0.0362613,0.0640808,2.48557,52.0,3.52042,1.31855,20.2439,6.5548,0.835249,0.747631,3.07643,1.98225,7.28543,16.4305,10.4746,4.86368,3.61372,1.97723,0.0628315,0.566393,48.7995,4.63852,2.21069,0.403967,23.5,7.39563,0.118254,36.0,9.4268,15.1103,0.481297,0.02,5.34856,2.2,13.625,0.64741,5.86281,5.09048,3.24504,0.025785,2.50641,45.6877,47.1,0.181699,0.0485996,0.117194,3.68904,0.0,0.8,2.4344,7.72141,2.75074,3.76169,0.133282,5.24164,0.163714,0.716184,23.6253,26.8218,43.0792,10.5391,0.484347,2.10834,3.3596,0.254248,13.8151,1.11131,0.0825004,0.191072,0.401434],\"type\":\"choropleth\"}],                        {\"template\":{\"data\":{\"histogram2dcontour\":[{\"type\":\"histogram2dcontour\",\"colorbar\":{\"outlinewidth\":0,\"ticks\":\"\"},\"colorscale\":[[0.0,\"#0d0887\"],[0.1111111111111111,\"#46039f\"],[0.2222222222222222,\"#7201a8\"],[0.3333333333333333,\"#9c179e\"],[0.4444444444444444,\"#bd3786\"],[0.5555555555555556,\"#d8576b\"],[0.6666666666666666,\"#ed7953\"],[0.7777777777777778,\"#fb9f3a\"],[0.8888888888888888,\"#fdca26\"],[1.0,\"#f0f921\"]]}],\"choropleth\":[{\"type\":\"choropleth\",\"colorbar\":{\"outlinewidth\":0,\"ticks\":\"\"}}],\"histogram2d\":[{\"type\":\"histogram2d\",\"colorbar\":{\"outlinewidth\":0,\"ticks\":\"\"},\"colorscale\":[[0.0,\"#0d0887\"],[0.1111111111111111,\"#46039f\"],[0.2222222222222222,\"#7201a8\"],[0.3333333333333333,\"#9c179e\"],[0.4444444444444444,\"#bd3786\"],[0.5555555555555556,\"#d8576b\"],[0.6666666666666666,\"#ed7953\"],[0.7777777777777778,\"#fb9f3a\"],[0.8888888888888888,\"#fdca26\"],[1.0,\"#f0f921\"]]}],\"heatmap\":[{\"type\":\"heatmap\",\"colorbar\":{\"outlinewidth\":0,\"ticks\":\"\"},\"colorscale\":[[0.0,\"#0d0887\"],[0.1111111111111111,\"#46039f\"],[0.2222222222222222,\"#7201a8\"],[0.3333333333333333,\"#9c179e\"],[0.4444444444444444,\"#bd3786\"],[0.5555555555555556,\"#d8576b\"],[0.6666666666666666,\"#ed7953\"],[0.7777777777777778,\"#fb9f3a\"],[0.8888888888888888,\"#fdca26\"],[1.0,\"#f0f921\"]]}],\"heatmapgl\":[{\"type\":\"heatmapgl\",\"colorbar\":{\"outlinewidth\":0,\"ticks\":\"\"},\"colorscale\":[[0.0,\"#0d0887\"],[0.1111111111111111,\"#46039f\"],[0.2222222222222222,\"#7201a8\"],[0.3333333333333333,\"#9c179e\"],[0.4444444444444444,\"#bd3786\"],[0.5555555555555556,\"#d8576b\"],[0.6666666666666666,\"#ed7953\"],[0.7777777777777778,\"#fb9f3a\"],[0.8888888888888888,\"#fdca26\"],[1.0,\"#f0f921\"]]}],\"contourcarpet\":[{\"type\":\"contourcarpet\",\"colorbar\":{\"outlinewidth\":0,\"ticks\":\"\"}}],\"contour\":[{\"type\":\"contour\",\"colorbar\":{\"outlinewidth\":0,\"ticks\":\"\"},\"colorscale\":[[0.0,\"#0d0887\"],[0.1111111111111111,\"#46039f\"],[0.2222222222222222,\"#7201a8\"],[0.3333333333333333,\"#9c179e\"],[0.4444444444444444,\"#bd3786\"],[0.5555555555555556,\"#d8576b\"],[0.6666666666666666,\"#ed7953\"],[0.7777777777777778,\"#fb9f3a\"],[0.8888888888888888,\"#fdca26\"],[1.0,\"#f0f921\"]]}],\"surface\":[{\"type\":\"surface\",\"colorbar\":{\"outlinewidth\":0,\"ticks\":\"\"},\"colorscale\":[[0.0,\"#0d0887\"],[0.1111111111111111,\"#46039f\"],[0.2222222222222222,\"#7201a8\"],[0.3333333333333333,\"#9c179e\"],[0.4444444444444444,\"#bd3786\"],[0.5555555555555556,\"#d8576b\"],[0.6666666666666666,\"#ed7953\"],[0.7777777777777778,\"#fb9f3a\"],[0.8888888888888888,\"#fdca26\"],[1.0,\"#f0f921\"]]}],\"mesh3d\":[{\"type\":\"mesh3d\",\"colorbar\":{\"outlinewidth\":0,\"ticks\":\"\"}}],\"scatter\":[{\"fillpattern\":{\"fillmode\":\"overlay\",\"size\":10,\"solidity\":0.2},\"type\":\"scatter\"}],\"parcoords\":[{\"type\":\"parcoords\",\"line\":{\"colorbar\":{\"outlinewidth\":0,\"ticks\":\"\"}}}],\"scatterpolargl\":[{\"type\":\"scatterpolargl\",\"marker\":{\"colorbar\":{\"outlinewidth\":0,\"ticks\":\"\"}}}],\"bar\":[{\"error_x\":{\"color\":\"#2a3f5f\"},\"error_y\":{\"color\":\"#2a3f5f\"},\"marker\":{\"line\":{\"color\":\"#E5ECF6\",\"width\":0.5},\"pattern\":{\"fillmode\":\"overlay\",\"size\":10,\"solidity\":0.2}},\"type\":\"bar\"}],\"scattergeo\":[{\"type\":\"scattergeo\",\"marker\":{\"colorbar\":{\"outlinewidth\":0,\"ticks\":\"\"}}}],\"scatterpolar\":[{\"type\":\"scatterpolar\",\"marker\":{\"colorbar\":{\"outlinewidth\":0,\"ticks\":\"\"}}}],\"histogram\":[{\"marker\":{\"pattern\":{\"fillmode\":\"overlay\",\"size\":10,\"solidity\":0.2}},\"type\":\"histogram\"}],\"scattergl\":[{\"type\":\"scattergl\",\"marker\":{\"colorbar\":{\"outlinewidth\":0,\"ticks\":\"\"}}}],\"scatter3d\":[{\"type\":\"scatter3d\",\"line\":{\"colorbar\":{\"outlinewidth\":0,\"ticks\":\"\"}},\"marker\":{\"colorbar\":{\"outlinewidth\":0,\"ticks\":\"\"}}}],\"scattermapbox\":[{\"type\":\"scattermapbox\",\"marker\":{\"colorbar\":{\"outlinewidth\":0,\"ticks\":\"\"}}}],\"scatterternary\":[{\"type\":\"scatterternary\",\"marker\":{\"colorbar\":{\"outlinewidth\":0,\"ticks\":\"\"}}}],\"scattercarpet\":[{\"type\":\"scattercarpet\",\"marker\":{\"colorbar\":{\"outlinewidth\":0,\"ticks\":\"\"}}}],\"carpet\":[{\"aaxis\":{\"endlinecolor\":\"#2a3f5f\",\"gridcolor\":\"white\",\"linecolor\":\"white\",\"minorgridcolor\":\"white\",\"startlinecolor\":\"#2a3f5f\"},\"baxis\":{\"endlinecolor\":\"#2a3f5f\",\"gridcolor\":\"white\",\"linecolor\":\"white\",\"minorgridcolor\":\"white\",\"startlinecolor\":\"#2a3f5f\"},\"type\":\"carpet\"}],\"table\":[{\"cells\":{\"fill\":{\"color\":\"#EBF0F8\"},\"line\":{\"color\":\"white\"}},\"header\":{\"fill\":{\"color\":\"#C8D4E3\"},\"line\":{\"color\":\"white\"}},\"type\":\"table\"}],\"barpolar\":[{\"marker\":{\"line\":{\"color\":\"#E5ECF6\",\"width\":0.5},\"pattern\":{\"fillmode\":\"overlay\",\"size\":10,\"solidity\":0.2}},\"type\":\"barpolar\"}],\"pie\":[{\"automargin\":true,\"type\":\"pie\"}]},\"layout\":{\"autotypenumbers\":\"strict\",\"colorway\":[\"#636efa\",\"#EF553B\",\"#00cc96\",\"#ab63fa\",\"#FFA15A\",\"#19d3f3\",\"#FF6692\",\"#B6E880\",\"#FF97FF\",\"#FECB52\"],\"font\":{\"color\":\"#2a3f5f\"},\"hovermode\":\"closest\",\"hoverlabel\":{\"align\":\"left\"},\"paper_bgcolor\":\"white\",\"plot_bgcolor\":\"#E5ECF6\",\"polar\":{\"bgcolor\":\"#E5ECF6\",\"angularaxis\":{\"gridcolor\":\"white\",\"linecolor\":\"white\",\"ticks\":\"\"},\"radialaxis\":{\"gridcolor\":\"white\",\"linecolor\":\"white\",\"ticks\":\"\"}},\"ternary\":{\"bgcolor\":\"#E5ECF6\",\"aaxis\":{\"gridcolor\":\"white\",\"linecolor\":\"white\",\"ticks\":\"\"},\"baxis\":{\"gridcolor\":\"white\",\"linecolor\":\"white\",\"ticks\":\"\"},\"caxis\":{\"gridcolor\":\"white\",\"linecolor\":\"white\",\"ticks\":\"\"}},\"coloraxis\":{\"colorbar\":{\"outlinewidth\":0,\"ticks\":\"\"}},\"colorscale\":{\"sequential\":[[0.0,\"#0d0887\"],[0.1111111111111111,\"#46039f\"],[0.2222222222222222,\"#7201a8\"],[0.3333333333333333,\"#9c179e\"],[0.4444444444444444,\"#bd3786\"],[0.5555555555555556,\"#d8576b\"],[0.6666666666666666,\"#ed7953\"],[0.7777777777777778,\"#fb9f3a\"],[0.8888888888888888,\"#fdca26\"],[1.0,\"#f0f921\"]],\"sequentialminus\":[[0.0,\"#0d0887\"],[0.1111111111111111,\"#46039f\"],[0.2222222222222222,\"#7201a8\"],[0.3333333333333333,\"#9c179e\"],[0.4444444444444444,\"#bd3786\"],[0.5555555555555556,\"#d8576b\"],[0.6666666666666666,\"#ed7953\"],[0.7777777777777778,\"#fb9f3a\"],[0.8888888888888888,\"#fdca26\"],[1.0,\"#f0f921\"]],\"diverging\":[[0,\"#8e0152\"],[0.1,\"#c51b7d\"],[0.2,\"#de77ae\"],[0.3,\"#f1b6da\"],[0.4,\"#fde0ef\"],[0.5,\"#f7f7f7\"],[0.6,\"#e6f5d0\"],[0.7,\"#b8e186\"],[0.8,\"#7fbc41\"],[0.9,\"#4d9221\"],[1,\"#276419\"]]},\"xaxis\":{\"gridcolor\":\"white\",\"linecolor\":\"white\",\"ticks\":\"\",\"title\":{\"standoff\":15},\"zerolinecolor\":\"white\",\"automargin\":true,\"zerolinewidth\":2},\"yaxis\":{\"gridcolor\":\"white\",\"linecolor\":\"white\",\"ticks\":\"\",\"title\":{\"standoff\":15},\"zerolinecolor\":\"white\",\"automargin\":true,\"zerolinewidth\":2},\"scene\":{\"xaxis\":{\"backgroundcolor\":\"#E5ECF6\",\"gridcolor\":\"white\",\"linecolor\":\"white\",\"showbackground\":true,\"ticks\":\"\",\"zerolinecolor\":\"white\",\"gridwidth\":2},\"yaxis\":{\"backgroundcolor\":\"#E5ECF6\",\"gridcolor\":\"white\",\"linecolor\":\"white\",\"showbackground\":true,\"ticks\":\"\",\"zerolinecolor\":\"white\",\"gridwidth\":2},\"zaxis\":{\"backgroundcolor\":\"#E5ECF6\",\"gridcolor\":\"white\",\"linecolor\":\"white\",\"showbackground\":true,\"ticks\":\"\",\"zerolinecolor\":\"white\",\"gridwidth\":2}},\"shapedefaults\":{\"line\":{\"color\":\"#2a3f5f\"}},\"annotationdefaults\":{\"arrowcolor\":\"#2a3f5f\",\"arrowhead\":0,\"arrowwidth\":1},\"geo\":{\"bgcolor\":\"white\",\"landcolor\":\"#E5ECF6\",\"subunitcolor\":\"white\",\"showland\":true,\"showlakes\":true,\"lakecolor\":\"white\"},\"title\":{\"x\":0.05},\"mapbox\":{\"style\":\"light\"}}},\"geo\":{\"domain\":{\"x\":[0.0,1.0],\"y\":[0.0,1.0]},\"center\":{}},\"coloraxis\":{\"colorbar\":{\"title\":{\"text\":\"2000\"}},\"colorscale\":[[0.0,\"#0d0887\"],[0.1111111111111111,\"#46039f\"],[0.2222222222222222,\"#7201a8\"],[0.3333333333333333,\"#9c179e\"],[0.4444444444444444,\"#bd3786\"],[0.5555555555555556,\"#d8576b\"],[0.6666666666666666,\"#ed7953\"],[0.7777777777777778,\"#fb9f3a\"],[0.8888888888888888,\"#fdca26\"],[1.0,\"#f0f921\"]]},\"legend\":{\"tracegroupgap\":0},\"margin\":{\"t\":60},\"title\":{\"text\":\"Internet usage by country in 2000\"}},                        {\"responsive\": true}                    ).then(function(){\n",
       "                            \n",
       "var gd = document.getElementById('9a565dcf-0ae7-45fe-8d10-f13d5ee3149b');\n",
       "var x = new MutationObserver(function (mutations, observer) {{\n",
       "        var display = window.getComputedStyle(gd).display;\n",
       "        if (!display || display === 'none') {{\n",
       "            console.log([gd, 'removed!']);\n",
       "            Plotly.purge(gd);\n",
       "            observer.disconnect();\n",
       "        }}\n",
       "}});\n",
       "\n",
       "// Listen for the removal of the full notebook cells\n",
       "var notebookContainer = gd.closest('#notebook-container');\n",
       "if (notebookContainer) {{\n",
       "    x.observe(notebookContainer, {childList: true});\n",
       "}}\n",
       "\n",
       "// Listen for the clearing of the current output cell\n",
       "var outputEl = gd.closest('.output');\n",
       "if (outputEl) {{\n",
       "    x.observe(outputEl, {childList: true});\n",
       "}}\n",
       "\n",
       "                        })                };                });            </script>        </div>"
      ]
     },
     "metadata": {},
     "output_type": "display_data"
    }
   ],
   "execution_count": 115
  },
  {
   "metadata": {},
   "cell_type": "markdown",
   "source": "- 2000 map shows high usage concentrated in North America, Western Europe, and Australia",
   "id": "726b2e4675abd3c9"
  },
  {
   "metadata": {
    "ExecuteTime": {
     "end_time": "2025-02-08T05:24:08.860826Z",
     "start_time": "2025-02-08T05:24:08.811410Z"
    }
   },
   "cell_type": "code",
   "source": [
    "# Using plotly to create an interactive geographic plot in 2023\n",
    "fig = px.choropleth(df_mod_new, locations='Country Code', color='2023', hover_name='Country Name', color_continuous_scale=px.colors.sequential.Plasma)\n",
    "fig.update_layout(title='Internet usage by country in 2023')\n",
    "fig.show()"
   ],
   "id": "8cba00abb74fa0a2",
   "outputs": [
    {
     "data": {
      "application/vnd.plotly.v1+json": {
       "data": [
        {
         "coloraxis": "coloraxis",
         "geo": "geo",
         "hovertemplate": "<b>%{hovertext}</b><br><br>Country Code=%{location}<br>2023=%{z}<extra></extra>",
         "hovertext": [
          "Afghanistan",
          "Albania",
          "Algeria",
          "Andorra",
          "Angola",
          "Antigua and Barbuda",
          "Argentina",
          "Armenia",
          "Aruba",
          "Australia",
          "Austria",
          "Azerbaijan",
          "Bahamas, The",
          "Bahrain",
          "Bangladesh",
          "Barbados",
          "Belarus",
          "Belgium",
          "Belize",
          "Benin",
          "Bermuda",
          "Bhutan",
          "Bolivia",
          "Bosnia and Herzegovina",
          "Botswana",
          "Brazil",
          "British Virgin Islands",
          "Brunei Darussalam",
          "Bulgaria",
          "Burkina Faso",
          "Burundi",
          "Cabo Verde",
          "Cambodia",
          "Cameroon",
          "Canada",
          "Cayman Islands",
          "Central African Republic",
          "Chad",
          "Chile",
          "China",
          "Colombia",
          "Comoros",
          "Congo, Dem. Rep.",
          "Congo, Rep.",
          "Costa Rica",
          "Cote d'Ivoire",
          "Croatia",
          "Cuba",
          "Curacao",
          "Cyprus",
          "Czechia",
          "Denmark",
          "Djibouti",
          "Dominica",
          "Dominican Republic",
          "Ecuador",
          "Egypt, Arab Rep.",
          "El Salvador",
          "Equatorial Guinea",
          "Eritrea",
          "Estonia",
          "Eswatini",
          "Ethiopia",
          "Faroe Islands",
          "Fiji",
          "Finland",
          "France",
          "French Polynesia",
          "Gabon",
          "Gambia, The",
          "Georgia",
          "Germany",
          "Ghana",
          "Gibraltar",
          "Greece",
          "Greenland",
          "Grenada",
          "Guam",
          "Guatemala",
          "Guinea",
          "Guinea-Bissau",
          "Guyana",
          "Haiti",
          "Honduras",
          "Hong Kong SAR, China",
          "Hungary",
          "Iceland",
          "India",
          "Indonesia",
          "Iran, Islamic Rep.",
          "Iraq",
          "Ireland",
          "Israel",
          "Italy",
          "Jamaica",
          "Japan",
          "Jordan",
          "Kazakhstan",
          "Kenya",
          "Kiribati",
          "Korea, Dem. People's Rep.",
          "Korea, Rep.",
          "Kosovo",
          "Kuwait",
          "Kyrgyz Republic",
          "Lao PDR",
          "Latvia",
          "Lebanon",
          "Lesotho",
          "Liberia",
          "Libya",
          "Liechtenstein",
          "Lithuania",
          "Luxembourg",
          "Macao SAR, China",
          "Madagascar",
          "Malawi",
          "Malaysia",
          "Maldives",
          "Mali",
          "Malta",
          "Marshall Islands",
          "Mauritania",
          "Mauritius",
          "Mexico",
          "Micronesia, Fed. Sts.",
          "Moldova",
          "Monaco",
          "Mongolia",
          "Montenegro",
          "Morocco",
          "Mozambique",
          "Myanmar",
          "Namibia",
          "Nauru",
          "Nepal",
          "Netherlands",
          "New Caledonia",
          "New Zealand",
          "Nicaragua",
          "Niger",
          "Nigeria",
          "North Macedonia",
          "Norway",
          "Oman",
          "Pakistan",
          "Palau",
          "Panama",
          "Papua New Guinea",
          "Paraguay",
          "Peru",
          "Philippines",
          "Poland",
          "Portugal",
          "Puerto Rico",
          "Qatar",
          "Romania",
          "Russian Federation",
          "Rwanda",
          "Samoa",
          "San Marino",
          "Sao Tome and Principe",
          "Saudi Arabia",
          "Senegal",
          "Serbia",
          "Seychelles",
          "Sierra Leone",
          "Singapore",
          "Slovak Republic",
          "Slovenia",
          "Solomon Islands",
          "Somalia",
          "South Africa",
          "South Sudan",
          "Spain",
          "Sri Lanka",
          "St. Kitts and Nevis",
          "St. Lucia",
          "St. Vincent and the Grenadines",
          "Sudan",
          "Suriname",
          "Sweden",
          "Switzerland",
          "Syrian Arab Republic",
          "Tajikistan",
          "Tanzania",
          "Thailand",
          "Timor-Leste",
          "Togo",
          "Tonga",
          "Trinidad and Tobago",
          "Tunisia",
          "Turkiye",
          "Turkmenistan",
          "Tuvalu",
          "Uganda",
          "Ukraine",
          "United Arab Emirates",
          "United Kingdom",
          "United States",
          "Uruguay",
          "Uzbekistan",
          "Vanuatu",
          "Venezuela, RB",
          "Viet Nam",
          "Virgin Islands (U.S.)",
          "West Bank and Gaza",
          "Yemen, Rep.",
          "Zambia",
          "Zimbabwe"
         ],
         "locations": [
          "AFG",
          "ALB",
          "DZA",
          "AND",
          "AGO",
          "ATG",
          "ARG",
          "ARM",
          "ABW",
          "AUS",
          "AUT",
          "AZE",
          "BHS",
          "BHR",
          "BGD",
          "BRB",
          "BLR",
          "BEL",
          "BLZ",
          "BEN",
          "BMU",
          "BTN",
          "BOL",
          "BIH",
          "BWA",
          "BRA",
          "VGB",
          "BRN",
          "BGR",
          "BFA",
          "BDI",
          "CPV",
          "KHM",
          "CMR",
          "CAN",
          "CYM",
          "CAF",
          "TCD",
          "CHL",
          "CHN",
          "COL",
          "COM",
          "COD",
          "COG",
          "CRI",
          "CIV",
          "HRV",
          "CUB",
          "CUW",
          "CYP",
          "CZE",
          "DNK",
          "DJI",
          "DMA",
          "DOM",
          "ECU",
          "EGY",
          "SLV",
          "GNQ",
          "ERI",
          "EST",
          "SWZ",
          "ETH",
          "FRO",
          "FJI",
          "FIN",
          "FRA",
          "PYF",
          "GAB",
          "GMB",
          "GEO",
          "DEU",
          "GHA",
          "GIB",
          "GRC",
          "GRL",
          "GRD",
          "GUM",
          "GTM",
          "GIN",
          "GNB",
          "GUY",
          "HTI",
          "HND",
          "HKG",
          "HUN",
          "ISL",
          "IND",
          "IDN",
          "IRN",
          "IRQ",
          "IRL",
          "ISR",
          "ITA",
          "JAM",
          "JPN",
          "JOR",
          "KAZ",
          "KEN",
          "KIR",
          "PRK",
          "KOR",
          "XKX",
          "KWT",
          "KGZ",
          "LAO",
          "LVA",
          "LBN",
          "LSO",
          "LBR",
          "LBY",
          "LIE",
          "LTU",
          "LUX",
          "MAC",
          "MDG",
          "MWI",
          "MYS",
          "MDV",
          "MLI",
          "MLT",
          "MHL",
          "MRT",
          "MUS",
          "MEX",
          "FSM",
          "MDA",
          "MCO",
          "MNG",
          "MNE",
          "MAR",
          "MOZ",
          "MMR",
          "NAM",
          "NRU",
          "NPL",
          "NLD",
          "NCL",
          "NZL",
          "NIC",
          "NER",
          "NGA",
          "MKD",
          "NOR",
          "OMN",
          "PAK",
          "PLW",
          "PAN",
          "PNG",
          "PRY",
          "PER",
          "PHL",
          "POL",
          "PRT",
          "PRI",
          "QAT",
          "ROU",
          "RUS",
          "RWA",
          "WSM",
          "SMR",
          "STP",
          "SAU",
          "SEN",
          "SRB",
          "SYC",
          "SLE",
          "SGP",
          "SVK",
          "SVN",
          "SLB",
          "SOM",
          "ZAF",
          "SSD",
          "ESP",
          "LKA",
          "KNA",
          "LCA",
          "VCT",
          "SDN",
          "SUR",
          "SWE",
          "CHE",
          "SYR",
          "TJK",
          "TZA",
          "THA",
          "TLS",
          "TGO",
          "TON",
          "TTO",
          "TUN",
          "TUR",
          "TKM",
          "TUV",
          "UGA",
          "UKR",
          "ARE",
          "GBR",
          "USA",
          "URY",
          "UZB",
          "VUT",
          "VEN",
          "VNM",
          "VIR",
          "PSE",
          "YEM",
          "ZMB",
          "ZWE"
         ],
         "name": "",
         "z": [
          18.4,
          83.1356,
          71.2432,
          94.4855,
          39.2935,
          91.4123,
          89.229,
          77.0277,
          97.17,
          94.8762,
          95.3347,
          88.0,
          94.4117,
          100.0,
          44.5027,
          76.2053,
          91.5125,
          94.6263,
          70.354,
          33.7602,
          98.37,
          86.8403,
          73.2831,
          83.3772,
          77.3272,
          84.1506,
          77.7043,
          98.9704,
          80.3896,
          19.9237,
          11.275,
          72.1021,
          56.7328,
          43.8629,
          94.0,
          81.0677,
          10.5826396,
          12.1839,
          94.1192,
          77.4827,
          72.7964,
          27.3369432,
          27.24,
          36.2469,
          85.127,
          38.4133,
          83.2412,
          73.2178,
          68.1272,
          91.2212,
          85.9941,
          98.7756,
          65.0322,
          83.3767,
          84.3832,
          72.6943,
          72.1981,
          62.8885,
          66.8193,
          26.5942,
          93.1834,
          58.2502,
          19.3781,
          97.582,
          85.2199,
          93.5139,
          86.8364,
          72.7039,
          73.6951,
          54.1899,
          81.8842,
          92.4764,
          69.8405,
          94.4445,
          85.0102,
          69.4825,
          79.8955,
          80.5055,
          54.4043,
          33.923,
          31.567,
          85.3163,
          38.9450183,
          59.7135,
          95.6136,
          91.4501,
          99.8565,
          43.4054,
          69.2084,
          81.717,
          78.7156,
          95.5905,
          91.8508,
          87.0278,
          85.1185,
          84.9234,
          90.5,
          92.8785,
          40.8137,
          54.4214,
          0.0,
          97.416,
          89.443,
          99.7473,
          79.7703,
          66.1548,
          92.1879,
          90.0522,
          47.0368,
          30.1275,
          88.4281,
          96.8046,
          88.5029,
          99.3479,
          89.7864,
          20.5777,
          18.0,
          97.6927,
          83.9119,
          33.0528,
          91.9155,
          73.2238,
          44.3616,
          75.5,
          81.1832,
          40.5434,
          63.5349,
          98.3776,
          83.9145,
          88.2219,
          89.9,
          21.207,
          44.0216732,
          62.215,
          82.6668,
          49.5609,
          97.0068,
          82.0058,
          95.7299,
          61.0524,
          16.937,
          35.4563,
          84.2304,
          99.0,
          95.2517,
          32.9486,
          26.9703,
          73.6085,
          26.991,
          78.0948,
          74.675,
          75.2111,
          86.4147,
          85.7901,
          87.2918,
          100.0,
          89.2034,
          92.245,
          34.4405,
          75.2869,
          85.0607,
          56.9899,
          100.0,
          59.9832,
          85.3575,
          86.6654,
          30.3518,
          94.2863,
          87.2131,
          90.3779,
          44.9575,
          27.6,
          74.703,
          12.1407,
          95.4456,
          50.1067,
          76.4575,
          74.1859,
          77.7418,
          28.7045,
          75.7614,
          95.7033,
          97.3444,
          35.78,
          36.0872,
          31.8913,
          89.5352,
          40.7521,
          37.6212,
          57.5486,
          79.9843,
          73.8379,
          85.9607,
          21.251,
          81.1913,
          10.0,
          79.2183,
          100.0,
          95.3412,
          97.1299,
          89.873,
          89.0136,
          69.8888,
          61.6,
          78.08,
          64.3775,
          86.6377,
          17.6948,
          31.2342,
          32.5615
         ],
         "type": "choropleth"
        }
       ],
       "layout": {
        "template": {
         "data": {
          "histogram2dcontour": [
           {
            "type": "histogram2dcontour",
            "colorbar": {
             "outlinewidth": 0,
             "ticks": ""
            },
            "colorscale": [
             [
              0.0,
              "#0d0887"
             ],
             [
              0.1111111111111111,
              "#46039f"
             ],
             [
              0.2222222222222222,
              "#7201a8"
             ],
             [
              0.3333333333333333,
              "#9c179e"
             ],
             [
              0.4444444444444444,
              "#bd3786"
             ],
             [
              0.5555555555555556,
              "#d8576b"
             ],
             [
              0.6666666666666666,
              "#ed7953"
             ],
             [
              0.7777777777777778,
              "#fb9f3a"
             ],
             [
              0.8888888888888888,
              "#fdca26"
             ],
             [
              1.0,
              "#f0f921"
             ]
            ]
           }
          ],
          "choropleth": [
           {
            "type": "choropleth",
            "colorbar": {
             "outlinewidth": 0,
             "ticks": ""
            }
           }
          ],
          "histogram2d": [
           {
            "type": "histogram2d",
            "colorbar": {
             "outlinewidth": 0,
             "ticks": ""
            },
            "colorscale": [
             [
              0.0,
              "#0d0887"
             ],
             [
              0.1111111111111111,
              "#46039f"
             ],
             [
              0.2222222222222222,
              "#7201a8"
             ],
             [
              0.3333333333333333,
              "#9c179e"
             ],
             [
              0.4444444444444444,
              "#bd3786"
             ],
             [
              0.5555555555555556,
              "#d8576b"
             ],
             [
              0.6666666666666666,
              "#ed7953"
             ],
             [
              0.7777777777777778,
              "#fb9f3a"
             ],
             [
              0.8888888888888888,
              "#fdca26"
             ],
             [
              1.0,
              "#f0f921"
             ]
            ]
           }
          ],
          "heatmap": [
           {
            "type": "heatmap",
            "colorbar": {
             "outlinewidth": 0,
             "ticks": ""
            },
            "colorscale": [
             [
              0.0,
              "#0d0887"
             ],
             [
              0.1111111111111111,
              "#46039f"
             ],
             [
              0.2222222222222222,
              "#7201a8"
             ],
             [
              0.3333333333333333,
              "#9c179e"
             ],
             [
              0.4444444444444444,
              "#bd3786"
             ],
             [
              0.5555555555555556,
              "#d8576b"
             ],
             [
              0.6666666666666666,
              "#ed7953"
             ],
             [
              0.7777777777777778,
              "#fb9f3a"
             ],
             [
              0.8888888888888888,
              "#fdca26"
             ],
             [
              1.0,
              "#f0f921"
             ]
            ]
           }
          ],
          "heatmapgl": [
           {
            "type": "heatmapgl",
            "colorbar": {
             "outlinewidth": 0,
             "ticks": ""
            },
            "colorscale": [
             [
              0.0,
              "#0d0887"
             ],
             [
              0.1111111111111111,
              "#46039f"
             ],
             [
              0.2222222222222222,
              "#7201a8"
             ],
             [
              0.3333333333333333,
              "#9c179e"
             ],
             [
              0.4444444444444444,
              "#bd3786"
             ],
             [
              0.5555555555555556,
              "#d8576b"
             ],
             [
              0.6666666666666666,
              "#ed7953"
             ],
             [
              0.7777777777777778,
              "#fb9f3a"
             ],
             [
              0.8888888888888888,
              "#fdca26"
             ],
             [
              1.0,
              "#f0f921"
             ]
            ]
           }
          ],
          "contourcarpet": [
           {
            "type": "contourcarpet",
            "colorbar": {
             "outlinewidth": 0,
             "ticks": ""
            }
           }
          ],
          "contour": [
           {
            "type": "contour",
            "colorbar": {
             "outlinewidth": 0,
             "ticks": ""
            },
            "colorscale": [
             [
              0.0,
              "#0d0887"
             ],
             [
              0.1111111111111111,
              "#46039f"
             ],
             [
              0.2222222222222222,
              "#7201a8"
             ],
             [
              0.3333333333333333,
              "#9c179e"
             ],
             [
              0.4444444444444444,
              "#bd3786"
             ],
             [
              0.5555555555555556,
              "#d8576b"
             ],
             [
              0.6666666666666666,
              "#ed7953"
             ],
             [
              0.7777777777777778,
              "#fb9f3a"
             ],
             [
              0.8888888888888888,
              "#fdca26"
             ],
             [
              1.0,
              "#f0f921"
             ]
            ]
           }
          ],
          "surface": [
           {
            "type": "surface",
            "colorbar": {
             "outlinewidth": 0,
             "ticks": ""
            },
            "colorscale": [
             [
              0.0,
              "#0d0887"
             ],
             [
              0.1111111111111111,
              "#46039f"
             ],
             [
              0.2222222222222222,
              "#7201a8"
             ],
             [
              0.3333333333333333,
              "#9c179e"
             ],
             [
              0.4444444444444444,
              "#bd3786"
             ],
             [
              0.5555555555555556,
              "#d8576b"
             ],
             [
              0.6666666666666666,
              "#ed7953"
             ],
             [
              0.7777777777777778,
              "#fb9f3a"
             ],
             [
              0.8888888888888888,
              "#fdca26"
             ],
             [
              1.0,
              "#f0f921"
             ]
            ]
           }
          ],
          "mesh3d": [
           {
            "type": "mesh3d",
            "colorbar": {
             "outlinewidth": 0,
             "ticks": ""
            }
           }
          ],
          "scatter": [
           {
            "fillpattern": {
             "fillmode": "overlay",
             "size": 10,
             "solidity": 0.2
            },
            "type": "scatter"
           }
          ],
          "parcoords": [
           {
            "type": "parcoords",
            "line": {
             "colorbar": {
              "outlinewidth": 0,
              "ticks": ""
             }
            }
           }
          ],
          "scatterpolargl": [
           {
            "type": "scatterpolargl",
            "marker": {
             "colorbar": {
              "outlinewidth": 0,
              "ticks": ""
             }
            }
           }
          ],
          "bar": [
           {
            "error_x": {
             "color": "#2a3f5f"
            },
            "error_y": {
             "color": "#2a3f5f"
            },
            "marker": {
             "line": {
              "color": "#E5ECF6",
              "width": 0.5
             },
             "pattern": {
              "fillmode": "overlay",
              "size": 10,
              "solidity": 0.2
             }
            },
            "type": "bar"
           }
          ],
          "scattergeo": [
           {
            "type": "scattergeo",
            "marker": {
             "colorbar": {
              "outlinewidth": 0,
              "ticks": ""
             }
            }
           }
          ],
          "scatterpolar": [
           {
            "type": "scatterpolar",
            "marker": {
             "colorbar": {
              "outlinewidth": 0,
              "ticks": ""
             }
            }
           }
          ],
          "histogram": [
           {
            "marker": {
             "pattern": {
              "fillmode": "overlay",
              "size": 10,
              "solidity": 0.2
             }
            },
            "type": "histogram"
           }
          ],
          "scattergl": [
           {
            "type": "scattergl",
            "marker": {
             "colorbar": {
              "outlinewidth": 0,
              "ticks": ""
             }
            }
           }
          ],
          "scatter3d": [
           {
            "type": "scatter3d",
            "line": {
             "colorbar": {
              "outlinewidth": 0,
              "ticks": ""
             }
            },
            "marker": {
             "colorbar": {
              "outlinewidth": 0,
              "ticks": ""
             }
            }
           }
          ],
          "scattermapbox": [
           {
            "type": "scattermapbox",
            "marker": {
             "colorbar": {
              "outlinewidth": 0,
              "ticks": ""
             }
            }
           }
          ],
          "scatterternary": [
           {
            "type": "scatterternary",
            "marker": {
             "colorbar": {
              "outlinewidth": 0,
              "ticks": ""
             }
            }
           }
          ],
          "scattercarpet": [
           {
            "type": "scattercarpet",
            "marker": {
             "colorbar": {
              "outlinewidth": 0,
              "ticks": ""
             }
            }
           }
          ],
          "carpet": [
           {
            "aaxis": {
             "endlinecolor": "#2a3f5f",
             "gridcolor": "white",
             "linecolor": "white",
             "minorgridcolor": "white",
             "startlinecolor": "#2a3f5f"
            },
            "baxis": {
             "endlinecolor": "#2a3f5f",
             "gridcolor": "white",
             "linecolor": "white",
             "minorgridcolor": "white",
             "startlinecolor": "#2a3f5f"
            },
            "type": "carpet"
           }
          ],
          "table": [
           {
            "cells": {
             "fill": {
              "color": "#EBF0F8"
             },
             "line": {
              "color": "white"
             }
            },
            "header": {
             "fill": {
              "color": "#C8D4E3"
             },
             "line": {
              "color": "white"
             }
            },
            "type": "table"
           }
          ],
          "barpolar": [
           {
            "marker": {
             "line": {
              "color": "#E5ECF6",
              "width": 0.5
             },
             "pattern": {
              "fillmode": "overlay",
              "size": 10,
              "solidity": 0.2
             }
            },
            "type": "barpolar"
           }
          ],
          "pie": [
           {
            "automargin": true,
            "type": "pie"
           }
          ]
         },
         "layout": {
          "autotypenumbers": "strict",
          "colorway": [
           "#636efa",
           "#EF553B",
           "#00cc96",
           "#ab63fa",
           "#FFA15A",
           "#19d3f3",
           "#FF6692",
           "#B6E880",
           "#FF97FF",
           "#FECB52"
          ],
          "font": {
           "color": "#2a3f5f"
          },
          "hovermode": "closest",
          "hoverlabel": {
           "align": "left"
          },
          "paper_bgcolor": "white",
          "plot_bgcolor": "#E5ECF6",
          "polar": {
           "bgcolor": "#E5ECF6",
           "angularaxis": {
            "gridcolor": "white",
            "linecolor": "white",
            "ticks": ""
           },
           "radialaxis": {
            "gridcolor": "white",
            "linecolor": "white",
            "ticks": ""
           }
          },
          "ternary": {
           "bgcolor": "#E5ECF6",
           "aaxis": {
            "gridcolor": "white",
            "linecolor": "white",
            "ticks": ""
           },
           "baxis": {
            "gridcolor": "white",
            "linecolor": "white",
            "ticks": ""
           },
           "caxis": {
            "gridcolor": "white",
            "linecolor": "white",
            "ticks": ""
           }
          },
          "coloraxis": {
           "colorbar": {
            "outlinewidth": 0,
            "ticks": ""
           }
          },
          "colorscale": {
           "sequential": [
            [
             0.0,
             "#0d0887"
            ],
            [
             0.1111111111111111,
             "#46039f"
            ],
            [
             0.2222222222222222,
             "#7201a8"
            ],
            [
             0.3333333333333333,
             "#9c179e"
            ],
            [
             0.4444444444444444,
             "#bd3786"
            ],
            [
             0.5555555555555556,
             "#d8576b"
            ],
            [
             0.6666666666666666,
             "#ed7953"
            ],
            [
             0.7777777777777778,
             "#fb9f3a"
            ],
            [
             0.8888888888888888,
             "#fdca26"
            ],
            [
             1.0,
             "#f0f921"
            ]
           ],
           "sequentialminus": [
            [
             0.0,
             "#0d0887"
            ],
            [
             0.1111111111111111,
             "#46039f"
            ],
            [
             0.2222222222222222,
             "#7201a8"
            ],
            [
             0.3333333333333333,
             "#9c179e"
            ],
            [
             0.4444444444444444,
             "#bd3786"
            ],
            [
             0.5555555555555556,
             "#d8576b"
            ],
            [
             0.6666666666666666,
             "#ed7953"
            ],
            [
             0.7777777777777778,
             "#fb9f3a"
            ],
            [
             0.8888888888888888,
             "#fdca26"
            ],
            [
             1.0,
             "#f0f921"
            ]
           ],
           "diverging": [
            [
             0,
             "#8e0152"
            ],
            [
             0.1,
             "#c51b7d"
            ],
            [
             0.2,
             "#de77ae"
            ],
            [
             0.3,
             "#f1b6da"
            ],
            [
             0.4,
             "#fde0ef"
            ],
            [
             0.5,
             "#f7f7f7"
            ],
            [
             0.6,
             "#e6f5d0"
            ],
            [
             0.7,
             "#b8e186"
            ],
            [
             0.8,
             "#7fbc41"
            ],
            [
             0.9,
             "#4d9221"
            ],
            [
             1,
             "#276419"
            ]
           ]
          },
          "xaxis": {
           "gridcolor": "white",
           "linecolor": "white",
           "ticks": "",
           "title": {
            "standoff": 15
           },
           "zerolinecolor": "white",
           "automargin": true,
           "zerolinewidth": 2
          },
          "yaxis": {
           "gridcolor": "white",
           "linecolor": "white",
           "ticks": "",
           "title": {
            "standoff": 15
           },
           "zerolinecolor": "white",
           "automargin": true,
           "zerolinewidth": 2
          },
          "scene": {
           "xaxis": {
            "backgroundcolor": "#E5ECF6",
            "gridcolor": "white",
            "linecolor": "white",
            "showbackground": true,
            "ticks": "",
            "zerolinecolor": "white",
            "gridwidth": 2
           },
           "yaxis": {
            "backgroundcolor": "#E5ECF6",
            "gridcolor": "white",
            "linecolor": "white",
            "showbackground": true,
            "ticks": "",
            "zerolinecolor": "white",
            "gridwidth": 2
           },
           "zaxis": {
            "backgroundcolor": "#E5ECF6",
            "gridcolor": "white",
            "linecolor": "white",
            "showbackground": true,
            "ticks": "",
            "zerolinecolor": "white",
            "gridwidth": 2
           }
          },
          "shapedefaults": {
           "line": {
            "color": "#2a3f5f"
           }
          },
          "annotationdefaults": {
           "arrowcolor": "#2a3f5f",
           "arrowhead": 0,
           "arrowwidth": 1
          },
          "geo": {
           "bgcolor": "white",
           "landcolor": "#E5ECF6",
           "subunitcolor": "white",
           "showland": true,
           "showlakes": true,
           "lakecolor": "white"
          },
          "title": {
           "x": 0.05
          },
          "mapbox": {
           "style": "light"
          }
         }
        },
        "geo": {
         "domain": {
          "x": [
           0.0,
           1.0
          ],
          "y": [
           0.0,
           1.0
          ]
         },
         "center": {}
        },
        "coloraxis": {
         "colorbar": {
          "title": {
           "text": "2023"
          }
         },
         "colorscale": [
          [
           0.0,
           "#0d0887"
          ],
          [
           0.1111111111111111,
           "#46039f"
          ],
          [
           0.2222222222222222,
           "#7201a8"
          ],
          [
           0.3333333333333333,
           "#9c179e"
          ],
          [
           0.4444444444444444,
           "#bd3786"
          ],
          [
           0.5555555555555556,
           "#d8576b"
          ],
          [
           0.6666666666666666,
           "#ed7953"
          ],
          [
           0.7777777777777778,
           "#fb9f3a"
          ],
          [
           0.8888888888888888,
           "#fdca26"
          ],
          [
           1.0,
           "#f0f921"
          ]
         ]
        },
        "legend": {
         "tracegroupgap": 0
        },
        "margin": {
         "t": 60
        },
        "title": {
         "text": "Internet usage by country in 2023"
        }
       },
       "config": {
        "plotlyServerURL": "https://plot.ly"
       }
      },
      "text/html": [
       "<div>                            <div id=\"04b4ecb1-59e8-477e-95af-c3688873bd60\" class=\"plotly-graph-div\" style=\"height:525px; width:100%;\"></div>            <script type=\"text/javascript\">                require([\"plotly\"], function(Plotly) {                    window.PLOTLYENV=window.PLOTLYENV || {};                                    if (document.getElementById(\"04b4ecb1-59e8-477e-95af-c3688873bd60\")) {                    Plotly.newPlot(                        \"04b4ecb1-59e8-477e-95af-c3688873bd60\",                        [{\"coloraxis\":\"coloraxis\",\"geo\":\"geo\",\"hovertemplate\":\"\\u003cb\\u003e%{hovertext}\\u003c\\u002fb\\u003e\\u003cbr\\u003e\\u003cbr\\u003eCountry Code=%{location}\\u003cbr\\u003e2023=%{z}\\u003cextra\\u003e\\u003c\\u002fextra\\u003e\",\"hovertext\":[\"Afghanistan\",\"Albania\",\"Algeria\",\"Andorra\",\"Angola\",\"Antigua and Barbuda\",\"Argentina\",\"Armenia\",\"Aruba\",\"Australia\",\"Austria\",\"Azerbaijan\",\"Bahamas, The\",\"Bahrain\",\"Bangladesh\",\"Barbados\",\"Belarus\",\"Belgium\",\"Belize\",\"Benin\",\"Bermuda\",\"Bhutan\",\"Bolivia\",\"Bosnia and Herzegovina\",\"Botswana\",\"Brazil\",\"British Virgin Islands\",\"Brunei Darussalam\",\"Bulgaria\",\"Burkina Faso\",\"Burundi\",\"Cabo Verde\",\"Cambodia\",\"Cameroon\",\"Canada\",\"Cayman Islands\",\"Central African Republic\",\"Chad\",\"Chile\",\"China\",\"Colombia\",\"Comoros\",\"Congo, Dem. Rep.\",\"Congo, Rep.\",\"Costa Rica\",\"Cote d'Ivoire\",\"Croatia\",\"Cuba\",\"Curacao\",\"Cyprus\",\"Czechia\",\"Denmark\",\"Djibouti\",\"Dominica\",\"Dominican Republic\",\"Ecuador\",\"Egypt, Arab Rep.\",\"El Salvador\",\"Equatorial Guinea\",\"Eritrea\",\"Estonia\",\"Eswatini\",\"Ethiopia\",\"Faroe Islands\",\"Fiji\",\"Finland\",\"France\",\"French Polynesia\",\"Gabon\",\"Gambia, The\",\"Georgia\",\"Germany\",\"Ghana\",\"Gibraltar\",\"Greece\",\"Greenland\",\"Grenada\",\"Guam\",\"Guatemala\",\"Guinea\",\"Guinea-Bissau\",\"Guyana\",\"Haiti\",\"Honduras\",\"Hong Kong SAR, China\",\"Hungary\",\"Iceland\",\"India\",\"Indonesia\",\"Iran, Islamic Rep.\",\"Iraq\",\"Ireland\",\"Israel\",\"Italy\",\"Jamaica\",\"Japan\",\"Jordan\",\"Kazakhstan\",\"Kenya\",\"Kiribati\",\"Korea, Dem. People's Rep.\",\"Korea, Rep.\",\"Kosovo\",\"Kuwait\",\"Kyrgyz Republic\",\"Lao PDR\",\"Latvia\",\"Lebanon\",\"Lesotho\",\"Liberia\",\"Libya\",\"Liechtenstein\",\"Lithuania\",\"Luxembourg\",\"Macao SAR, China\",\"Madagascar\",\"Malawi\",\"Malaysia\",\"Maldives\",\"Mali\",\"Malta\",\"Marshall Islands\",\"Mauritania\",\"Mauritius\",\"Mexico\",\"Micronesia, Fed. Sts.\",\"Moldova\",\"Monaco\",\"Mongolia\",\"Montenegro\",\"Morocco\",\"Mozambique\",\"Myanmar\",\"Namibia\",\"Nauru\",\"Nepal\",\"Netherlands\",\"New Caledonia\",\"New Zealand\",\"Nicaragua\",\"Niger\",\"Nigeria\",\"North Macedonia\",\"Norway\",\"Oman\",\"Pakistan\",\"Palau\",\"Panama\",\"Papua New Guinea\",\"Paraguay\",\"Peru\",\"Philippines\",\"Poland\",\"Portugal\",\"Puerto Rico\",\"Qatar\",\"Romania\",\"Russian Federation\",\"Rwanda\",\"Samoa\",\"San Marino\",\"Sao Tome and Principe\",\"Saudi Arabia\",\"Senegal\",\"Serbia\",\"Seychelles\",\"Sierra Leone\",\"Singapore\",\"Slovak Republic\",\"Slovenia\",\"Solomon Islands\",\"Somalia\",\"South Africa\",\"South Sudan\",\"Spain\",\"Sri Lanka\",\"St. Kitts and Nevis\",\"St. Lucia\",\"St. Vincent and the Grenadines\",\"Sudan\",\"Suriname\",\"Sweden\",\"Switzerland\",\"Syrian Arab Republic\",\"Tajikistan\",\"Tanzania\",\"Thailand\",\"Timor-Leste\",\"Togo\",\"Tonga\",\"Trinidad and Tobago\",\"Tunisia\",\"Turkiye\",\"Turkmenistan\",\"Tuvalu\",\"Uganda\",\"Ukraine\",\"United Arab Emirates\",\"United Kingdom\",\"United States\",\"Uruguay\",\"Uzbekistan\",\"Vanuatu\",\"Venezuela, RB\",\"Viet Nam\",\"Virgin Islands (U.S.)\",\"West Bank and Gaza\",\"Yemen, Rep.\",\"Zambia\",\"Zimbabwe\"],\"locations\":[\"AFG\",\"ALB\",\"DZA\",\"AND\",\"AGO\",\"ATG\",\"ARG\",\"ARM\",\"ABW\",\"AUS\",\"AUT\",\"AZE\",\"BHS\",\"BHR\",\"BGD\",\"BRB\",\"BLR\",\"BEL\",\"BLZ\",\"BEN\",\"BMU\",\"BTN\",\"BOL\",\"BIH\",\"BWA\",\"BRA\",\"VGB\",\"BRN\",\"BGR\",\"BFA\",\"BDI\",\"CPV\",\"KHM\",\"CMR\",\"CAN\",\"CYM\",\"CAF\",\"TCD\",\"CHL\",\"CHN\",\"COL\",\"COM\",\"COD\",\"COG\",\"CRI\",\"CIV\",\"HRV\",\"CUB\",\"CUW\",\"CYP\",\"CZE\",\"DNK\",\"DJI\",\"DMA\",\"DOM\",\"ECU\",\"EGY\",\"SLV\",\"GNQ\",\"ERI\",\"EST\",\"SWZ\",\"ETH\",\"FRO\",\"FJI\",\"FIN\",\"FRA\",\"PYF\",\"GAB\",\"GMB\",\"GEO\",\"DEU\",\"GHA\",\"GIB\",\"GRC\",\"GRL\",\"GRD\",\"GUM\",\"GTM\",\"GIN\",\"GNB\",\"GUY\",\"HTI\",\"HND\",\"HKG\",\"HUN\",\"ISL\",\"IND\",\"IDN\",\"IRN\",\"IRQ\",\"IRL\",\"ISR\",\"ITA\",\"JAM\",\"JPN\",\"JOR\",\"KAZ\",\"KEN\",\"KIR\",\"PRK\",\"KOR\",\"XKX\",\"KWT\",\"KGZ\",\"LAO\",\"LVA\",\"LBN\",\"LSO\",\"LBR\",\"LBY\",\"LIE\",\"LTU\",\"LUX\",\"MAC\",\"MDG\",\"MWI\",\"MYS\",\"MDV\",\"MLI\",\"MLT\",\"MHL\",\"MRT\",\"MUS\",\"MEX\",\"FSM\",\"MDA\",\"MCO\",\"MNG\",\"MNE\",\"MAR\",\"MOZ\",\"MMR\",\"NAM\",\"NRU\",\"NPL\",\"NLD\",\"NCL\",\"NZL\",\"NIC\",\"NER\",\"NGA\",\"MKD\",\"NOR\",\"OMN\",\"PAK\",\"PLW\",\"PAN\",\"PNG\",\"PRY\",\"PER\",\"PHL\",\"POL\",\"PRT\",\"PRI\",\"QAT\",\"ROU\",\"RUS\",\"RWA\",\"WSM\",\"SMR\",\"STP\",\"SAU\",\"SEN\",\"SRB\",\"SYC\",\"SLE\",\"SGP\",\"SVK\",\"SVN\",\"SLB\",\"SOM\",\"ZAF\",\"SSD\",\"ESP\",\"LKA\",\"KNA\",\"LCA\",\"VCT\",\"SDN\",\"SUR\",\"SWE\",\"CHE\",\"SYR\",\"TJK\",\"TZA\",\"THA\",\"TLS\",\"TGO\",\"TON\",\"TTO\",\"TUN\",\"TUR\",\"TKM\",\"TUV\",\"UGA\",\"UKR\",\"ARE\",\"GBR\",\"USA\",\"URY\",\"UZB\",\"VUT\",\"VEN\",\"VNM\",\"VIR\",\"PSE\",\"YEM\",\"ZMB\",\"ZWE\"],\"name\":\"\",\"z\":[18.4,83.1356,71.2432,94.4855,39.2935,91.4123,89.229,77.0277,97.17,94.8762,95.3347,88.0,94.4117,100.0,44.5027,76.2053,91.5125,94.6263,70.354,33.7602,98.37,86.8403,73.2831,83.3772,77.3272,84.1506,77.7043,98.9704,80.3896,19.9237,11.275,72.1021,56.7328,43.8629,94.0,81.0677,10.5826396,12.1839,94.1192,77.4827,72.7964,27.3369432,27.24,36.2469,85.127,38.4133,83.2412,73.2178,68.1272,91.2212,85.9941,98.7756,65.0322,83.3767,84.3832,72.6943,72.1981,62.8885,66.8193,26.5942,93.1834,58.2502,19.3781,97.582,85.2199,93.5139,86.8364,72.7039,73.6951,54.1899,81.8842,92.4764,69.8405,94.4445,85.0102,69.4825,79.8955,80.5055,54.4043,33.923,31.567,85.3163,38.9450183,59.7135,95.6136,91.4501,99.8565,43.4054,69.2084,81.717,78.7156,95.5905,91.8508,87.0278,85.1185,84.9234,90.5,92.8785,40.8137,54.4214,0.0,97.416,89.443,99.7473,79.7703,66.1548,92.1879,90.0522,47.0368,30.1275,88.4281,96.8046,88.5029,99.3479,89.7864,20.5777,18.0,97.6927,83.9119,33.0528,91.9155,73.2238,44.3616,75.5,81.1832,40.5434,63.5349,98.3776,83.9145,88.2219,89.9,21.207,44.0216732,62.215,82.6668,49.5609,97.0068,82.0058,95.7299,61.0524,16.937,35.4563,84.2304,99.0,95.2517,32.9486,26.9703,73.6085,26.991,78.0948,74.675,75.2111,86.4147,85.7901,87.2918,100.0,89.2034,92.245,34.4405,75.2869,85.0607,56.9899,100.0,59.9832,85.3575,86.6654,30.3518,94.2863,87.2131,90.3779,44.9575,27.6,74.703,12.1407,95.4456,50.1067,76.4575,74.1859,77.7418,28.7045,75.7614,95.7033,97.3444,35.78,36.0872,31.8913,89.5352,40.7521,37.6212,57.5486,79.9843,73.8379,85.9607,21.251,81.1913,10.0,79.2183,100.0,95.3412,97.1299,89.873,89.0136,69.8888,61.6,78.08,64.3775,86.6377,17.6948,31.2342,32.5615],\"type\":\"choropleth\"}],                        {\"template\":{\"data\":{\"histogram2dcontour\":[{\"type\":\"histogram2dcontour\",\"colorbar\":{\"outlinewidth\":0,\"ticks\":\"\"},\"colorscale\":[[0.0,\"#0d0887\"],[0.1111111111111111,\"#46039f\"],[0.2222222222222222,\"#7201a8\"],[0.3333333333333333,\"#9c179e\"],[0.4444444444444444,\"#bd3786\"],[0.5555555555555556,\"#d8576b\"],[0.6666666666666666,\"#ed7953\"],[0.7777777777777778,\"#fb9f3a\"],[0.8888888888888888,\"#fdca26\"],[1.0,\"#f0f921\"]]}],\"choropleth\":[{\"type\":\"choropleth\",\"colorbar\":{\"outlinewidth\":0,\"ticks\":\"\"}}],\"histogram2d\":[{\"type\":\"histogram2d\",\"colorbar\":{\"outlinewidth\":0,\"ticks\":\"\"},\"colorscale\":[[0.0,\"#0d0887\"],[0.1111111111111111,\"#46039f\"],[0.2222222222222222,\"#7201a8\"],[0.3333333333333333,\"#9c179e\"],[0.4444444444444444,\"#bd3786\"],[0.5555555555555556,\"#d8576b\"],[0.6666666666666666,\"#ed7953\"],[0.7777777777777778,\"#fb9f3a\"],[0.8888888888888888,\"#fdca26\"],[1.0,\"#f0f921\"]]}],\"heatmap\":[{\"type\":\"heatmap\",\"colorbar\":{\"outlinewidth\":0,\"ticks\":\"\"},\"colorscale\":[[0.0,\"#0d0887\"],[0.1111111111111111,\"#46039f\"],[0.2222222222222222,\"#7201a8\"],[0.3333333333333333,\"#9c179e\"],[0.4444444444444444,\"#bd3786\"],[0.5555555555555556,\"#d8576b\"],[0.6666666666666666,\"#ed7953\"],[0.7777777777777778,\"#fb9f3a\"],[0.8888888888888888,\"#fdca26\"],[1.0,\"#f0f921\"]]}],\"heatmapgl\":[{\"type\":\"heatmapgl\",\"colorbar\":{\"outlinewidth\":0,\"ticks\":\"\"},\"colorscale\":[[0.0,\"#0d0887\"],[0.1111111111111111,\"#46039f\"],[0.2222222222222222,\"#7201a8\"],[0.3333333333333333,\"#9c179e\"],[0.4444444444444444,\"#bd3786\"],[0.5555555555555556,\"#d8576b\"],[0.6666666666666666,\"#ed7953\"],[0.7777777777777778,\"#fb9f3a\"],[0.8888888888888888,\"#fdca26\"],[1.0,\"#f0f921\"]]}],\"contourcarpet\":[{\"type\":\"contourcarpet\",\"colorbar\":{\"outlinewidth\":0,\"ticks\":\"\"}}],\"contour\":[{\"type\":\"contour\",\"colorbar\":{\"outlinewidth\":0,\"ticks\":\"\"},\"colorscale\":[[0.0,\"#0d0887\"],[0.1111111111111111,\"#46039f\"],[0.2222222222222222,\"#7201a8\"],[0.3333333333333333,\"#9c179e\"],[0.4444444444444444,\"#bd3786\"],[0.5555555555555556,\"#d8576b\"],[0.6666666666666666,\"#ed7953\"],[0.7777777777777778,\"#fb9f3a\"],[0.8888888888888888,\"#fdca26\"],[1.0,\"#f0f921\"]]}],\"surface\":[{\"type\":\"surface\",\"colorbar\":{\"outlinewidth\":0,\"ticks\":\"\"},\"colorscale\":[[0.0,\"#0d0887\"],[0.1111111111111111,\"#46039f\"],[0.2222222222222222,\"#7201a8\"],[0.3333333333333333,\"#9c179e\"],[0.4444444444444444,\"#bd3786\"],[0.5555555555555556,\"#d8576b\"],[0.6666666666666666,\"#ed7953\"],[0.7777777777777778,\"#fb9f3a\"],[0.8888888888888888,\"#fdca26\"],[1.0,\"#f0f921\"]]}],\"mesh3d\":[{\"type\":\"mesh3d\",\"colorbar\":{\"outlinewidth\":0,\"ticks\":\"\"}}],\"scatter\":[{\"fillpattern\":{\"fillmode\":\"overlay\",\"size\":10,\"solidity\":0.2},\"type\":\"scatter\"}],\"parcoords\":[{\"type\":\"parcoords\",\"line\":{\"colorbar\":{\"outlinewidth\":0,\"ticks\":\"\"}}}],\"scatterpolargl\":[{\"type\":\"scatterpolargl\",\"marker\":{\"colorbar\":{\"outlinewidth\":0,\"ticks\":\"\"}}}],\"bar\":[{\"error_x\":{\"color\":\"#2a3f5f\"},\"error_y\":{\"color\":\"#2a3f5f\"},\"marker\":{\"line\":{\"color\":\"#E5ECF6\",\"width\":0.5},\"pattern\":{\"fillmode\":\"overlay\",\"size\":10,\"solidity\":0.2}},\"type\":\"bar\"}],\"scattergeo\":[{\"type\":\"scattergeo\",\"marker\":{\"colorbar\":{\"outlinewidth\":0,\"ticks\":\"\"}}}],\"scatterpolar\":[{\"type\":\"scatterpolar\",\"marker\":{\"colorbar\":{\"outlinewidth\":0,\"ticks\":\"\"}}}],\"histogram\":[{\"marker\":{\"pattern\":{\"fillmode\":\"overlay\",\"size\":10,\"solidity\":0.2}},\"type\":\"histogram\"}],\"scattergl\":[{\"type\":\"scattergl\",\"marker\":{\"colorbar\":{\"outlinewidth\":0,\"ticks\":\"\"}}}],\"scatter3d\":[{\"type\":\"scatter3d\",\"line\":{\"colorbar\":{\"outlinewidth\":0,\"ticks\":\"\"}},\"marker\":{\"colorbar\":{\"outlinewidth\":0,\"ticks\":\"\"}}}],\"scattermapbox\":[{\"type\":\"scattermapbox\",\"marker\":{\"colorbar\":{\"outlinewidth\":0,\"ticks\":\"\"}}}],\"scatterternary\":[{\"type\":\"scatterternary\",\"marker\":{\"colorbar\":{\"outlinewidth\":0,\"ticks\":\"\"}}}],\"scattercarpet\":[{\"type\":\"scattercarpet\",\"marker\":{\"colorbar\":{\"outlinewidth\":0,\"ticks\":\"\"}}}],\"carpet\":[{\"aaxis\":{\"endlinecolor\":\"#2a3f5f\",\"gridcolor\":\"white\",\"linecolor\":\"white\",\"minorgridcolor\":\"white\",\"startlinecolor\":\"#2a3f5f\"},\"baxis\":{\"endlinecolor\":\"#2a3f5f\",\"gridcolor\":\"white\",\"linecolor\":\"white\",\"minorgridcolor\":\"white\",\"startlinecolor\":\"#2a3f5f\"},\"type\":\"carpet\"}],\"table\":[{\"cells\":{\"fill\":{\"color\":\"#EBF0F8\"},\"line\":{\"color\":\"white\"}},\"header\":{\"fill\":{\"color\":\"#C8D4E3\"},\"line\":{\"color\":\"white\"}},\"type\":\"table\"}],\"barpolar\":[{\"marker\":{\"line\":{\"color\":\"#E5ECF6\",\"width\":0.5},\"pattern\":{\"fillmode\":\"overlay\",\"size\":10,\"solidity\":0.2}},\"type\":\"barpolar\"}],\"pie\":[{\"automargin\":true,\"type\":\"pie\"}]},\"layout\":{\"autotypenumbers\":\"strict\",\"colorway\":[\"#636efa\",\"#EF553B\",\"#00cc96\",\"#ab63fa\",\"#FFA15A\",\"#19d3f3\",\"#FF6692\",\"#B6E880\",\"#FF97FF\",\"#FECB52\"],\"font\":{\"color\":\"#2a3f5f\"},\"hovermode\":\"closest\",\"hoverlabel\":{\"align\":\"left\"},\"paper_bgcolor\":\"white\",\"plot_bgcolor\":\"#E5ECF6\",\"polar\":{\"bgcolor\":\"#E5ECF6\",\"angularaxis\":{\"gridcolor\":\"white\",\"linecolor\":\"white\",\"ticks\":\"\"},\"radialaxis\":{\"gridcolor\":\"white\",\"linecolor\":\"white\",\"ticks\":\"\"}},\"ternary\":{\"bgcolor\":\"#E5ECF6\",\"aaxis\":{\"gridcolor\":\"white\",\"linecolor\":\"white\",\"ticks\":\"\"},\"baxis\":{\"gridcolor\":\"white\",\"linecolor\":\"white\",\"ticks\":\"\"},\"caxis\":{\"gridcolor\":\"white\",\"linecolor\":\"white\",\"ticks\":\"\"}},\"coloraxis\":{\"colorbar\":{\"outlinewidth\":0,\"ticks\":\"\"}},\"colorscale\":{\"sequential\":[[0.0,\"#0d0887\"],[0.1111111111111111,\"#46039f\"],[0.2222222222222222,\"#7201a8\"],[0.3333333333333333,\"#9c179e\"],[0.4444444444444444,\"#bd3786\"],[0.5555555555555556,\"#d8576b\"],[0.6666666666666666,\"#ed7953\"],[0.7777777777777778,\"#fb9f3a\"],[0.8888888888888888,\"#fdca26\"],[1.0,\"#f0f921\"]],\"sequentialminus\":[[0.0,\"#0d0887\"],[0.1111111111111111,\"#46039f\"],[0.2222222222222222,\"#7201a8\"],[0.3333333333333333,\"#9c179e\"],[0.4444444444444444,\"#bd3786\"],[0.5555555555555556,\"#d8576b\"],[0.6666666666666666,\"#ed7953\"],[0.7777777777777778,\"#fb9f3a\"],[0.8888888888888888,\"#fdca26\"],[1.0,\"#f0f921\"]],\"diverging\":[[0,\"#8e0152\"],[0.1,\"#c51b7d\"],[0.2,\"#de77ae\"],[0.3,\"#f1b6da\"],[0.4,\"#fde0ef\"],[0.5,\"#f7f7f7\"],[0.6,\"#e6f5d0\"],[0.7,\"#b8e186\"],[0.8,\"#7fbc41\"],[0.9,\"#4d9221\"],[1,\"#276419\"]]},\"xaxis\":{\"gridcolor\":\"white\",\"linecolor\":\"white\",\"ticks\":\"\",\"title\":{\"standoff\":15},\"zerolinecolor\":\"white\",\"automargin\":true,\"zerolinewidth\":2},\"yaxis\":{\"gridcolor\":\"white\",\"linecolor\":\"white\",\"ticks\":\"\",\"title\":{\"standoff\":15},\"zerolinecolor\":\"white\",\"automargin\":true,\"zerolinewidth\":2},\"scene\":{\"xaxis\":{\"backgroundcolor\":\"#E5ECF6\",\"gridcolor\":\"white\",\"linecolor\":\"white\",\"showbackground\":true,\"ticks\":\"\",\"zerolinecolor\":\"white\",\"gridwidth\":2},\"yaxis\":{\"backgroundcolor\":\"#E5ECF6\",\"gridcolor\":\"white\",\"linecolor\":\"white\",\"showbackground\":true,\"ticks\":\"\",\"zerolinecolor\":\"white\",\"gridwidth\":2},\"zaxis\":{\"backgroundcolor\":\"#E5ECF6\",\"gridcolor\":\"white\",\"linecolor\":\"white\",\"showbackground\":true,\"ticks\":\"\",\"zerolinecolor\":\"white\",\"gridwidth\":2}},\"shapedefaults\":{\"line\":{\"color\":\"#2a3f5f\"}},\"annotationdefaults\":{\"arrowcolor\":\"#2a3f5f\",\"arrowhead\":0,\"arrowwidth\":1},\"geo\":{\"bgcolor\":\"white\",\"landcolor\":\"#E5ECF6\",\"subunitcolor\":\"white\",\"showland\":true,\"showlakes\":true,\"lakecolor\":\"white\"},\"title\":{\"x\":0.05},\"mapbox\":{\"style\":\"light\"}}},\"geo\":{\"domain\":{\"x\":[0.0,1.0],\"y\":[0.0,1.0]},\"center\":{}},\"coloraxis\":{\"colorbar\":{\"title\":{\"text\":\"2023\"}},\"colorscale\":[[0.0,\"#0d0887\"],[0.1111111111111111,\"#46039f\"],[0.2222222222222222,\"#7201a8\"],[0.3333333333333333,\"#9c179e\"],[0.4444444444444444,\"#bd3786\"],[0.5555555555555556,\"#d8576b\"],[0.6666666666666666,\"#ed7953\"],[0.7777777777777778,\"#fb9f3a\"],[0.8888888888888888,\"#fdca26\"],[1.0,\"#f0f921\"]]},\"legend\":{\"tracegroupgap\":0},\"margin\":{\"t\":60},\"title\":{\"text\":\"Internet usage by country in 2023\"}},                        {\"responsive\": true}                    ).then(function(){\n",
       "                            \n",
       "var gd = document.getElementById('04b4ecb1-59e8-477e-95af-c3688873bd60');\n",
       "var x = new MutationObserver(function (mutations, observer) {{\n",
       "        var display = window.getComputedStyle(gd).display;\n",
       "        if (!display || display === 'none') {{\n",
       "            console.log([gd, 'removed!']);\n",
       "            Plotly.purge(gd);\n",
       "            observer.disconnect();\n",
       "        }}\n",
       "}});\n",
       "\n",
       "// Listen for the removal of the full notebook cells\n",
       "var notebookContainer = gd.closest('#notebook-container');\n",
       "if (notebookContainer) {{\n",
       "    x.observe(notebookContainer, {childList: true});\n",
       "}}\n",
       "\n",
       "// Listen for the clearing of the current output cell\n",
       "var outputEl = gd.closest('.output');\n",
       "if (outputEl) {{\n",
       "    x.observe(outputEl, {childList: true});\n",
       "}}\n",
       "\n",
       "                        })                };                });            </script>        </div>"
      ]
     },
     "metadata": {},
     "output_type": "display_data"
    }
   ],
   "execution_count": 114
  },
  {
   "metadata": {},
   "cell_type": "markdown",
   "source": "- 2023 map reveals dramatic global improvement, though Africa remains notably behind",
   "id": "4bc512480c692904"
  },
  {
   "metadata": {
    "ExecuteTime": {
     "end_time": "2025-02-08T05:27:36.088238Z",
     "start_time": "2025-02-08T05:27:35.734990Z"
    }
   },
   "cell_type": "code",
   "source": [
    "# Plotting top 10 countries with rapid growth in internet usage\n",
    "plt.figure(figsize=(20, 6))\n",
    "sns.barplot(x='Country Name', y='growth', data=top_20_countries_growth, palette='viridis')\n",
    "plt.xlabel('Country')\n",
    "plt.ylabel('Growth in internet usage (%)')\n",
    "plt.title('Top 20 countries with rapid growth in internet usage')\n",
    "plt.xticks(rotation=45)\n",
    "plt.show()"
   ],
   "id": "dc0a549cb74abe6b",
   "outputs": [
    {
     "name": "stderr",
     "output_type": "stream",
     "text": [
      "C:\\Users\\QKmd\\AppData\\Local\\Temp\\ipykernel_41968\\1725792455.py:3: FutureWarning:\n",
      "\n",
      "\n",
      "\n",
      "Passing `palette` without assigning `hue` is deprecated and will be removed in v0.14.0. Assign the `x` variable to `hue` and set `legend=False` for the same effect.\n",
      "\n",
      "\n"
     ]
    },
    {
     "data": {
      "text/plain": [
       "<Figure size 2000x600 with 1 Axes>"
      ],
      "image/png": "[encoded data removed]"
     },
     "metadata": {},
     "output_type": "display_data"
    }
   ],
   "execution_count": 122
  },
  {
   "metadata": {},
   "cell_type": "markdown",
   "source": [
    "- Highlights the top 20 countries with rapid growth\n",
    "- Saudi Arabia, Qatar, and Bahrain lead in growth rates\n",
    "- Predominantly features Middle Eastern and developing nations that made significant strides"
   ],
   "id": "6196f229b9e2deb2"
  },
  {
   "metadata": {
    "ExecuteTime": {
     "end_time": "2025-02-08T05:30:07.321343Z",
     "start_time": "2025-02-08T05:30:07.274725Z"
    }
   },
   "cell_type": "code",
   "source": [
    "# Using plotly to create an interactive line plot for the top 10 countries with rapid growth in internet usage\n",
    "fig = px.choropleth(df_mod_new, locations='Country Code', color='growth', hover_name='Country Name', color_continuous_scale=px.colors.sequential.Plasma)\n",
    "fig.update_layout(title='Internet usage growth rate')\n",
    "fig.show()"
   ],
   "id": "b433163928e3af36",
   "outputs": [
    {
     "data": {
      "application/vnd.plotly.v1+json": {
       "data": [
        {
         "coloraxis": "coloraxis",
         "geo": "geo",
         "hovertemplate": "<b>%{hovertext}</b><br><br>Country Code=%{location}<br>growth=%{z}<extra></extra>",
         "hovertext": [
          "Afghanistan",
          "Albania",
          "Algeria",
          "Andorra",
          "Angola",
          "Antigua and Barbuda",
          "Argentina",
          "Armenia",
          "Aruba",
          "Australia",
          "Austria",
          "Azerbaijan",
          "Bahamas, The",
          "Bahrain",
          "Bangladesh",
          "Barbados",
          "Belarus",
          "Belgium",
          "Belize",
          "Benin",
          "Bermuda",
          "Bhutan",
          "Bolivia",
          "Bosnia and Herzegovina",
          "Botswana",
          "Brazil",
          "British Virgin Islands",
          "Brunei Darussalam",
          "Bulgaria",
          "Burkina Faso",
          "Burundi",
          "Cabo Verde",
          "Cambodia",
          "Cameroon",
          "Canada",
          "Cayman Islands",
          "Central African Republic",
          "Chad",
          "Chile",
          "China",
          "Colombia",
          "Comoros",
          "Congo, Dem. Rep.",
          "Congo, Rep.",
          "Costa Rica",
          "Cote d'Ivoire",
          "Croatia",
          "Cuba",
          "Curacao",
          "Cyprus",
          "Czechia",
          "Denmark",
          "Djibouti",
          "Dominica",
          "Dominican Republic",
          "Ecuador",
          "Egypt, Arab Rep.",
          "El Salvador",
          "Equatorial Guinea",
          "Eritrea",
          "Estonia",
          "Eswatini",
          "Ethiopia",
          "Faroe Islands",
          "Fiji",
          "Finland",
          "France",
          "French Polynesia",
          "Gabon",
          "Gambia, The",
          "Georgia",
          "Germany",
          "Ghana",
          "Gibraltar",
          "Greece",
          "Greenland",
          "Grenada",
          "Guam",
          "Guatemala",
          "Guinea",
          "Guinea-Bissau",
          "Guyana",
          "Haiti",
          "Honduras",
          "Hong Kong SAR, China",
          "Hungary",
          "Iceland",
          "India",
          "Indonesia",
          "Iran, Islamic Rep.",
          "Iraq",
          "Ireland",
          "Israel",
          "Italy",
          "Jamaica",
          "Japan",
          "Jordan",
          "Kazakhstan",
          "Kenya",
          "Kiribati",
          "Korea, Dem. People's Rep.",
          "Korea, Rep.",
          "Kosovo",
          "Kuwait",
          "Kyrgyz Republic",
          "Lao PDR",
          "Latvia",
          "Lebanon",
          "Lesotho",
          "Liberia",
          "Libya",
          "Liechtenstein",
          "Lithuania",
          "Luxembourg",
          "Macao SAR, China",
          "Madagascar",
          "Malawi",
          "Malaysia",
          "Maldives",
          "Mali",
          "Malta",
          "Marshall Islands",
          "Mauritania",
          "Mauritius",
          "Mexico",
          "Micronesia, Fed. Sts.",
          "Moldova",
          "Monaco",
          "Mongolia",
          "Montenegro",
          "Morocco",
          "Mozambique",
          "Myanmar",
          "Namibia",
          "Nauru",
          "Nepal",
          "Netherlands",
          "New Caledonia",
          "New Zealand",
          "Nicaragua",
          "Niger",
          "Nigeria",
          "North Macedonia",
          "Norway",
          "Oman",
          "Pakistan",
          "Palau",
          "Panama",
          "Papua New Guinea",
          "Paraguay",
          "Peru",
          "Philippines",
          "Poland",
          "Portugal",
          "Puerto Rico",
          "Qatar",
          "Romania",
          "Russian Federation",
          "Rwanda",
          "Samoa",
          "San Marino",
          "Sao Tome and Principe",
          "Saudi Arabia",
          "Senegal",
          "Serbia",
          "Seychelles",
          "Sierra Leone",
          "Singapore",
          "Slovak Republic",
          "Slovenia",
          "Solomon Islands",
          "Somalia",
          "South Africa",
          "South Sudan",
          "Spain",
          "Sri Lanka",
          "St. Kitts and Nevis",
          "St. Lucia",
          "St. Vincent and the Grenadines",
          "Sudan",
          "Suriname",
          "Sweden",
          "Switzerland",
          "Syrian Arab Republic",
          "Tajikistan",
          "Tanzania",
          "Thailand",
          "Timor-Leste",
          "Togo",
          "Tonga",
          "Trinidad and Tobago",
          "Tunisia",
          "Turkiye",
          "Turkmenistan",
          "Tuvalu",
          "Uganda",
          "Ukraine",
          "United Arab Emirates",
          "United Kingdom",
          "United States",
          "Uruguay",
          "Uzbekistan",
          "Vanuatu",
          "Venezuela, RB",
          "Viet Nam",
          "Virgin Islands (U.S.)",
          "West Bank and Gaza",
          "Yemen, Rep.",
          "Zambia",
          "Zimbabwe"
         ],
         "locations": [
          "AFG",
          "ALB",
          "DZA",
          "AND",
          "AGO",
          "ATG",
          "ARG",
          "ARM",
          "ABW",
          "AUS",
          "AUT",
          "AZE",
          "BHS",
          "BHR",
          "BGD",
          "BRB",
          "BLR",
          "BEL",
          "BLZ",
          "BEN",
          "BMU",
          "BTN",
          "BOL",
          "BIH",
          "BWA",
          "BRA",
          "VGB",
          "BRN",
          "BGR",
          "BFA",
          "BDI",
          "CPV",
          "KHM",
          "CMR",
          "CAN",
          "CYM",
          "CAF",
          "TCD",
          "CHL",
          "CHN",
          "COL",
          "COM",
          "COD",
          "COG",
          "CRI",
          "CIV",
          "HRV",
          "CUB",
          "CUW",
          "CYP",
          "CZE",
          "DNK",
          "DJI",
          "DMA",
          "DOM",
          "ECU",
          "EGY",
          "SLV",
          "GNQ",
          "ERI",
          "EST",
          "SWZ",
          "ETH",
          "FRO",
          "FJI",
          "FIN",
          "FRA",
          "PYF",
          "GAB",
          "GMB",
          "GEO",
          "DEU",
          "GHA",
          "GIB",
          "GRC",
          "GRL",
          "GRD",
          "GUM",
          "GTM",
          "GIN",
          "GNB",
          "GUY",
          "HTI",
          "HND",
          "HKG",
          "HUN",
          "ISL",
          "IND",
          "IDN",
          "IRN",
          "IRQ",
          "IRL",
          "ISR",
          "ITA",
          "JAM",
          "JPN",
          "JOR",
          "KAZ",
          "KEN",
          "KIR",
          "PRK",
          "KOR",
          "XKX",
          "KWT",
          "KGZ",
          "LAO",
          "LVA",
          "LBN",
          "LSO",
          "LBR",
          "LBY",
          "LIE",
          "LTU",
          "LUX",
          "MAC",
          "MDG",
          "MWI",
          "MYS",
          "MDV",
          "MLI",
          "MLT",
          "MHL",
          "MRT",
          "MUS",
          "MEX",
          "FSM",
          "MDA",
          "MCO",
          "MNG",
          "MNE",
          "MAR",
          "MOZ",
          "MMR",
          "NAM",
          "NRU",
          "NPL",
          "NLD",
          "NCL",
          "NZL",
          "NIC",
          "NER",
          "NGA",
          "MKD",
          "NOR",
          "OMN",
          "PAK",
          "PLW",
          "PAN",
          "PNG",
          "PRY",
          "PER",
          "PHL",
          "POL",
          "PRT",
          "PRI",
          "QAT",
          "ROU",
          "RUS",
          "RWA",
          "WSM",
          "SMR",
          "STP",
          "SAU",
          "SEN",
          "SRB",
          "SYC",
          "SLE",
          "SGP",
          "SVK",
          "SVN",
          "SLB",
          "SOM",
          "ZAF",
          "SSD",
          "ESP",
          "LKA",
          "KNA",
          "LCA",
          "VCT",
          "SDN",
          "SUR",
          "SWE",
          "CHE",
          "SYR",
          "TJK",
          "TZA",
          "THA",
          "TLS",
          "TGO",
          "TON",
          "TTO",
          "TUN",
          "TUR",
          "TKM",
          "TUV",
          "UGA",
          "UKR",
          "ARE",
          "GBR",
          "USA",
          "URY",
          "UZB",
          "VUT",
          "VEN",
          "VNM",
          "VIR",
          "PSE",
          "YEM",
          "ZMB",
          "ZWE"
         ],
         "name": "",
         "z": [
          18.39527743,
          83.021503,
          70.75149400000001,
          83.9467,
          39.188454,
          84.93007,
          82.19032,
          75.72722999999999,
          81.7272,
          48.120099999999994,
          61.6046,
          87.852242,
          86.4117,
          93.84627,
          44.4316606,
          72.23161999999999,
          89.6521,
          65.19460000000001,
          64.39016,
          33.534952,
          55.420100000000005,
          86.439356,
          71.84034,
          82.29424,
          74.42453,
          81.27991,
          58.8186,
          89.97412,
          75.01868,
          19.8466198,
          11.1977516,
          70.27965999999999,
          56.6857774,
          43.610780000000005,
          42.7,
          43.033300000000004,
          10.5292454,
          12.1481929,
          77.51920000000001,
          75.70679,
          70.58887,
          27.0652022,
          27.234097889999997,
          36.2205453,
          79.32674999999999,
          38.181838,
          76.59632,
          72.676617,
          6.271700000000003,
          75.9658,
          76.21357,
          59.603199999999994,
          64.837699,
          74.56186,
          80.67851,
          71.23210999999999,
          71.55683499999999,
          61.7111,
          66.686945,
          26.457488,
          64.60640000000001,
          57.324008,
          19.3628362,
          64.66559999999998,
          83.72305,
          56.26540000000001,
          72.5285,
          66.34684,
          72.47896,
          53.268105,
          81.399454,
          62.260099999999994,
          69.686885,
          75.31290000000001,
          75.87136,
          37.734700000000004,
          75.83159,
          64.3924,
          53.691967,
          33.827575100000004,
          31.336897,
          84.7163,
          38.7137473,
          58.509640000000005,
          67.78580000000001,
          84.45042000000001,
          55.385999999999996,
          42.877868,
          68.282836,
          80.78281,
          78.6156,
          77.74000000000001,
          70.977,
          63.9169,
          82.00272,
          54.9327,
          87.87672,
          92.209906,
          40.495639999999995,
          52.63617,
          0.0,
          52.715999999999994,
          5.5493999999999915,
          93.0159,
          78.72890000000001,
          66.04375599999999,
          85.86884,
          82.09946,
          46.824994,
          30.1097973,
          88.241057,
          60.28939999999999,
          82.07583,
          76.4606,
          76.1778,
          20.381305,
          17.873219,
          76.308,
          81.70803000000001,
          32.910253999999995,
          78.8018,
          71.68952999999999,
          44.169569,
          68.21846,
          76.10182,
          36.80854,
          62.25205,
          56.1927,
          82.65885,
          62.87180000000001,
          89.206209,
          21.097407,
          44.021383920000005,
          60.570260000000005,
          79.67963999999999,
          49.356247999999994,
          53.0224,
          68.0663,
          48.3503,
          60.072184,
          16.9007387,
          35.3922192,
          81.74483000000001,
          47.0,
          91.73128,
          31.630049999999997,
          6.726400000000002,
          67.0537,
          26.155751,
          77.34716900000001,
          71.59857,
          73.22885000000001,
          79.12926999999999,
          69.3596,
          76.8172,
          95.13632,
          85.58968,
          90.26777,
          34.3776685,
          74.720507,
          36.261199999999995,
          52.35138,
          97.78931,
          59.579232999999995,
          61.8575,
          79.26977000000001,
          30.233546,
          58.2863,
          77.7863,
          75.2676,
          44.476203000000005,
          27.580000000000002,
          69.35444,
          9.9407,
          81.8206,
          49.459289999999996,
          70.59469,
          69.09542,
          74.49676,
          28.678715,
          73.25498999999999,
          50.0156,
          50.24439999999999,
          35.598301,
          36.0386004,
          31.774106,
          85.84616,
          40.7521,
          36.821200000000005,
          55.1142,
          72.26289,
          71.08716000000001,
          82.19901,
          21.117718,
          75.94966,
          9.836286,
          78.502116,
          76.3747,
          68.5194,
          54.050700000000006,
          79.3339,
          88.529253,
          67.78046,
          58.2404,
          77.825752,
          50.5624,
          85.52638999999999,
          17.6122996,
          31.043128000000003,
          32.160066
         ],
         "type": "choropleth"
        }
       ],
       "layout": {
        "template": {
         "data": {
          "histogram2dcontour": [
           {
            "type": "histogram2dcontour",
            "colorbar": {
             "outlinewidth": 0,
             "ticks": ""
            },
            "colorscale": [
             [
              0.0,
              "#0d0887"
             ],
             [
              0.1111111111111111,
              "#46039f"
             ],
             [
              0.2222222222222222,
              "#7201a8"
             ],
             [
              0.3333333333333333,
              "#9c179e"
             ],
             [
              0.4444444444444444,
              "#bd3786"
             ],
             [
              0.5555555555555556,
              "#d8576b"
             ],
             [
              0.6666666666666666,
              "#ed7953"
             ],
             [
              0.7777777777777778,
              "#fb9f3a"
             ],
             [
              0.8888888888888888,
              "#fdca26"
             ],
             [
              1.0,
              "#f0f921"
             ]
            ]
           }
          ],
          "choropleth": [
           {
            "type": "choropleth",
            "colorbar": {
             "outlinewidth": 0,
             "ticks": ""
            }
           }
          ],
          "histogram2d": [
           {
            "type": "histogram2d",
            "colorbar": {
             "outlinewidth": 0,
             "ticks": ""
            },
            "colorscale": [
             [
              0.0,
              "#0d0887"
             ],
             [
              0.1111111111111111,
              "#46039f"
             ],
             [
              0.2222222222222222,
              "#7201a8"
             ],
             [
              0.3333333333333333,
              "#9c179e"
             ],
             [
              0.4444444444444444,
              "#bd3786"
             ],
             [
              0.5555555555555556,
              "#d8576b"
             ],
             [
              0.6666666666666666,
              "#ed7953"
             ],
             [
              0.7777777777777778,
              "#fb9f3a"
             ],
             [
              0.8888888888888888,
              "#fdca26"
             ],
             [
              1.0,
              "#f0f921"
             ]
            ]
           }
          ],
          "heatmap": [
           {
            "type": "heatmap",
            "colorbar": {
             "outlinewidth": 0,
             "ticks": ""
            },
            "colorscale": [
             [
              0.0,
              "#0d0887"
             ],
             [
              0.1111111111111111,
              "#46039f"
             ],
             [
              0.2222222222222222,
              "#7201a8"
             ],
             [
              0.3333333333333333,
              "#9c179e"
             ],
             [
              0.4444444444444444,
              "#bd3786"
             ],
             [
              0.5555555555555556,
              "#d8576b"
             ],
             [
              0.6666666666666666,
              "#ed7953"
             ],
             [
              0.7777777777777778,
              "#fb9f3a"
             ],
             [
              0.8888888888888888,
              "#fdca26"
             ],
             [
              1.0,
              "#f0f921"
             ]
            ]
           }
          ],
          "heatmapgl": [
           {
            "type": "heatmapgl",
            "colorbar": {
             "outlinewidth": 0,
             "ticks": ""
            },
            "colorscale": [
             [
              0.0,
              "#0d0887"
             ],
             [
              0.1111111111111111,
              "#46039f"
             ],
             [
              0.2222222222222222,
              "#7201a8"
             ],
             [
              0.3333333333333333,
              "#9c179e"
             ],
             [
              0.4444444444444444,
              "#bd3786"
             ],
             [
              0.5555555555555556,
              "#d8576b"
             ],
             [
              0.6666666666666666,
              "#ed7953"
             ],
             [
              0.7777777777777778,
              "#fb9f3a"
             ],
             [
              0.8888888888888888,
              "#fdca26"
             ],
             [
              1.0,
              "#f0f921"
             ]
            ]
           }
          ],
          "contourcarpet": [
           {
            "type": "contourcarpet",
            "colorbar": {
             "outlinewidth": 0,
             "ticks": ""
            }
           }
          ],
          "contour": [
           {
            "type": "contour",
            "colorbar": {
             "outlinewidth": 0,
             "ticks": ""
            },
            "colorscale": [
             [
              0.0,
              "#0d0887"
             ],
             [
              0.1111111111111111,
              "#46039f"
             ],
             [
              0.2222222222222222,
              "#7201a8"
             ],
             [
              0.3333333333333333,
              "#9c179e"
             ],
             [
              0.4444444444444444,
              "#bd3786"
             ],
             [
              0.5555555555555556,
              "#d8576b"
             ],
             [
              0.6666666666666666,
              "#ed7953"
             ],
             [
              0.7777777777777778,
              "#fb9f3a"
             ],
             [
              0.8888888888888888,
              "#fdca26"
             ],
             [
              1.0,
              "#f0f921"
             ]
            ]
           }
          ],
          "surface": [
           {
            "type": "surface",
            "colorbar": {
             "outlinewidth": 0,
             "ticks": ""
            },
            "colorscale": [
             [
              0.0,
              "#0d0887"
             ],
             [
              0.1111111111111111,
              "#46039f"
             ],
             [
              0.2222222222222222,
              "#7201a8"
             ],
             [
              0.3333333333333333,
              "#9c179e"
             ],
             [
              0.4444444444444444,
              "#bd3786"
             ],
             [
              0.5555555555555556,
              "#d8576b"
             ],
             [
              0.6666666666666666,
              "#ed7953"
             ],
             [
              0.7777777777777778,
              "#fb9f3a"
             ],
             [
              0.8888888888888888,
              "#fdca26"
             ],
             [
              1.0,
              "#f0f921"
             ]
            ]
           }
          ],
          "mesh3d": [
           {
            "type": "mesh3d",
            "colorbar": {
             "outlinewidth": 0,
             "ticks": ""
            }
           }
          ],
          "scatter": [
           {
            "fillpattern": {
             "fillmode": "overlay",
             "size": 10,
             "solidity": 0.2
            },
            "type": "scatter"
           }
          ],
          "parcoords": [
           {
            "type": "parcoords",
            "line": {
             "colorbar": {
              "outlinewidth": 0,
              "ticks": ""
             }
            }
           }
          ],
          "scatterpolargl": [
           {
            "type": "scatterpolargl",
            "marker": {
             "colorbar": {
              "outlinewidth": 0,
              "ticks": ""
             }
            }
           }
          ],
          "bar": [
           {
            "error_x": {
             "color": "#2a3f5f"
            },
            "error_y": {
             "color": "#2a3f5f"
            },
            "marker": {
             "line": {
              "color": "#E5ECF6",
              "width": 0.5
             },
             "pattern": {
              "fillmode": "overlay",
              "size": 10,
              "solidity": 0.2
             }
            },
            "type": "bar"
           }
          ],
          "scattergeo": [
           {
            "type": "scattergeo",
            "marker": {
             "colorbar": {
              "outlinewidth": 0,
              "ticks": ""
             }
            }
           }
          ],
          "scatterpolar": [
           {
            "type": "scatterpolar",
            "marker": {
             "colorbar": {
              "outlinewidth": 0,
              "ticks": ""
             }
            }
           }
          ],
          "histogram": [
           {
            "marker": {
             "pattern": {
              "fillmode": "overlay",
              "size": 10,
              "solidity": 0.2
             }
            },
            "type": "histogram"
           }
          ],
          "scattergl": [
           {
            "type": "scattergl",
            "marker": {
             "colorbar": {
              "outlinewidth": 0,
              "ticks": ""
             }
            }
           }
          ],
          "scatter3d": [
           {
            "type": "scatter3d",
            "line": {
             "colorbar": {
              "outlinewidth": 0,
              "ticks": ""
             }
            },
            "marker": {
             "colorbar": {
              "outlinewidth": 0,
              "ticks": ""
             }
            }
           }
          ],
          "scattermapbox": [
           {
            "type": "scattermapbox",
            "marker": {
             "colorbar": {
              "outlinewidth": 0,
              "ticks": ""
             }
            }
           }
          ],
          "scatterternary": [
           {
            "type": "scatterternary",
            "marker": {
             "colorbar": {
              "outlinewidth": 0,
              "ticks": ""
             }
            }
           }
          ],
          "scattercarpet": [
           {
            "type": "scattercarpet",
            "marker": {
             "colorbar": {
              "outlinewidth": 0,
              "ticks": ""
             }
            }
           }
          ],
          "carpet": [
           {
            "aaxis": {
             "endlinecolor": "#2a3f5f",
             "gridcolor": "white",
             "linecolor": "white",
             "minorgridcolor": "white",
             "startlinecolor": "#2a3f5f"
            },
            "baxis": {
             "endlinecolor": "#2a3f5f",
             "gridcolor": "white",
             "linecolor": "white",
             "minorgridcolor": "white",
             "startlinecolor": "#2a3f5f"
            },
            "type": "carpet"
           }
          ],
          "table": [
           {
            "cells": {
             "fill": {
              "color": "#EBF0F8"
             },
             "line": {
              "color": "white"
             }
            },
            "header": {
             "fill": {
              "color": "#C8D4E3"
             },
             "line": {
              "color": "white"
             }
            },
            "type": "table"
           }
          ],
          "barpolar": [
           {
            "marker": {
             "line": {
              "color": "#E5ECF6",
              "width": 0.5
             },
             "pattern": {
              "fillmode": "overlay",
              "size": 10,
              "solidity": 0.2
             }
            },
            "type": "barpolar"
           }
          ],
          "pie": [
           {
            "automargin": true,
            "type": "pie"
           }
          ]
         },
         "layout": {
          "autotypenumbers": "strict",
          "colorway": [
           "#636efa",
           "#EF553B",
           "#00cc96",
           "#ab63fa",
           "#FFA15A",
           "#19d3f3",
           "#FF6692",
           "#B6E880",
           "#FF97FF",
           "#FECB52"
          ],
          "font": {
           "color": "#2a3f5f"
          },
          "hovermode": "closest",
          "hoverlabel": {
           "align": "left"
          },
          "paper_bgcolor": "white",
          "plot_bgcolor": "#E5ECF6",
          "polar": {
           "bgcolor": "#E5ECF6",
           "angularaxis": {
            "gridcolor": "white",
            "linecolor": "white",
            "ticks": ""
           },
           "radialaxis": {
            "gridcolor": "white",
            "linecolor": "white",
            "ticks": ""
           }
          },
          "ternary": {
           "bgcolor": "#E5ECF6",
           "aaxis": {
            "gridcolor": "white",
            "linecolor": "white",
            "ticks": ""
           },
           "baxis": {
            "gridcolor": "white",
            "linecolor": "white",
            "ticks": ""
           },
           "caxis": {
            "gridcolor": "white",
            "linecolor": "white",
            "ticks": ""
           }
          },
          "coloraxis": {
           "colorbar": {
            "outlinewidth": 0,
            "ticks": ""
           }
          },
          "colorscale": {
           "sequential": [
            [
             0.0,
             "#0d0887"
            ],
            [
             0.1111111111111111,
             "#46039f"
            ],
            [
             0.2222222222222222,
             "#7201a8"
            ],
            [
             0.3333333333333333,
             "#9c179e"
            ],
            [
             0.4444444444444444,
             "#bd3786"
            ],
            [
             0.5555555555555556,
             "#d8576b"
            ],
            [
             0.6666666666666666,
             "#ed7953"
            ],
            [
             0.7777777777777778,
             "#fb9f3a"
            ],
            [
             0.8888888888888888,
             "#fdca26"
            ],
            [
             1.0,
             "#f0f921"
            ]
           ],
           "sequentialminus": [
            [
             0.0,
             "#0d0887"
            ],
            [
             0.1111111111111111,
             "#46039f"
            ],
            [
             0.2222222222222222,
             "#7201a8"
            ],
            [
             0.3333333333333333,
             "#9c179e"
            ],
            [
             0.4444444444444444,
             "#bd3786"
            ],
            [
             0.5555555555555556,
             "#d8576b"
            ],
            [
             0.6666666666666666,
             "#ed7953"
            ],
            [
             0.7777777777777778,
             "#fb9f3a"
            ],
            [
             0.8888888888888888,
             "#fdca26"
            ],
            [
             1.0,
             "#f0f921"
            ]
           ],
           "diverging": [
            [
             0,
             "#8e0152"
            ],
            [
             0.1,
             "#c51b7d"
            ],
            [
             0.2,
             "#de77ae"
            ],
            [
             0.3,
             "#f1b6da"
            ],
            [
             0.4,
             "#fde0ef"
            ],
            [
             0.5,
             "#f7f7f7"
            ],
            [
             0.6,
             "#e6f5d0"
            ],
            [
             0.7,
             "#b8e186"
            ],
            [
             0.8,
             "#7fbc41"
            ],
            [
             0.9,
             "#4d9221"
            ],
            [
             1,
             "#276419"
            ]
           ]
          },
          "xaxis": {
           "gridcolor": "white",
           "linecolor": "white",
           "ticks": "",
           "title": {
            "standoff": 15
           },
           "zerolinecolor": "white",
           "automargin": true,
           "zerolinewidth": 2
          },
          "yaxis": {
           "gridcolor": "white",
           "linecolor": "white",
           "ticks": "",
           "title": {
            "standoff": 15
           },
           "zerolinecolor": "white",
           "automargin": true,
           "zerolinewidth": 2
          },
          "scene": {
           "xaxis": {
            "backgroundcolor": "#E5ECF6",
            "gridcolor": "white",
            "linecolor": "white",
            "showbackground": true,
            "ticks": "",
            "zerolinecolor": "white",
            "gridwidth": 2
           },
           "yaxis": {
            "backgroundcolor": "#E5ECF6",
            "gridcolor": "white",
            "linecolor": "white",
            "showbackground": true,
            "ticks": "",
            "zerolinecolor": "white",
            "gridwidth": 2
           },
           "zaxis": {
            "backgroundcolor": "#E5ECF6",
            "gridcolor": "white",
            "linecolor": "white",
            "showbackground": true,
            "ticks": "",
            "zerolinecolor": "white",
            "gridwidth": 2
           }
          },
          "shapedefaults": {
           "line": {
            "color": "#2a3f5f"
           }
          },
          "annotationdefaults": {
           "arrowcolor": "#2a3f5f",
           "arrowhead": 0,
           "arrowwidth": 1
          },
          "geo": {
           "bgcolor": "white",
           "landcolor": "#E5ECF6",
           "subunitcolor": "white",
           "showland": true,
           "showlakes": true,
           "lakecolor": "white"
          },
          "title": {
           "x": 0.05
          },
          "mapbox": {
           "style": "light"
          }
         }
        },
        "geo": {
         "domain": {
          "x": [
           0.0,
           1.0
          ],
          "y": [
           0.0,
           1.0
          ]
         },
         "center": {}
        },
        "coloraxis": {
         "colorbar": {
          "title": {
           "text": "growth"
          }
         },
         "colorscale": [
          [
           0.0,
           "#0d0887"
          ],
          [
           0.1111111111111111,
           "#46039f"
          ],
          [
           0.2222222222222222,
           "#7201a8"
          ],
          [
           0.3333333333333333,
           "#9c179e"
          ],
          [
           0.4444444444444444,
           "#bd3786"
          ],
          [
           0.5555555555555556,
           "#d8576b"
          ],
          [
           0.6666666666666666,
           "#ed7953"
          ],
          [
           0.7777777777777778,
           "#fb9f3a"
          ],
          [
           0.8888888888888888,
           "#fdca26"
          ],
          [
           1.0,
           "#f0f921"
          ]
         ]
        },
        "legend": {
         "tracegroupgap": 0
        },
        "margin": {
         "t": 60
        },
        "title": {
         "text": "Internet usage growth rate"
        }
       },
       "config": {
        "plotlyServerURL": "https://plot.ly"
       }
      },
      "text/html": [
       "<div>                            <div id=\"a31c4950-698c-4092-9136-884a5d52f444\" class=\"plotly-graph-div\" style=\"height:525px; width:100%;\"></div>            <script type=\"text/javascript\">                require([\"plotly\"], function(Plotly) {                    window.PLOTLYENV=window.PLOTLYENV || {};                                    if (document.getElementById(\"a31c4950-698c-4092-9136-884a5d52f444\")) {                    Plotly.newPlot(                        \"a31c4950-698c-4092-9136-884a5d52f444\",                        [{\"coloraxis\":\"coloraxis\",\"geo\":\"geo\",\"hovertemplate\":\"\\u003cb\\u003e%{hovertext}\\u003c\\u002fb\\u003e\\u003cbr\\u003e\\u003cbr\\u003eCountry Code=%{location}\\u003cbr\\u003egrowth=%{z}\\u003cextra\\u003e\\u003c\\u002fextra\\u003e\",\"hovertext\":[\"Afghanistan\",\"Albania\",\"Algeria\",\"Andorra\",\"Angola\",\"Antigua and Barbuda\",\"Argentina\",\"Armenia\",\"Aruba\",\"Australia\",\"Austria\",\"Azerbaijan\",\"Bahamas, The\",\"Bahrain\",\"Bangladesh\",\"Barbados\",\"Belarus\",\"Belgium\",\"Belize\",\"Benin\",\"Bermuda\",\"Bhutan\",\"Bolivia\",\"Bosnia and Herzegovina\",\"Botswana\",\"Brazil\",\"British Virgin Islands\",\"Brunei Darussalam\",\"Bulgaria\",\"Burkina Faso\",\"Burundi\",\"Cabo Verde\",\"Cambodia\",\"Cameroon\",\"Canada\",\"Cayman Islands\",\"Central African Republic\",\"Chad\",\"Chile\",\"China\",\"Colombia\",\"Comoros\",\"Congo, Dem. Rep.\",\"Congo, Rep.\",\"Costa Rica\",\"Cote d'Ivoire\",\"Croatia\",\"Cuba\",\"Curacao\",\"Cyprus\",\"Czechia\",\"Denmark\",\"Djibouti\",\"Dominica\",\"Dominican Republic\",\"Ecuador\",\"Egypt, Arab Rep.\",\"El Salvador\",\"Equatorial Guinea\",\"Eritrea\",\"Estonia\",\"Eswatini\",\"Ethiopia\",\"Faroe Islands\",\"Fiji\",\"Finland\",\"France\",\"French Polynesia\",\"Gabon\",\"Gambia, The\",\"Georgia\",\"Germany\",\"Ghana\",\"Gibraltar\",\"Greece\",\"Greenland\",\"Grenada\",\"Guam\",\"Guatemala\",\"Guinea\",\"Guinea-Bissau\",\"Guyana\",\"Haiti\",\"Honduras\",\"Hong Kong SAR, China\",\"Hungary\",\"Iceland\",\"India\",\"Indonesia\",\"Iran, Islamic Rep.\",\"Iraq\",\"Ireland\",\"Israel\",\"Italy\",\"Jamaica\",\"Japan\",\"Jordan\",\"Kazakhstan\",\"Kenya\",\"Kiribati\",\"Korea, Dem. People's Rep.\",\"Korea, Rep.\",\"Kosovo\",\"Kuwait\",\"Kyrgyz Republic\",\"Lao PDR\",\"Latvia\",\"Lebanon\",\"Lesotho\",\"Liberia\",\"Libya\",\"Liechtenstein\",\"Lithuania\",\"Luxembourg\",\"Macao SAR, China\",\"Madagascar\",\"Malawi\",\"Malaysia\",\"Maldives\",\"Mali\",\"Malta\",\"Marshall Islands\",\"Mauritania\",\"Mauritius\",\"Mexico\",\"Micronesia, Fed. Sts.\",\"Moldova\",\"Monaco\",\"Mongolia\",\"Montenegro\",\"Morocco\",\"Mozambique\",\"Myanmar\",\"Namibia\",\"Nauru\",\"Nepal\",\"Netherlands\",\"New Caledonia\",\"New Zealand\",\"Nicaragua\",\"Niger\",\"Nigeria\",\"North Macedonia\",\"Norway\",\"Oman\",\"Pakistan\",\"Palau\",\"Panama\",\"Papua New Guinea\",\"Paraguay\",\"Peru\",\"Philippines\",\"Poland\",\"Portugal\",\"Puerto Rico\",\"Qatar\",\"Romania\",\"Russian Federation\",\"Rwanda\",\"Samoa\",\"San Marino\",\"Sao Tome and Principe\",\"Saudi Arabia\",\"Senegal\",\"Serbia\",\"Seychelles\",\"Sierra Leone\",\"Singapore\",\"Slovak Republic\",\"Slovenia\",\"Solomon Islands\",\"Somalia\",\"South Africa\",\"South Sudan\",\"Spain\",\"Sri Lanka\",\"St. Kitts and Nevis\",\"St. Lucia\",\"St. Vincent and the Grenadines\",\"Sudan\",\"Suriname\",\"Sweden\",\"Switzerland\",\"Syrian Arab Republic\",\"Tajikistan\",\"Tanzania\",\"Thailand\",\"Timor-Leste\",\"Togo\",\"Tonga\",\"Trinidad and Tobago\",\"Tunisia\",\"Turkiye\",\"Turkmenistan\",\"Tuvalu\",\"Uganda\",\"Ukraine\",\"United Arab Emirates\",\"United Kingdom\",\"United States\",\"Uruguay\",\"Uzbekistan\",\"Vanuatu\",\"Venezuela, RB\",\"Viet Nam\",\"Virgin Islands (U.S.)\",\"West Bank and Gaza\",\"Yemen, Rep.\",\"Zambia\",\"Zimbabwe\"],\"locations\":[\"AFG\",\"ALB\",\"DZA\",\"AND\",\"AGO\",\"ATG\",\"ARG\",\"ARM\",\"ABW\",\"AUS\",\"AUT\",\"AZE\",\"BHS\",\"BHR\",\"BGD\",\"BRB\",\"BLR\",\"BEL\",\"BLZ\",\"BEN\",\"BMU\",\"BTN\",\"BOL\",\"BIH\",\"BWA\",\"BRA\",\"VGB\",\"BRN\",\"BGR\",\"BFA\",\"BDI\",\"CPV\",\"KHM\",\"CMR\",\"CAN\",\"CYM\",\"CAF\",\"TCD\",\"CHL\",\"CHN\",\"COL\",\"COM\",\"COD\",\"COG\",\"CRI\",\"CIV\",\"HRV\",\"CUB\",\"CUW\",\"CYP\",\"CZE\",\"DNK\",\"DJI\",\"DMA\",\"DOM\",\"ECU\",\"EGY\",\"SLV\",\"GNQ\",\"ERI\",\"EST\",\"SWZ\",\"ETH\",\"FRO\",\"FJI\",\"FIN\",\"FRA\",\"PYF\",\"GAB\",\"GMB\",\"GEO\",\"DEU\",\"GHA\",\"GIB\",\"GRC\",\"GRL\",\"GRD\",\"GUM\",\"GTM\",\"GIN\",\"GNB\",\"GUY\",\"HTI\",\"HND\",\"HKG\",\"HUN\",\"ISL\",\"IND\",\"IDN\",\"IRN\",\"IRQ\",\"IRL\",\"ISR\",\"ITA\",\"JAM\",\"JPN\",\"JOR\",\"KAZ\",\"KEN\",\"KIR\",\"PRK\",\"KOR\",\"XKX\",\"KWT\",\"KGZ\",\"LAO\",\"LVA\",\"LBN\",\"LSO\",\"LBR\",\"LBY\",\"LIE\",\"LTU\",\"LUX\",\"MAC\",\"MDG\",\"MWI\",\"MYS\",\"MDV\",\"MLI\",\"MLT\",\"MHL\",\"MRT\",\"MUS\",\"MEX\",\"FSM\",\"MDA\",\"MCO\",\"MNG\",\"MNE\",\"MAR\",\"MOZ\",\"MMR\",\"NAM\",\"NRU\",\"NPL\",\"NLD\",\"NCL\",\"NZL\",\"NIC\",\"NER\",\"NGA\",\"MKD\",\"NOR\",\"OMN\",\"PAK\",\"PLW\",\"PAN\",\"PNG\",\"PRY\",\"PER\",\"PHL\",\"POL\",\"PRT\",\"PRI\",\"QAT\",\"ROU\",\"RUS\",\"RWA\",\"WSM\",\"SMR\",\"STP\",\"SAU\",\"SEN\",\"SRB\",\"SYC\",\"SLE\",\"SGP\",\"SVK\",\"SVN\",\"SLB\",\"SOM\",\"ZAF\",\"SSD\",\"ESP\",\"LKA\",\"KNA\",\"LCA\",\"VCT\",\"SDN\",\"SUR\",\"SWE\",\"CHE\",\"SYR\",\"TJK\",\"TZA\",\"THA\",\"TLS\",\"TGO\",\"TON\",\"TTO\",\"TUN\",\"TUR\",\"TKM\",\"TUV\",\"UGA\",\"UKR\",\"ARE\",\"GBR\",\"USA\",\"URY\",\"UZB\",\"VUT\",\"VEN\",\"VNM\",\"VIR\",\"PSE\",\"YEM\",\"ZMB\",\"ZWE\"],\"name\":\"\",\"z\":[18.39527743,83.021503,70.75149400000001,83.9467,39.188454,84.93007,82.19032,75.72722999999999,81.7272,48.120099999999994,61.6046,87.852242,86.4117,93.84627,44.4316606,72.23161999999999,89.6521,65.19460000000001,64.39016,33.534952,55.420100000000005,86.439356,71.84034,82.29424,74.42453,81.27991,58.8186,89.97412,75.01868,19.8466198,11.1977516,70.27965999999999,56.6857774,43.610780000000005,42.7,43.033300000000004,10.5292454,12.1481929,77.51920000000001,75.70679,70.58887,27.0652022,27.234097889999997,36.2205453,79.32674999999999,38.181838,76.59632,72.676617,6.271700000000003,75.9658,76.21357,59.603199999999994,64.837699,74.56186,80.67851,71.23210999999999,71.55683499999999,61.7111,66.686945,26.457488,64.60640000000001,57.324008,19.3628362,64.66559999999998,83.72305,56.26540000000001,72.5285,66.34684,72.47896,53.268105,81.399454,62.260099999999994,69.686885,75.31290000000001,75.87136,37.734700000000004,75.83159,64.3924,53.691967,33.827575100000004,31.336897,84.7163,38.7137473,58.509640000000005,67.78580000000001,84.45042000000001,55.385999999999996,42.877868,68.282836,80.78281,78.6156,77.74000000000001,70.977,63.9169,82.00272,54.9327,87.87672,92.209906,40.495639999999995,52.63617,0.0,52.715999999999994,5.5493999999999915,93.0159,78.72890000000001,66.04375599999999,85.86884,82.09946,46.824994,30.1097973,88.241057,60.28939999999999,82.07583,76.4606,76.1778,20.381305,17.873219,76.308,81.70803000000001,32.910253999999995,78.8018,71.68952999999999,44.169569,68.21846,76.10182,36.80854,62.25205,56.1927,82.65885,62.87180000000001,89.206209,21.097407,44.021383920000005,60.570260000000005,79.67963999999999,49.356247999999994,53.0224,68.0663,48.3503,60.072184,16.9007387,35.3922192,81.74483000000001,47.0,91.73128,31.630049999999997,6.726400000000002,67.0537,26.155751,77.34716900000001,71.59857,73.22885000000001,79.12926999999999,69.3596,76.8172,95.13632,85.58968,90.26777,34.3776685,74.720507,36.261199999999995,52.35138,97.78931,59.579232999999995,61.8575,79.26977000000001,30.233546,58.2863,77.7863,75.2676,44.476203000000005,27.580000000000002,69.35444,9.9407,81.8206,49.459289999999996,70.59469,69.09542,74.49676,28.678715,73.25498999999999,50.0156,50.24439999999999,35.598301,36.0386004,31.774106,85.84616,40.7521,36.821200000000005,55.1142,72.26289,71.08716000000001,82.19901,21.117718,75.94966,9.836286,78.502116,76.3747,68.5194,54.050700000000006,79.3339,88.529253,67.78046,58.2404,77.825752,50.5624,85.52638999999999,17.6122996,31.043128000000003,32.160066],\"type\":\"choropleth\"}],                        {\"template\":{\"data\":{\"histogram2dcontour\":[{\"type\":\"histogram2dcontour\",\"colorbar\":{\"outlinewidth\":0,\"ticks\":\"\"},\"colorscale\":[[0.0,\"#0d0887\"],[0.1111111111111111,\"#46039f\"],[0.2222222222222222,\"#7201a8\"],[0.3333333333333333,\"#9c179e\"],[0.4444444444444444,\"#bd3786\"],[0.5555555555555556,\"#d8576b\"],[0.6666666666666666,\"#ed7953\"],[0.7777777777777778,\"#fb9f3a\"],[0.8888888888888888,\"#fdca26\"],[1.0,\"#f0f921\"]]}],\"choropleth\":[{\"type\":\"choropleth\",\"colorbar\":{\"outlinewidth\":0,\"ticks\":\"\"}}],\"histogram2d\":[{\"type\":\"histogram2d\",\"colorbar\":{\"outlinewidth\":0,\"ticks\":\"\"},\"colorscale\":[[0.0,\"#0d0887\"],[0.1111111111111111,\"#46039f\"],[0.2222222222222222,\"#7201a8\"],[0.3333333333333333,\"#9c179e\"],[0.4444444444444444,\"#bd3786\"],[0.5555555555555556,\"#d8576b\"],[0.6666666666666666,\"#ed7953\"],[0.7777777777777778,\"#fb9f3a\"],[0.8888888888888888,\"#fdca26\"],[1.0,\"#f0f921\"]]}],\"heatmap\":[{\"type\":\"heatmap\",\"colorbar\":{\"outlinewidth\":0,\"ticks\":\"\"},\"colorscale\":[[0.0,\"#0d0887\"],[0.1111111111111111,\"#46039f\"],[0.2222222222222222,\"#7201a8\"],[0.3333333333333333,\"#9c179e\"],[0.4444444444444444,\"#bd3786\"],[0.5555555555555556,\"#d8576b\"],[0.6666666666666666,\"#ed7953\"],[0.7777777777777778,\"#fb9f3a\"],[0.8888888888888888,\"#fdca26\"],[1.0,\"#f0f921\"]]}],\"heatmapgl\":[{\"type\":\"heatmapgl\",\"colorbar\":{\"outlinewidth\":0,\"ticks\":\"\"},\"colorscale\":[[0.0,\"#0d0887\"],[0.1111111111111111,\"#46039f\"],[0.2222222222222222,\"#7201a8\"],[0.3333333333333333,\"#9c179e\"],[0.4444444444444444,\"#bd3786\"],[0.5555555555555556,\"#d8576b\"],[0.6666666666666666,\"#ed7953\"],[0.7777777777777778,\"#fb9f3a\"],[0.8888888888888888,\"#fdca26\"],[1.0,\"#f0f921\"]]}],\"contourcarpet\":[{\"type\":\"contourcarpet\",\"colorbar\":{\"outlinewidth\":0,\"ticks\":\"\"}}],\"contour\":[{\"type\":\"contour\",\"colorbar\":{\"outlinewidth\":0,\"ticks\":\"\"},\"colorscale\":[[0.0,\"#0d0887\"],[0.1111111111111111,\"#46039f\"],[0.2222222222222222,\"#7201a8\"],[0.3333333333333333,\"#9c179e\"],[0.4444444444444444,\"#bd3786\"],[0.5555555555555556,\"#d8576b\"],[0.6666666666666666,\"#ed7953\"],[0.7777777777777778,\"#fb9f3a\"],[0.8888888888888888,\"#fdca26\"],[1.0,\"#f0f921\"]]}],\"surface\":[{\"type\":\"surface\",\"colorbar\":{\"outlinewidth\":0,\"ticks\":\"\"},\"colorscale\":[[0.0,\"#0d0887\"],[0.1111111111111111,\"#46039f\"],[0.2222222222222222,\"#7201a8\"],[0.3333333333333333,\"#9c179e\"],[0.4444444444444444,\"#bd3786\"],[0.5555555555555556,\"#d8576b\"],[0.6666666666666666,\"#ed7953\"],[0.7777777777777778,\"#fb9f3a\"],[0.8888888888888888,\"#fdca26\"],[1.0,\"#f0f921\"]]}],\"mesh3d\":[{\"type\":\"mesh3d\",\"colorbar\":{\"outlinewidth\":0,\"ticks\":\"\"}}],\"scatter\":[{\"fillpattern\":{\"fillmode\":\"overlay\",\"size\":10,\"solidity\":0.2},\"type\":\"scatter\"}],\"parcoords\":[{\"type\":\"parcoords\",\"line\":{\"colorbar\":{\"outlinewidth\":0,\"ticks\":\"\"}}}],\"scatterpolargl\":[{\"type\":\"scatterpolargl\",\"marker\":{\"colorbar\":{\"outlinewidth\":0,\"ticks\":\"\"}}}],\"bar\":[{\"error_x\":{\"color\":\"#2a3f5f\"},\"error_y\":{\"color\":\"#2a3f5f\"},\"marker\":{\"line\":{\"color\":\"#E5ECF6\",\"width\":0.5},\"pattern\":{\"fillmode\":\"overlay\",\"size\":10,\"solidity\":0.2}},\"type\":\"bar\"}],\"scattergeo\":[{\"type\":\"scattergeo\",\"marker\":{\"colorbar\":{\"outlinewidth\":0,\"ticks\":\"\"}}}],\"scatterpolar\":[{\"type\":\"scatterpolar\",\"marker\":{\"colorbar\":{\"outlinewidth\":0,\"ticks\":\"\"}}}],\"histogram\":[{\"marker\":{\"pattern\":{\"fillmode\":\"overlay\",\"size\":10,\"solidity\":0.2}},\"type\":\"histogram\"}],\"scattergl\":[{\"type\":\"scattergl\",\"marker\":{\"colorbar\":{\"outlinewidth\":0,\"ticks\":\"\"}}}],\"scatter3d\":[{\"type\":\"scatter3d\",\"line\":{\"colorbar\":{\"outlinewidth\":0,\"ticks\":\"\"}},\"marker\":{\"colorbar\":{\"outlinewidth\":0,\"ticks\":\"\"}}}],\"scattermapbox\":[{\"type\":\"scattermapbox\",\"marker\":{\"colorbar\":{\"outlinewidth\":0,\"ticks\":\"\"}}}],\"scatterternary\":[{\"type\":\"scatterternary\",\"marker\":{\"colorbar\":{\"outlinewidth\":0,\"ticks\":\"\"}}}],\"scattercarpet\":[{\"type\":\"scattercarpet\",\"marker\":{\"colorbar\":{\"outlinewidth\":0,\"ticks\":\"\"}}}],\"carpet\":[{\"aaxis\":{\"endlinecolor\":\"#2a3f5f\",\"gridcolor\":\"white\",\"linecolor\":\"white\",\"minorgridcolor\":\"white\",\"startlinecolor\":\"#2a3f5f\"},\"baxis\":{\"endlinecolor\":\"#2a3f5f\",\"gridcolor\":\"white\",\"linecolor\":\"white\",\"minorgridcolor\":\"white\",\"startlinecolor\":\"#2a3f5f\"},\"type\":\"carpet\"}],\"table\":[{\"cells\":{\"fill\":{\"color\":\"#EBF0F8\"},\"line\":{\"color\":\"white\"}},\"header\":{\"fill\":{\"color\":\"#C8D4E3\"},\"line\":{\"color\":\"white\"}},\"type\":\"table\"}],\"barpolar\":[{\"marker\":{\"line\":{\"color\":\"#E5ECF6\",\"width\":0.5},\"pattern\":{\"fillmode\":\"overlay\",\"size\":10,\"solidity\":0.2}},\"type\":\"barpolar\"}],\"pie\":[{\"automargin\":true,\"type\":\"pie\"}]},\"layout\":{\"autotypenumbers\":\"strict\",\"colorway\":[\"#636efa\",\"#EF553B\",\"#00cc96\",\"#ab63fa\",\"#FFA15A\",\"#19d3f3\",\"#FF6692\",\"#B6E880\",\"#FF97FF\",\"#FECB52\"],\"font\":{\"color\":\"#2a3f5f\"},\"hovermode\":\"closest\",\"hoverlabel\":{\"align\":\"left\"},\"paper_bgcolor\":\"white\",\"plot_bgcolor\":\"#E5ECF6\",\"polar\":{\"bgcolor\":\"#E5ECF6\",\"angularaxis\":{\"gridcolor\":\"white\",\"linecolor\":\"white\",\"ticks\":\"\"},\"radialaxis\":{\"gridcolor\":\"white\",\"linecolor\":\"white\",\"ticks\":\"\"}},\"ternary\":{\"bgcolor\":\"#E5ECF6\",\"aaxis\":{\"gridcolor\":\"white\",\"linecolor\":\"white\",\"ticks\":\"\"},\"baxis\":{\"gridcolor\":\"white\",\"linecolor\":\"white\",\"ticks\":\"\"},\"caxis\":{\"gridcolor\":\"white\",\"linecolor\":\"white\",\"ticks\":\"\"}},\"coloraxis\":{\"colorbar\":{\"outlinewidth\":0,\"ticks\":\"\"}},\"colorscale\":{\"sequential\":[[0.0,\"#0d0887\"],[0.1111111111111111,\"#46039f\"],[0.2222222222222222,\"#7201a8\"],[0.3333333333333333,\"#9c179e\"],[0.4444444444444444,\"#bd3786\"],[0.5555555555555556,\"#d8576b\"],[0.6666666666666666,\"#ed7953\"],[0.7777777777777778,\"#fb9f3a\"],[0.8888888888888888,\"#fdca26\"],[1.0,\"#f0f921\"]],\"sequentialminus\":[[0.0,\"#0d0887\"],[0.1111111111111111,\"#46039f\"],[0.2222222222222222,\"#7201a8\"],[0.3333333333333333,\"#9c179e\"],[0.4444444444444444,\"#bd3786\"],[0.5555555555555556,\"#d8576b\"],[0.6666666666666666,\"#ed7953\"],[0.7777777777777778,\"#fb9f3a\"],[0.8888888888888888,\"#fdca26\"],[1.0,\"#f0f921\"]],\"diverging\":[[0,\"#8e0152\"],[0.1,\"#c51b7d\"],[0.2,\"#de77ae\"],[0.3,\"#f1b6da\"],[0.4,\"#fde0ef\"],[0.5,\"#f7f7f7\"],[0.6,\"#e6f5d0\"],[0.7,\"#b8e186\"],[0.8,\"#7fbc41\"],[0.9,\"#4d9221\"],[1,\"#276419\"]]},\"xaxis\":{\"gridcolor\":\"white\",\"linecolor\":\"white\",\"ticks\":\"\",\"title\":{\"standoff\":15},\"zerolinecolor\":\"white\",\"automargin\":true,\"zerolinewidth\":2},\"yaxis\":{\"gridcolor\":\"white\",\"linecolor\":\"white\",\"ticks\":\"\",\"title\":{\"standoff\":15},\"zerolinecolor\":\"white\",\"automargin\":true,\"zerolinewidth\":2},\"scene\":{\"xaxis\":{\"backgroundcolor\":\"#E5ECF6\",\"gridcolor\":\"white\",\"linecolor\":\"white\",\"showbackground\":true,\"ticks\":\"\",\"zerolinecolor\":\"white\",\"gridwidth\":2},\"yaxis\":{\"backgroundcolor\":\"#E5ECF6\",\"gridcolor\":\"white\",\"linecolor\":\"white\",\"showbackground\":true,\"ticks\":\"\",\"zerolinecolor\":\"white\",\"gridwidth\":2},\"zaxis\":{\"backgroundcolor\":\"#E5ECF6\",\"gridcolor\":\"white\",\"linecolor\":\"white\",\"showbackground\":true,\"ticks\":\"\",\"zerolinecolor\":\"white\",\"gridwidth\":2}},\"shapedefaults\":{\"line\":{\"color\":\"#2a3f5f\"}},\"annotationdefaults\":{\"arrowcolor\":\"#2a3f5f\",\"arrowhead\":0,\"arrowwidth\":1},\"geo\":{\"bgcolor\":\"white\",\"landcolor\":\"#E5ECF6\",\"subunitcolor\":\"white\",\"showland\":true,\"showlakes\":true,\"lakecolor\":\"white\"},\"title\":{\"x\":0.05},\"mapbox\":{\"style\":\"light\"}}},\"geo\":{\"domain\":{\"x\":[0.0,1.0],\"y\":[0.0,1.0]},\"center\":{}},\"coloraxis\":{\"colorbar\":{\"title\":{\"text\":\"growth\"}},\"colorscale\":[[0.0,\"#0d0887\"],[0.1111111111111111,\"#46039f\"],[0.2222222222222222,\"#7201a8\"],[0.3333333333333333,\"#9c179e\"],[0.4444444444444444,\"#bd3786\"],[0.5555555555555556,\"#d8576b\"],[0.6666666666666666,\"#ed7953\"],[0.7777777777777778,\"#fb9f3a\"],[0.8888888888888888,\"#fdca26\"],[1.0,\"#f0f921\"]]},\"legend\":{\"tracegroupgap\":0},\"margin\":{\"t\":60},\"title\":{\"text\":\"Internet usage growth rate\"}},                        {\"responsive\": true}                    ).then(function(){\n",
       "                            \n",
       "var gd = document.getElementById('a31c4950-698c-4092-9136-884a5d52f444');\n",
       "var x = new MutationObserver(function (mutations, observer) {{\n",
       "        var display = window.getComputedStyle(gd).display;\n",
       "        if (!display || display === 'none') {{\n",
       "            console.log([gd, 'removed!']);\n",
       "            Plotly.purge(gd);\n",
       "            observer.disconnect();\n",
       "        }}\n",
       "}});\n",
       "\n",
       "// Listen for the removal of the full notebook cells\n",
       "var notebookContainer = gd.closest('#notebook-container');\n",
       "if (notebookContainer) {{\n",
       "    x.observe(notebookContainer, {childList: true});\n",
       "}}\n",
       "\n",
       "// Listen for the clearing of the current output cell\n",
       "var outputEl = gd.closest('.output');\n",
       "if (outputEl) {{\n",
       "    x.observe(outputEl, {childList: true});\n",
       "}}\n",
       "\n",
       "                        })                };                });            </script>        </div>"
      ]
     },
     "metadata": {},
     "output_type": "display_data"
    }
   ],
   "execution_count": 124
  },
  {
   "metadata": {},
   "cell_type": "markdown",
   "source": "- Growth rate map highlights regions with the most significant changes, particularly the Middle East and parts of Asia",
   "id": "ccd5936a6fdd59be"
  }
 ],
 "metadata": {
  "colab": {
   "name": "Welcome to DataCamp Workspaces.ipynb",
   "provenance": []
  },
  "kernelspec": {
   "display_name": "Python 3 (ipykernel)",
   "language": "python",
   "name": "python3"
  },
  "language_info": {
   "codemirror_mode": {
    "name": "ipython",
    "version": 3
   },
   "file_extension": ".py",
   "mimetype": "text/x-python",
   "name": "python",
   "nbconvert_exporter": "python",
   "pygments_lexer": "ipython3",
   "version": "3.10.12"
  }
 },
 "nbformat": 4,
 "nbformat_minor": 5
}
